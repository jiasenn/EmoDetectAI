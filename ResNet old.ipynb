{
 "cells": [
  {
   "attachments": {},
   "cell_type": "markdown",
   "id": "9b1bfa5f",
   "metadata": {},
   "source": [
    "### ResNET is able to outform the CNN model on classification by providing Residual Networks that introduces shortcut connections.\n",
    "- The problem with deeper network is the issue with degradation, and such degradation is not caused by overfitting as adding more layers to a suitably deep model leads to higher training errors\n",
    "- The solution provided by ResNET is to have added layers that are identity mapping where other layers are copied from the learned shallower model\n",
    "- It is also proven that by using deeper ResNET, the error rate decreases.\n",
    "- It is also showned that adding deeper layer such as the model with 1202 layers, even though it shows that the error increases as compared to the one with 110 layers, it was shown in the graph that the training error is similar when comparing the 110 layers and the 1202 layers, showing that the model could have reach a overfitting situation."
   ]
  },
  {
   "cell_type": "code",
   "execution_count": 21,
   "id": "8b4d4617",
   "metadata": {
    "ExecuteTime": {
     "end_time": "2023-02-06T06:33:18.317556Z",
     "start_time": "2023-02-06T06:33:17.773571Z"
    }
   },
   "outputs": [],
   "source": [
    "import torch\n",
    "from torchsummary import summary\n",
    "from torch import nn"
   ]
  },
  {
   "cell_type": "code",
   "execution_count": 22,
   "id": "f403ece6",
   "metadata": {
    "ExecuteTime": {
     "end_time": "2023-02-06T06:33:18.322514Z",
     "start_time": "2023-02-06T06:33:18.318794Z"
    }
   },
   "outputs": [],
   "source": [
    "class ResBlock(nn.Module):\n",
    "    def __init__(self, in_channels, out_channels, downsample):\n",
    "        super().__init__()\n",
    "        if downsample:\n",
    "            self.conv1 = nn.Conv2d(\n",
    "                in_channels, out_channels, kernel_size=3, stride=1, padding=1)\n",
    "            self.shortcut = nn.Sequential(      # shortcut\n",
    "                nn.Conv2d(in_channels, out_channels, kernel_size=1, stride=1),\n",
    "                nn.BatchNorm2d(out_channels)\n",
    "            )\n",
    "        else:\n",
    "            self.conv1 = nn.Conv2d(\n",
    "                in_channels, out_channels, kernel_size=3, stride=1, padding=1)\n",
    "            self.shortcut = nn.Sequential()\n",
    "\n",
    "        self.conv2 = nn.Conv2d(out_channels, out_channels,\n",
    "                               kernel_size=3, stride=1, padding=1)\n",
    "        self.bn1 = nn.BatchNorm2d(out_channels)\n",
    "        self.bn2 = nn.BatchNorm2d(out_channels)\n",
    "\n",
    "    def forward(self, input):\n",
    "        shortcut = self.shortcut(input)\n",
    "        input = nn.ReLU()(self.bn1(self.conv1(input)))\n",
    "        input = nn.ReLU()(self.bn2(self.conv2(input)))\n",
    "        input = input + shortcut\n",
    "        return nn.ReLU()(input)"
   ]
  },
  {
   "attachments": {},
   "cell_type": "markdown",
   "id": "8bc1df0b",
   "metadata": {},
   "source": [
    "#### ResBlock contains downsampling where the shortcut is created to contain 1x1 convolution so it skips some of the layers while retaining the identity function"
   ]
  },
  {
   "cell_type": "code",
   "execution_count": 23,
   "id": "e6122cef",
   "metadata": {
    "ExecuteTime": {
     "end_time": "2023-02-06T06:33:18.635106Z",
     "start_time": "2023-02-06T06:33:18.631001Z"
    }
   },
   "outputs": [],
   "source": [
    "class ResBottleneckBlock(nn.Module):\n",
    "    def __init__(self, in_channels, out_channels, downsample):\n",
    "        super().__init__()\n",
    "        self.downsample = downsample # for shortcut\n",
    "        self.conv1 = nn.Conv2d(in_channels, out_channels//4, # 1x1\n",
    "                               kernel_size=1, stride=1) # 1x1\n",
    "        self.conv2 = nn.Conv2d( # 3x3\n",
    "            out_channels//4, out_channels//4, kernel_size=3, stride=2 if downsample else 1, padding=1)\n",
    "        self.conv3 = nn.Conv2d(out_channels//4, out_channels, kernel_size=1, stride=1) #  1x1\n",
    "\n",
    "        if self.downsample or in_channels != out_channels: # shortcut\n",
    "            self.shortcut = nn.Sequential( # 1x1\n",
    "                nn.Conv2d(in_channels, out_channels, kernel_size=1,\n",
    "                          stride=2 if self.downsample else 1),\n",
    "                nn.BatchNorm2d(out_channels)\n",
    "            )\n",
    "        else:\n",
    "            self.shortcut = nn.Sequential()\n",
    "\n",
    "        self.bn1 = nn.BatchNorm2d(out_channels//4)\n",
    "        self.bn2 = nn.BatchNorm2d(out_channels//4)\n",
    "        self.bn3 = nn.BatchNorm2d(out_channels)\n",
    "\n",
    "    def forward(self, input):\n",
    "        shortcut = self.shortcut(input)\n",
    "        input = nn.ReLU()(self.bn1(self.conv1(input)))\n",
    "        input = nn.ReLU()(self.bn2(self.conv2(input)))\n",
    "        input = nn.ReLU()(self.bn3(self.conv3(input)))\n",
    "        input = input + shortcut\n",
    "        return nn.ReLU()(input)"
   ]
  },
  {
   "cell_type": "code",
   "execution_count": 24,
   "id": "4699dd42",
   "metadata": {
    "ExecuteTime": {
     "end_time": "2023-02-06T06:33:19.296851Z",
     "start_time": "2023-02-06T06:33:19.290696Z"
    }
   },
   "outputs": [],
   "source": [
    "class ResNet(nn.Module):\n",
    "    def __init__(self, in_channels, resblock, repeat, useBottleneck=False, outputs=1000):\n",
    "        super().__init__()\n",
    "        self.layer0 = nn.Sequential(\n",
    "            nn.Conv2d(in_channels, 64, kernel_size=7, stride=2, padding=3),\n",
    "            nn.MaxPool2d(kernel_size=3, stride=2, padding=1),\n",
    "            nn.BatchNorm2d(64),\n",
    "            nn.ReLU()\n",
    "        )\n",
    "\n",
    "        if useBottleneck:\n",
    "            filters = [64, 256, 512, 1024, 2048]\n",
    "        else:\n",
    "            filters = [64, 64, 128, 256, 512]\n",
    "\n",
    "        self.layer1 = nn.Sequential()\n",
    "        self.layer1.add_module('conv2_1', resblock(filters[0], filters[1], downsample=False))\n",
    "        for i in range(1, repeat[0]):\n",
    "                self.layer1.add_module('conv2_%d'%(i+1,), resblock(filters[1], filters[1], downsample=False))\n",
    "\n",
    "        self.layer2 = nn.Sequential()\n",
    "        self.layer2.add_module('conv3_1', resblock(filters[1], filters[2], downsample=True))\n",
    "        for i in range(1, repeat[1]):\n",
    "                self.layer2.add_module('conv3_%d' % (\n",
    "                    i+1,), resblock(filters[2], filters[2], downsample=False))\n",
    "\n",
    "        self.layer3 = nn.Sequential()\n",
    "        self.layer3.add_module('conv4_1', resblock(filters[2], filters[3], downsample=True))\n",
    "        for i in range(1, repeat[2]):\n",
    "            self.layer3.add_module('conv2_%d' % (\n",
    "                i+1,), resblock(filters[3], filters[3], downsample=False))\n",
    "\n",
    "        self.layer4 = nn.Sequential()\n",
    "        self.layer4.add_module('conv5_1', resblock(filters[3], filters[4], downsample=True))\n",
    "        for i in range(1, repeat[3]):\n",
    "            self.layer4.add_module('conv3_%d'%(i+1,),resblock(filters[4], filters[4], downsample=False))\n",
    "\n",
    "        self.gap = torch.nn.AdaptiveAvgPool2d(1)\n",
    "        self.fc = nn.Sequential(\n",
    "             torch.nn.Linear(filters[4], outputs),\n",
    "             torch.nn.Softmax()\n",
    "        )\n",
    "        \n",
    "    def forward(self, input):\n",
    "        input = self.layer0(input)\n",
    "        input = self.layer1(input)\n",
    "        input = self.layer2(input)\n",
    "        input = self.layer3(input)\n",
    "        input = self.layer4(input)\n",
    "        input = self.gap(input)\n",
    "        # torch.flatten()\n",
    "        # https://stackoverflow.com/questions/60115633/pytorch-flatten-doesnt-maintain-batch-size\n",
    "        input = torch.flatten(input, start_dim=1)\n",
    "        input = self.fc(input)\n",
    "\n",
    "        return input"
   ]
  },
  {
   "cell_type": "code",
   "execution_count": 25,
   "id": "bf683a8f",
   "metadata": {
    "ExecuteTime": {
     "end_time": "2023-02-06T06:33:25.335310Z",
     "start_time": "2023-02-06T06:33:19.958393Z"
    }
   },
   "outputs": [
    {
     "name": "stdout",
     "output_type": "stream",
     "text": [
      "----------------------------------------------------------------\n",
      "        Layer (type)               Output Shape         Param #\n",
      "================================================================\n",
      "            Conv2d-1         [-1, 64, 112, 112]           9,472\n",
      "         MaxPool2d-2           [-1, 64, 56, 56]               0\n",
      "       BatchNorm2d-3           [-1, 64, 56, 56]             128\n",
      "              ReLU-4           [-1, 64, 56, 56]               0\n",
      "            Conv2d-5           [-1, 64, 56, 56]          36,928\n",
      "       BatchNorm2d-6           [-1, 64, 56, 56]             128\n",
      "            Conv2d-7           [-1, 64, 56, 56]          36,928\n",
      "       BatchNorm2d-8           [-1, 64, 56, 56]             128\n",
      "          ResBlock-9           [-1, 64, 56, 56]               0\n",
      "           Conv2d-10           [-1, 64, 56, 56]          36,928\n",
      "      BatchNorm2d-11           [-1, 64, 56, 56]             128\n",
      "           Conv2d-12           [-1, 64, 56, 56]          36,928\n",
      "      BatchNorm2d-13           [-1, 64, 56, 56]             128\n",
      "         ResBlock-14           [-1, 64, 56, 56]               0\n",
      "           Conv2d-15          [-1, 128, 56, 56]           8,320\n",
      "      BatchNorm2d-16          [-1, 128, 56, 56]             256\n",
      "           Conv2d-17          [-1, 128, 56, 56]          73,856\n",
      "      BatchNorm2d-18          [-1, 128, 56, 56]             256\n",
      "           Conv2d-19          [-1, 128, 56, 56]         147,584\n",
      "      BatchNorm2d-20          [-1, 128, 56, 56]             256\n",
      "         ResBlock-21          [-1, 128, 56, 56]               0\n",
      "           Conv2d-22          [-1, 128, 56, 56]         147,584\n",
      "      BatchNorm2d-23          [-1, 128, 56, 56]             256\n",
      "           Conv2d-24          [-1, 128, 56, 56]         147,584\n",
      "      BatchNorm2d-25          [-1, 128, 56, 56]             256\n",
      "         ResBlock-26          [-1, 128, 56, 56]               0\n",
      "           Conv2d-27          [-1, 256, 56, 56]          33,024\n",
      "      BatchNorm2d-28          [-1, 256, 56, 56]             512\n",
      "           Conv2d-29          [-1, 256, 56, 56]         295,168\n",
      "      BatchNorm2d-30          [-1, 256, 56, 56]             512\n",
      "           Conv2d-31          [-1, 256, 56, 56]         590,080\n",
      "      BatchNorm2d-32          [-1, 256, 56, 56]             512\n",
      "         ResBlock-33          [-1, 256, 56, 56]               0\n",
      "           Conv2d-34          [-1, 256, 56, 56]         590,080\n",
      "      BatchNorm2d-35          [-1, 256, 56, 56]             512\n",
      "           Conv2d-36          [-1, 256, 56, 56]         590,080\n",
      "      BatchNorm2d-37          [-1, 256, 56, 56]             512\n",
      "         ResBlock-38          [-1, 256, 56, 56]               0\n",
      "           Conv2d-39          [-1, 512, 56, 56]         131,584\n",
      "      BatchNorm2d-40          [-1, 512, 56, 56]           1,024\n",
      "           Conv2d-41          [-1, 512, 56, 56]       1,180,160\n",
      "      BatchNorm2d-42          [-1, 512, 56, 56]           1,024\n",
      "           Conv2d-43          [-1, 512, 56, 56]       2,359,808\n",
      "      BatchNorm2d-44          [-1, 512, 56, 56]           1,024\n",
      "         ResBlock-45          [-1, 512, 56, 56]               0\n",
      "           Conv2d-46          [-1, 512, 56, 56]       2,359,808\n",
      "      BatchNorm2d-47          [-1, 512, 56, 56]           1,024\n",
      "           Conv2d-48          [-1, 512, 56, 56]       2,359,808\n",
      "      BatchNorm2d-49          [-1, 512, 56, 56]           1,024\n",
      "         ResBlock-50          [-1, 512, 56, 56]               0\n",
      "AdaptiveAvgPool2d-51            [-1, 512, 1, 1]               0\n",
      "           Linear-52                    [-1, 7]           3,591\n",
      "          Softmax-53                    [-1, 7]               0\n",
      "================================================================\n",
      "Total params: 11,184,903\n",
      "Trainable params: 11,184,903\n",
      "Non-trainable params: 0\n",
      "----------------------------------------------------------------\n",
      "Input size (MB): 0.57\n",
      "Forward/backward pass size (MB): 283.29\n",
      "Params size (MB): 42.67\n",
      "Estimated Total Size (MB): 326.53\n",
      "----------------------------------------------------------------\n"
     ]
    }
   ],
   "source": [
    "resnet18 = ResNet(3, ResBlock, [2, 2, 2, 2], useBottleneck=False, outputs=7)\n",
    "resnet18.to(torch.device(\"cuda:0\" if torch.cuda.is_available() else \"cpu\"))\n",
    "summary(resnet18, (3, 224, 224))"
   ]
  },
  {
   "cell_type": "code",
   "execution_count": 26,
   "id": "8b1eef2a",
   "metadata": {
    "ExecuteTime": {
     "end_time": "2022-12-21T16:45:41.108397Z",
     "start_time": "2022-12-21T16:45:40.776206Z"
    }
   },
   "outputs": [
    {
     "name": "stdout",
     "output_type": "stream",
     "text": [
      "----------------------------------------------------------------\n",
      "        Layer (type)               Output Shape         Param #\n",
      "================================================================\n",
      "            Conv2d-1         [-1, 64, 112, 112]           9,472\n",
      "         MaxPool2d-2           [-1, 64, 56, 56]               0\n",
      "       BatchNorm2d-3           [-1, 64, 56, 56]             128\n",
      "              ReLU-4           [-1, 64, 56, 56]               0\n",
      "            Conv2d-5          [-1, 256, 56, 56]          16,640\n",
      "       BatchNorm2d-6          [-1, 256, 56, 56]             512\n",
      "            Conv2d-7           [-1, 64, 56, 56]           4,160\n",
      "       BatchNorm2d-8           [-1, 64, 56, 56]             128\n",
      "            Conv2d-9           [-1, 64, 56, 56]          36,928\n",
      "      BatchNorm2d-10           [-1, 64, 56, 56]             128\n",
      "           Conv2d-11          [-1, 256, 56, 56]          16,640\n",
      "      BatchNorm2d-12          [-1, 256, 56, 56]             512\n",
      "ResBottleneckBlock-13          [-1, 256, 56, 56]               0\n",
      "           Conv2d-14           [-1, 64, 56, 56]          16,448\n",
      "      BatchNorm2d-15           [-1, 64, 56, 56]             128\n",
      "           Conv2d-16           [-1, 64, 56, 56]          36,928\n",
      "      BatchNorm2d-17           [-1, 64, 56, 56]             128\n",
      "           Conv2d-18          [-1, 256, 56, 56]          16,640\n",
      "      BatchNorm2d-19          [-1, 256, 56, 56]             512\n",
      "ResBottleneckBlock-20          [-1, 256, 56, 56]               0\n",
      "           Conv2d-21           [-1, 64, 56, 56]          16,448\n",
      "      BatchNorm2d-22           [-1, 64, 56, 56]             128\n",
      "           Conv2d-23           [-1, 64, 56, 56]          36,928\n",
      "      BatchNorm2d-24           [-1, 64, 56, 56]             128\n",
      "           Conv2d-25          [-1, 256, 56, 56]          16,640\n",
      "      BatchNorm2d-26          [-1, 256, 56, 56]             512\n",
      "ResBottleneckBlock-27          [-1, 256, 56, 56]               0\n",
      "           Conv2d-28          [-1, 512, 28, 28]         131,584\n",
      "      BatchNorm2d-29          [-1, 512, 28, 28]           1,024\n",
      "           Conv2d-30          [-1, 128, 56, 56]          32,896\n",
      "      BatchNorm2d-31          [-1, 128, 56, 56]             256\n",
      "           Conv2d-32          [-1, 128, 28, 28]         147,584\n",
      "      BatchNorm2d-33          [-1, 128, 28, 28]             256\n",
      "           Conv2d-34          [-1, 512, 28, 28]          66,048\n",
      "      BatchNorm2d-35          [-1, 512, 28, 28]           1,024\n",
      "ResBottleneckBlock-36          [-1, 512, 28, 28]               0\n",
      "           Conv2d-37          [-1, 128, 28, 28]          65,664\n",
      "      BatchNorm2d-38          [-1, 128, 28, 28]             256\n",
      "           Conv2d-39          [-1, 128, 28, 28]         147,584\n",
      "      BatchNorm2d-40          [-1, 128, 28, 28]             256\n",
      "           Conv2d-41          [-1, 512, 28, 28]          66,048\n",
      "      BatchNorm2d-42          [-1, 512, 28, 28]           1,024\n",
      "ResBottleneckBlock-43          [-1, 512, 28, 28]               0\n",
      "           Conv2d-44          [-1, 128, 28, 28]          65,664\n",
      "      BatchNorm2d-45          [-1, 128, 28, 28]             256\n",
      "           Conv2d-46          [-1, 128, 28, 28]         147,584\n",
      "      BatchNorm2d-47          [-1, 128, 28, 28]             256\n",
      "           Conv2d-48          [-1, 512, 28, 28]          66,048\n",
      "      BatchNorm2d-49          [-1, 512, 28, 28]           1,024\n",
      "ResBottleneckBlock-50          [-1, 512, 28, 28]               0\n",
      "           Conv2d-51          [-1, 128, 28, 28]          65,664\n",
      "      BatchNorm2d-52          [-1, 128, 28, 28]             256\n",
      "           Conv2d-53          [-1, 128, 28, 28]         147,584\n",
      "      BatchNorm2d-54          [-1, 128, 28, 28]             256\n",
      "           Conv2d-55          [-1, 512, 28, 28]          66,048\n",
      "      BatchNorm2d-56          [-1, 512, 28, 28]           1,024\n",
      "ResBottleneckBlock-57          [-1, 512, 28, 28]               0\n",
      "           Conv2d-58          [-1, 128, 28, 28]          65,664\n",
      "      BatchNorm2d-59          [-1, 128, 28, 28]             256\n",
      "           Conv2d-60          [-1, 128, 28, 28]         147,584\n",
      "      BatchNorm2d-61          [-1, 128, 28, 28]             256\n",
      "           Conv2d-62          [-1, 512, 28, 28]          66,048\n",
      "      BatchNorm2d-63          [-1, 512, 28, 28]           1,024\n",
      "ResBottleneckBlock-64          [-1, 512, 28, 28]               0\n",
      "           Conv2d-65          [-1, 128, 28, 28]          65,664\n",
      "      BatchNorm2d-66          [-1, 128, 28, 28]             256\n",
      "           Conv2d-67          [-1, 128, 28, 28]         147,584\n",
      "      BatchNorm2d-68          [-1, 128, 28, 28]             256\n",
      "           Conv2d-69          [-1, 512, 28, 28]          66,048\n",
      "      BatchNorm2d-70          [-1, 512, 28, 28]           1,024\n",
      "ResBottleneckBlock-71          [-1, 512, 28, 28]               0\n",
      "           Conv2d-72          [-1, 128, 28, 28]          65,664\n",
      "      BatchNorm2d-73          [-1, 128, 28, 28]             256\n",
      "           Conv2d-74          [-1, 128, 28, 28]         147,584\n",
      "      BatchNorm2d-75          [-1, 128, 28, 28]             256\n",
      "           Conv2d-76          [-1, 512, 28, 28]          66,048\n",
      "      BatchNorm2d-77          [-1, 512, 28, 28]           1,024\n",
      "ResBottleneckBlock-78          [-1, 512, 28, 28]               0\n",
      "           Conv2d-79          [-1, 128, 28, 28]          65,664\n",
      "      BatchNorm2d-80          [-1, 128, 28, 28]             256\n",
      "           Conv2d-81          [-1, 128, 28, 28]         147,584\n",
      "      BatchNorm2d-82          [-1, 128, 28, 28]             256\n",
      "           Conv2d-83          [-1, 512, 28, 28]          66,048\n",
      "      BatchNorm2d-84          [-1, 512, 28, 28]           1,024\n",
      "ResBottleneckBlock-85          [-1, 512, 28, 28]               0\n",
      "           Conv2d-86         [-1, 1024, 14, 14]         525,312\n",
      "      BatchNorm2d-87         [-1, 1024, 14, 14]           2,048\n",
      "           Conv2d-88          [-1, 256, 28, 28]         131,328\n",
      "      BatchNorm2d-89          [-1, 256, 28, 28]             512\n",
      "           Conv2d-90          [-1, 256, 14, 14]         590,080\n",
      "      BatchNorm2d-91          [-1, 256, 14, 14]             512\n",
      "           Conv2d-92         [-1, 1024, 14, 14]         263,168\n",
      "      BatchNorm2d-93         [-1, 1024, 14, 14]           2,048\n",
      "ResBottleneckBlock-94         [-1, 1024, 14, 14]               0\n",
      "           Conv2d-95          [-1, 256, 14, 14]         262,400\n",
      "      BatchNorm2d-96          [-1, 256, 14, 14]             512\n",
      "           Conv2d-97          [-1, 256, 14, 14]         590,080\n",
      "      BatchNorm2d-98          [-1, 256, 14, 14]             512\n",
      "           Conv2d-99         [-1, 1024, 14, 14]         263,168\n",
      "     BatchNorm2d-100         [-1, 1024, 14, 14]           2,048\n",
      "ResBottleneckBlock-101         [-1, 1024, 14, 14]               0\n",
      "          Conv2d-102          [-1, 256, 14, 14]         262,400\n",
      "     BatchNorm2d-103          [-1, 256, 14, 14]             512\n",
      "          Conv2d-104          [-1, 256, 14, 14]         590,080\n",
      "     BatchNorm2d-105          [-1, 256, 14, 14]             512\n",
      "          Conv2d-106         [-1, 1024, 14, 14]         263,168\n",
      "     BatchNorm2d-107         [-1, 1024, 14, 14]           2,048\n",
      "ResBottleneckBlock-108         [-1, 1024, 14, 14]               0\n",
      "          Conv2d-109          [-1, 256, 14, 14]         262,400\n",
      "     BatchNorm2d-110          [-1, 256, 14, 14]             512\n",
      "          Conv2d-111          [-1, 256, 14, 14]         590,080\n",
      "     BatchNorm2d-112          [-1, 256, 14, 14]             512\n",
      "          Conv2d-113         [-1, 1024, 14, 14]         263,168\n",
      "     BatchNorm2d-114         [-1, 1024, 14, 14]           2,048\n",
      "ResBottleneckBlock-115         [-1, 1024, 14, 14]               0\n",
      "          Conv2d-116          [-1, 256, 14, 14]         262,400\n",
      "     BatchNorm2d-117          [-1, 256, 14, 14]             512\n",
      "          Conv2d-118          [-1, 256, 14, 14]         590,080\n",
      "     BatchNorm2d-119          [-1, 256, 14, 14]             512\n",
      "          Conv2d-120         [-1, 1024, 14, 14]         263,168\n",
      "     BatchNorm2d-121         [-1, 1024, 14, 14]           2,048\n",
      "ResBottleneckBlock-122         [-1, 1024, 14, 14]               0\n",
      "          Conv2d-123          [-1, 256, 14, 14]         262,400\n",
      "     BatchNorm2d-124          [-1, 256, 14, 14]             512\n",
      "          Conv2d-125          [-1, 256, 14, 14]         590,080\n",
      "     BatchNorm2d-126          [-1, 256, 14, 14]             512\n",
      "          Conv2d-127         [-1, 1024, 14, 14]         263,168\n",
      "     BatchNorm2d-128         [-1, 1024, 14, 14]           2,048\n",
      "ResBottleneckBlock-129         [-1, 1024, 14, 14]               0\n",
      "          Conv2d-130          [-1, 256, 14, 14]         262,400\n",
      "     BatchNorm2d-131          [-1, 256, 14, 14]             512\n",
      "          Conv2d-132          [-1, 256, 14, 14]         590,080\n",
      "     BatchNorm2d-133          [-1, 256, 14, 14]             512\n",
      "          Conv2d-134         [-1, 1024, 14, 14]         263,168\n",
      "     BatchNorm2d-135         [-1, 1024, 14, 14]           2,048\n",
      "ResBottleneckBlock-136         [-1, 1024, 14, 14]               0\n",
      "          Conv2d-137          [-1, 256, 14, 14]         262,400\n",
      "     BatchNorm2d-138          [-1, 256, 14, 14]             512\n",
      "          Conv2d-139          [-1, 256, 14, 14]         590,080\n",
      "     BatchNorm2d-140          [-1, 256, 14, 14]             512\n",
      "          Conv2d-141         [-1, 1024, 14, 14]         263,168\n",
      "     BatchNorm2d-142         [-1, 1024, 14, 14]           2,048\n",
      "ResBottleneckBlock-143         [-1, 1024, 14, 14]               0\n",
      "          Conv2d-144          [-1, 256, 14, 14]         262,400\n",
      "     BatchNorm2d-145          [-1, 256, 14, 14]             512\n",
      "          Conv2d-146          [-1, 256, 14, 14]         590,080\n",
      "     BatchNorm2d-147          [-1, 256, 14, 14]             512\n",
      "          Conv2d-148         [-1, 1024, 14, 14]         263,168\n",
      "     BatchNorm2d-149         [-1, 1024, 14, 14]           2,048\n",
      "ResBottleneckBlock-150         [-1, 1024, 14, 14]               0\n",
      "          Conv2d-151          [-1, 256, 14, 14]         262,400\n",
      "     BatchNorm2d-152          [-1, 256, 14, 14]             512\n",
      "          Conv2d-153          [-1, 256, 14, 14]         590,080\n",
      "     BatchNorm2d-154          [-1, 256, 14, 14]             512\n",
      "          Conv2d-155         [-1, 1024, 14, 14]         263,168\n",
      "     BatchNorm2d-156         [-1, 1024, 14, 14]           2,048\n",
      "ResBottleneckBlock-157         [-1, 1024, 14, 14]               0\n",
      "          Conv2d-158          [-1, 256, 14, 14]         262,400\n",
      "     BatchNorm2d-159          [-1, 256, 14, 14]             512\n",
      "          Conv2d-160          [-1, 256, 14, 14]         590,080\n",
      "     BatchNorm2d-161          [-1, 256, 14, 14]             512\n",
      "          Conv2d-162         [-1, 1024, 14, 14]         263,168\n",
      "     BatchNorm2d-163         [-1, 1024, 14, 14]           2,048\n",
      "ResBottleneckBlock-164         [-1, 1024, 14, 14]               0\n",
      "          Conv2d-165          [-1, 256, 14, 14]         262,400\n",
      "     BatchNorm2d-166          [-1, 256, 14, 14]             512\n",
      "          Conv2d-167          [-1, 256, 14, 14]         590,080\n",
      "     BatchNorm2d-168          [-1, 256, 14, 14]             512\n",
      "          Conv2d-169         [-1, 1024, 14, 14]         263,168\n",
      "     BatchNorm2d-170         [-1, 1024, 14, 14]           2,048\n",
      "ResBottleneckBlock-171         [-1, 1024, 14, 14]               0\n",
      "          Conv2d-172          [-1, 256, 14, 14]         262,400\n",
      "     BatchNorm2d-173          [-1, 256, 14, 14]             512\n",
      "          Conv2d-174          [-1, 256, 14, 14]         590,080\n",
      "     BatchNorm2d-175          [-1, 256, 14, 14]             512\n",
      "          Conv2d-176         [-1, 1024, 14, 14]         263,168\n",
      "     BatchNorm2d-177         [-1, 1024, 14, 14]           2,048\n",
      "ResBottleneckBlock-178         [-1, 1024, 14, 14]               0\n",
      "          Conv2d-179          [-1, 256, 14, 14]         262,400\n",
      "     BatchNorm2d-180          [-1, 256, 14, 14]             512\n",
      "          Conv2d-181          [-1, 256, 14, 14]         590,080\n",
      "     BatchNorm2d-182          [-1, 256, 14, 14]             512\n",
      "          Conv2d-183         [-1, 1024, 14, 14]         263,168\n",
      "     BatchNorm2d-184         [-1, 1024, 14, 14]           2,048\n",
      "ResBottleneckBlock-185         [-1, 1024, 14, 14]               0\n",
      "          Conv2d-186          [-1, 256, 14, 14]         262,400\n",
      "     BatchNorm2d-187          [-1, 256, 14, 14]             512\n",
      "          Conv2d-188          [-1, 256, 14, 14]         590,080\n",
      "     BatchNorm2d-189          [-1, 256, 14, 14]             512\n",
      "          Conv2d-190         [-1, 1024, 14, 14]         263,168\n",
      "     BatchNorm2d-191         [-1, 1024, 14, 14]           2,048\n",
      "ResBottleneckBlock-192         [-1, 1024, 14, 14]               0\n",
      "          Conv2d-193          [-1, 256, 14, 14]         262,400\n",
      "     BatchNorm2d-194          [-1, 256, 14, 14]             512\n",
      "          Conv2d-195          [-1, 256, 14, 14]         590,080\n",
      "     BatchNorm2d-196          [-1, 256, 14, 14]             512\n",
      "          Conv2d-197         [-1, 1024, 14, 14]         263,168\n",
      "     BatchNorm2d-198         [-1, 1024, 14, 14]           2,048\n",
      "ResBottleneckBlock-199         [-1, 1024, 14, 14]               0\n",
      "          Conv2d-200          [-1, 256, 14, 14]         262,400\n",
      "     BatchNorm2d-201          [-1, 256, 14, 14]             512\n",
      "          Conv2d-202          [-1, 256, 14, 14]         590,080\n",
      "     BatchNorm2d-203          [-1, 256, 14, 14]             512\n",
      "          Conv2d-204         [-1, 1024, 14, 14]         263,168\n",
      "     BatchNorm2d-205         [-1, 1024, 14, 14]           2,048\n",
      "ResBottleneckBlock-206         [-1, 1024, 14, 14]               0\n",
      "          Conv2d-207          [-1, 256, 14, 14]         262,400\n",
      "     BatchNorm2d-208          [-1, 256, 14, 14]             512\n",
      "          Conv2d-209          [-1, 256, 14, 14]         590,080\n",
      "     BatchNorm2d-210          [-1, 256, 14, 14]             512\n",
      "          Conv2d-211         [-1, 1024, 14, 14]         263,168\n",
      "     BatchNorm2d-212         [-1, 1024, 14, 14]           2,048\n",
      "ResBottleneckBlock-213         [-1, 1024, 14, 14]               0\n",
      "          Conv2d-214          [-1, 256, 14, 14]         262,400\n",
      "     BatchNorm2d-215          [-1, 256, 14, 14]             512\n",
      "          Conv2d-216          [-1, 256, 14, 14]         590,080\n",
      "     BatchNorm2d-217          [-1, 256, 14, 14]             512\n",
      "          Conv2d-218         [-1, 1024, 14, 14]         263,168\n",
      "     BatchNorm2d-219         [-1, 1024, 14, 14]           2,048\n",
      "ResBottleneckBlock-220         [-1, 1024, 14, 14]               0\n",
      "          Conv2d-221          [-1, 256, 14, 14]         262,400\n",
      "     BatchNorm2d-222          [-1, 256, 14, 14]             512\n",
      "          Conv2d-223          [-1, 256, 14, 14]         590,080\n",
      "     BatchNorm2d-224          [-1, 256, 14, 14]             512\n",
      "          Conv2d-225         [-1, 1024, 14, 14]         263,168\n",
      "     BatchNorm2d-226         [-1, 1024, 14, 14]           2,048\n",
      "ResBottleneckBlock-227         [-1, 1024, 14, 14]               0\n",
      "          Conv2d-228          [-1, 256, 14, 14]         262,400\n",
      "     BatchNorm2d-229          [-1, 256, 14, 14]             512\n",
      "          Conv2d-230          [-1, 256, 14, 14]         590,080\n",
      "     BatchNorm2d-231          [-1, 256, 14, 14]             512\n",
      "          Conv2d-232         [-1, 1024, 14, 14]         263,168\n",
      "     BatchNorm2d-233         [-1, 1024, 14, 14]           2,048\n",
      "ResBottleneckBlock-234         [-1, 1024, 14, 14]               0\n",
      "          Conv2d-235          [-1, 256, 14, 14]         262,400\n",
      "     BatchNorm2d-236          [-1, 256, 14, 14]             512\n",
      "          Conv2d-237          [-1, 256, 14, 14]         590,080\n",
      "     BatchNorm2d-238          [-1, 256, 14, 14]             512\n",
      "          Conv2d-239         [-1, 1024, 14, 14]         263,168\n",
      "     BatchNorm2d-240         [-1, 1024, 14, 14]           2,048\n",
      "ResBottleneckBlock-241         [-1, 1024, 14, 14]               0\n",
      "          Conv2d-242          [-1, 256, 14, 14]         262,400\n",
      "     BatchNorm2d-243          [-1, 256, 14, 14]             512\n",
      "          Conv2d-244          [-1, 256, 14, 14]         590,080\n",
      "     BatchNorm2d-245          [-1, 256, 14, 14]             512\n",
      "          Conv2d-246         [-1, 1024, 14, 14]         263,168\n",
      "     BatchNorm2d-247         [-1, 1024, 14, 14]           2,048\n",
      "ResBottleneckBlock-248         [-1, 1024, 14, 14]               0\n",
      "          Conv2d-249          [-1, 256, 14, 14]         262,400\n",
      "     BatchNorm2d-250          [-1, 256, 14, 14]             512\n",
      "          Conv2d-251          [-1, 256, 14, 14]         590,080\n",
      "     BatchNorm2d-252          [-1, 256, 14, 14]             512\n",
      "          Conv2d-253         [-1, 1024, 14, 14]         263,168\n",
      "     BatchNorm2d-254         [-1, 1024, 14, 14]           2,048\n",
      "ResBottleneckBlock-255         [-1, 1024, 14, 14]               0\n",
      "          Conv2d-256          [-1, 256, 14, 14]         262,400\n",
      "     BatchNorm2d-257          [-1, 256, 14, 14]             512\n",
      "          Conv2d-258          [-1, 256, 14, 14]         590,080\n",
      "     BatchNorm2d-259          [-1, 256, 14, 14]             512\n",
      "          Conv2d-260         [-1, 1024, 14, 14]         263,168\n",
      "     BatchNorm2d-261         [-1, 1024, 14, 14]           2,048\n",
      "ResBottleneckBlock-262         [-1, 1024, 14, 14]               0\n",
      "          Conv2d-263          [-1, 256, 14, 14]         262,400\n",
      "     BatchNorm2d-264          [-1, 256, 14, 14]             512\n",
      "          Conv2d-265          [-1, 256, 14, 14]         590,080\n",
      "     BatchNorm2d-266          [-1, 256, 14, 14]             512\n",
      "          Conv2d-267         [-1, 1024, 14, 14]         263,168\n",
      "     BatchNorm2d-268         [-1, 1024, 14, 14]           2,048\n",
      "ResBottleneckBlock-269         [-1, 1024, 14, 14]               0\n",
      "          Conv2d-270          [-1, 256, 14, 14]         262,400\n",
      "     BatchNorm2d-271          [-1, 256, 14, 14]             512\n",
      "          Conv2d-272          [-1, 256, 14, 14]         590,080\n",
      "     BatchNorm2d-273          [-1, 256, 14, 14]             512\n",
      "          Conv2d-274         [-1, 1024, 14, 14]         263,168\n",
      "     BatchNorm2d-275         [-1, 1024, 14, 14]           2,048\n",
      "ResBottleneckBlock-276         [-1, 1024, 14, 14]               0\n",
      "          Conv2d-277          [-1, 256, 14, 14]         262,400\n",
      "     BatchNorm2d-278          [-1, 256, 14, 14]             512\n",
      "          Conv2d-279          [-1, 256, 14, 14]         590,080\n",
      "     BatchNorm2d-280          [-1, 256, 14, 14]             512\n",
      "          Conv2d-281         [-1, 1024, 14, 14]         263,168\n",
      "     BatchNorm2d-282         [-1, 1024, 14, 14]           2,048\n",
      "ResBottleneckBlock-283         [-1, 1024, 14, 14]               0\n",
      "          Conv2d-284          [-1, 256, 14, 14]         262,400\n",
      "     BatchNorm2d-285          [-1, 256, 14, 14]             512\n",
      "          Conv2d-286          [-1, 256, 14, 14]         590,080\n",
      "     BatchNorm2d-287          [-1, 256, 14, 14]             512\n",
      "          Conv2d-288         [-1, 1024, 14, 14]         263,168\n",
      "     BatchNorm2d-289         [-1, 1024, 14, 14]           2,048\n",
      "ResBottleneckBlock-290         [-1, 1024, 14, 14]               0\n",
      "          Conv2d-291          [-1, 256, 14, 14]         262,400\n",
      "     BatchNorm2d-292          [-1, 256, 14, 14]             512\n",
      "          Conv2d-293          [-1, 256, 14, 14]         590,080\n",
      "     BatchNorm2d-294          [-1, 256, 14, 14]             512\n",
      "          Conv2d-295         [-1, 1024, 14, 14]         263,168\n",
      "     BatchNorm2d-296         [-1, 1024, 14, 14]           2,048\n",
      "ResBottleneckBlock-297         [-1, 1024, 14, 14]               0\n",
      "          Conv2d-298          [-1, 256, 14, 14]         262,400\n",
      "     BatchNorm2d-299          [-1, 256, 14, 14]             512\n",
      "          Conv2d-300          [-1, 256, 14, 14]         590,080\n",
      "     BatchNorm2d-301          [-1, 256, 14, 14]             512\n",
      "          Conv2d-302         [-1, 1024, 14, 14]         263,168\n",
      "     BatchNorm2d-303         [-1, 1024, 14, 14]           2,048\n",
      "ResBottleneckBlock-304         [-1, 1024, 14, 14]               0\n",
      "          Conv2d-305          [-1, 256, 14, 14]         262,400\n",
      "     BatchNorm2d-306          [-1, 256, 14, 14]             512\n",
      "          Conv2d-307          [-1, 256, 14, 14]         590,080\n",
      "     BatchNorm2d-308          [-1, 256, 14, 14]             512\n",
      "          Conv2d-309         [-1, 1024, 14, 14]         263,168\n",
      "     BatchNorm2d-310         [-1, 1024, 14, 14]           2,048\n",
      "ResBottleneckBlock-311         [-1, 1024, 14, 14]               0\n",
      "          Conv2d-312          [-1, 256, 14, 14]         262,400\n",
      "     BatchNorm2d-313          [-1, 256, 14, 14]             512\n",
      "          Conv2d-314          [-1, 256, 14, 14]         590,080\n",
      "     BatchNorm2d-315          [-1, 256, 14, 14]             512\n",
      "          Conv2d-316         [-1, 1024, 14, 14]         263,168\n",
      "     BatchNorm2d-317         [-1, 1024, 14, 14]           2,048\n",
      "ResBottleneckBlock-318         [-1, 1024, 14, 14]               0\n",
      "          Conv2d-319          [-1, 256, 14, 14]         262,400\n",
      "     BatchNorm2d-320          [-1, 256, 14, 14]             512\n",
      "          Conv2d-321          [-1, 256, 14, 14]         590,080\n",
      "     BatchNorm2d-322          [-1, 256, 14, 14]             512\n",
      "          Conv2d-323         [-1, 1024, 14, 14]         263,168\n",
      "     BatchNorm2d-324         [-1, 1024, 14, 14]           2,048\n",
      "ResBottleneckBlock-325         [-1, 1024, 14, 14]               0\n",
      "          Conv2d-326          [-1, 256, 14, 14]         262,400\n",
      "     BatchNorm2d-327          [-1, 256, 14, 14]             512\n",
      "          Conv2d-328          [-1, 256, 14, 14]         590,080\n",
      "     BatchNorm2d-329          [-1, 256, 14, 14]             512\n",
      "          Conv2d-330         [-1, 1024, 14, 14]         263,168\n",
      "     BatchNorm2d-331         [-1, 1024, 14, 14]           2,048\n",
      "ResBottleneckBlock-332         [-1, 1024, 14, 14]               0\n",
      "          Conv2d-333          [-1, 256, 14, 14]         262,400\n",
      "     BatchNorm2d-334          [-1, 256, 14, 14]             512\n",
      "          Conv2d-335          [-1, 256, 14, 14]         590,080\n",
      "     BatchNorm2d-336          [-1, 256, 14, 14]             512\n",
      "          Conv2d-337         [-1, 1024, 14, 14]         263,168\n",
      "     BatchNorm2d-338         [-1, 1024, 14, 14]           2,048\n",
      "ResBottleneckBlock-339         [-1, 1024, 14, 14]               0\n",
      "          Conv2d-340           [-1, 2048, 7, 7]       2,099,200\n",
      "     BatchNorm2d-341           [-1, 2048, 7, 7]           4,096\n",
      "          Conv2d-342          [-1, 512, 14, 14]         524,800\n",
      "     BatchNorm2d-343          [-1, 512, 14, 14]           1,024\n",
      "          Conv2d-344            [-1, 512, 7, 7]       2,359,808\n",
      "     BatchNorm2d-345            [-1, 512, 7, 7]           1,024\n",
      "          Conv2d-346           [-1, 2048, 7, 7]       1,050,624\n",
      "     BatchNorm2d-347           [-1, 2048, 7, 7]           4,096\n",
      "ResBottleneckBlock-348           [-1, 2048, 7, 7]               0\n",
      "          Conv2d-349            [-1, 512, 7, 7]       1,049,088\n",
      "     BatchNorm2d-350            [-1, 512, 7, 7]           1,024\n",
      "          Conv2d-351            [-1, 512, 7, 7]       2,359,808\n",
      "     BatchNorm2d-352            [-1, 512, 7, 7]           1,024\n",
      "          Conv2d-353           [-1, 2048, 7, 7]       1,050,624\n",
      "     BatchNorm2d-354           [-1, 2048, 7, 7]           4,096\n",
      "ResBottleneckBlock-355           [-1, 2048, 7, 7]               0\n",
      "          Conv2d-356            [-1, 512, 7, 7]       1,049,088\n",
      "     BatchNorm2d-357            [-1, 512, 7, 7]           1,024\n",
      "          Conv2d-358            [-1, 512, 7, 7]       2,359,808\n",
      "     BatchNorm2d-359            [-1, 512, 7, 7]           1,024\n",
      "          Conv2d-360           [-1, 2048, 7, 7]       1,050,624\n",
      "     BatchNorm2d-361           [-1, 2048, 7, 7]           4,096\n",
      "ResBottleneckBlock-362           [-1, 2048, 7, 7]               0\n",
      "AdaptiveAvgPool2d-363           [-1, 2048, 1, 1]               0\n",
      "          Linear-364                    [-1, 7]          14,343\n",
      "         Softmax-365                    [-1, 7]               0\n",
      "================================================================\n",
      "Total params: 58,233,863\n",
      "Trainable params: 58,233,863\n",
      "Non-trainable params: 0\n",
      "----------------------------------------------------------------\n",
      "Input size (MB): 0.57\n",
      "Forward/backward pass size (MB): 442.93\n",
      "Params size (MB): 222.14\n",
      "Estimated Total Size (MB): 665.65\n",
      "----------------------------------------------------------------\n"
     ]
    }
   ],
   "source": [
    "resnet152 = ResNet(3, ResBottleneckBlock, [\n",
    "                   3, 8, 36, 3], useBottleneck=True, outputs=7)\n",
    "resnet152.to(torch.device(\"cuda:0\" if torch.cuda.is_available() else \"cpu\"))\n",
    "summary(resnet152, (3, 224, 224))"
   ]
  },
  {
   "attachments": {},
   "cell_type": "markdown",
   "id": "d9a1a925",
   "metadata": {},
   "source": [
    "### Training and testing the data using ResNet18"
   ]
  },
  {
   "cell_type": "code",
   "execution_count": 27,
   "id": "d6a092dd",
   "metadata": {},
   "outputs": [],
   "source": [
    "from torch.utils.data import DataLoader\n",
    "from torchvision import datasets\n",
    "from torchvision.transforms import ToTensor\n"
   ]
  },
  {
   "cell_type": "code",
   "execution_count": 28,
   "id": "37bac091",
   "metadata": {},
   "outputs": [],
   "source": [
    "# load data from data folder\n",
    "training_data = datasets.ImageFolder(root='train', transform=ToTensor())\n",
    "test_data = datasets.ImageFolder(root='test', transform=ToTensor())\n",
    "\n"
   ]
  },
  {
   "cell_type": "code",
   "execution_count": 29,
   "id": "9d1b43be",
   "metadata": {},
   "outputs": [
    {
     "name": "stdout",
     "output_type": "stream",
     "text": [
      "Shape of X [N, C, H, W]: torch.Size([128, 3, 48, 48])\n",
      "Shape of y: torch.Size([128]) torch.int64\n"
     ]
    }
   ],
   "source": [
    "# create data loaders\n",
    "batch_size = 128\n",
    "train_dataloader = DataLoader(training_data, batch_size=batch_size, shuffle= True)\n",
    "test_dataloader = DataLoader(test_data, batch_size=batch_size)\n",
    "\n",
    "for X, y in test_dataloader:\n",
    "    print(f\"Shape of X [N, C, H, W]: {X.shape}\")\n",
    "    print(f\"Shape of y: {y.shape} {y.dtype}\")\n",
    "    break\n",
    "\n"
   ]
  },
  {
   "cell_type": "code",
   "execution_count": 30,
   "id": "98fbeeb3",
   "metadata": {},
   "outputs": [],
   "source": [
    "import torch\n",
    "import torch.nn as nn\n",
    "import torch.optim as optim\n",
    "import torchvision\n",
    "import torchvision.transforms as transforms\n",
    "from tqdm.notebook import tqdm\n",
    "\n",
    "# Define the training function\n",
    "def train(train_loader, model, criterion, optimizer, device):\n",
    "    model.train()\n",
    "    running_loss = 0.0\n",
    "    pbar = tqdm(total=28709//128 + 1)\n",
    "    for i, data in enumerate(train_loader, 0):\n",
    "        inputs, labels = data[0].to(device), data[1].to(device)\n",
    "        optimizer.zero_grad()\n",
    "        outputs = model(inputs)\n",
    "        loss = criterion(outputs, labels)\n",
    "        loss.backward()\n",
    "        optimizer.step()\n",
    "        running_loss += loss.item()\n",
    "        pbar.update(1)\n",
    "    pbar.close()\n",
    "    print('loss: %.3f' % (running_loss / len(train_loader)))\n",
    "    return running_loss / len(train_loader)\n",
    "\n",
    "# Define the testing function\n",
    "def test(test_loader, model, loss_fn, device):\n",
    "    model.eval()\n",
    "    correct = 0\n",
    "    total = 0\n",
    "    test_loss = 0\n",
    "    with torch.no_grad():\n",
    "        for data in test_loader:\n",
    "            images, labels = data[0].to(device), data[1].to(device)\n",
    "            outputs = model(images)\n",
    "            _, predicted = torch.max(outputs.data, 1)\n",
    "            test_loss += loss_fn(outputs, labels).item()\n",
    "            total += labels.size(0)\n",
    "            correct += (predicted == labels).sum().item()   \n",
    "             \n",
    "    test_loss /= len(test_loader.dataset)\n",
    "    print(f\"Test Error: \\n Accuracy: {(100 * correct / total):.2f}%, Avg loss: {test_loss:.2f} \\n\")\n",
    "    return (correct / total)*100"
   ]
  },
  {
   "cell_type": "code",
   "execution_count": 31,
   "id": "34253fd9",
   "metadata": {},
   "outputs": [],
   "source": [
    "model = resnet18\n",
    "# Define the device (CPU or GPU)\n",
    "device = torch.device(\"cuda:0\" if torch.cuda.is_available() else \"cpu\")\n",
    "\n",
    "# Optimizing the model parameters\n",
    "loss_fn = nn.CrossEntropyLoss()\n",
    "optimizer = torch.optim.Adam(model.parameters(), lr=0.0001)\n"
   ]
  },
  {
   "cell_type": "code",
   "execution_count": 32,
   "id": "d21e0418",
   "metadata": {},
   "outputs": [
    {
     "name": "stdout",
     "output_type": "stream",
     "text": [
      "Epoch 1\n",
      "-------------------------------\n"
     ]
    },
    {
     "data": {
      "application/json": {
       "ascii": false,
       "bar_format": null,
       "colour": null,
       "elapsed": 0.030054807662963867,
       "initial": 0,
       "n": 0,
       "ncols": null,
       "nrows": null,
       "postfix": null,
       "prefix": "",
       "rate": null,
       "total": 225,
       "unit": "it",
       "unit_divisor": 1000,
       "unit_scale": false
      },
      "application/vnd.jupyter.widget-view+json": {
       "model_id": "6a3c2a225f8d4d64920fa890285a13e6",
       "version_major": 2,
       "version_minor": 0
      },
      "text/plain": [
       "  0%|          | 0/225 [00:00<?, ?it/s]"
      ]
     },
     "metadata": {},
     "output_type": "display_data"
    },
    {
     "name": "stdout",
     "output_type": "stream",
     "text": [
      "loss: 1.807\n",
      "Test Error: \n",
      " Accuracy: 38.62%, Avg loss: 0.01 \n",
      "\n",
      "Epoch 2\n",
      "-------------------------------\n"
     ]
    },
    {
     "data": {
      "application/json": {
       "ascii": false,
       "bar_format": null,
       "colour": null,
       "elapsed": 0.03400254249572754,
       "initial": 0,
       "n": 0,
       "ncols": null,
       "nrows": null,
       "postfix": null,
       "prefix": "",
       "rate": null,
       "total": 225,
       "unit": "it",
       "unit_divisor": 1000,
       "unit_scale": false
      },
      "application/vnd.jupyter.widget-view+json": {
       "model_id": "48e93c948f654de693e1c8d2c14b4a44",
       "version_major": 2,
       "version_minor": 0
      },
      "text/plain": [
       "  0%|          | 0/225 [00:00<?, ?it/s]"
      ]
     },
     "metadata": {},
     "output_type": "display_data"
    },
    {
     "name": "stdout",
     "output_type": "stream",
     "text": [
      "loss: 1.724\n",
      "Test Error: \n",
      " Accuracy: 38.90%, Avg loss: 0.01 \n",
      "\n",
      "Epoch 3\n",
      "-------------------------------\n"
     ]
    },
    {
     "data": {
      "application/json": {
       "ascii": false,
       "bar_format": null,
       "colour": null,
       "elapsed": 0.02599954605102539,
       "initial": 0,
       "n": 0,
       "ncols": null,
       "nrows": null,
       "postfix": null,
       "prefix": "",
       "rate": null,
       "total": 225,
       "unit": "it",
       "unit_divisor": 1000,
       "unit_scale": false
      },
      "application/vnd.jupyter.widget-view+json": {
       "model_id": "6f71c71f77944e5792699828bdb76e2c",
       "version_major": 2,
       "version_minor": 0
      },
      "text/plain": [
       "  0%|          | 0/225 [00:00<?, ?it/s]"
      ]
     },
     "metadata": {},
     "output_type": "display_data"
    },
    {
     "name": "stdout",
     "output_type": "stream",
     "text": [
      "loss: 1.686\n",
      "Test Error: \n",
      " Accuracy: 46.34%, Avg loss: 0.01 \n",
      "\n",
      "Epoch 4\n",
      "-------------------------------\n"
     ]
    },
    {
     "data": {
      "application/json": {
       "ascii": false,
       "bar_format": null,
       "colour": null,
       "elapsed": 0.02700018882751465,
       "initial": 0,
       "n": 0,
       "ncols": null,
       "nrows": null,
       "postfix": null,
       "prefix": "",
       "rate": null,
       "total": 225,
       "unit": "it",
       "unit_divisor": 1000,
       "unit_scale": false
      },
      "application/vnd.jupyter.widget-view+json": {
       "model_id": "033dd56772454ab7995539857b2e3d01",
       "version_major": 2,
       "version_minor": 0
      },
      "text/plain": [
       "  0%|          | 0/225 [00:00<?, ?it/s]"
      ]
     },
     "metadata": {},
     "output_type": "display_data"
    },
    {
     "name": "stdout",
     "output_type": "stream",
     "text": [
      "loss: 1.652\n",
      "Test Error: \n",
      " Accuracy: 46.27%, Avg loss: 0.01 \n",
      "\n",
      "Epoch 5\n",
      "-------------------------------\n"
     ]
    },
    {
     "data": {
      "application/json": {
       "ascii": false,
       "bar_format": null,
       "colour": null,
       "elapsed": 0.025002241134643555,
       "initial": 0,
       "n": 0,
       "ncols": null,
       "nrows": null,
       "postfix": null,
       "prefix": "",
       "rate": null,
       "total": 225,
       "unit": "it",
       "unit_divisor": 1000,
       "unit_scale": false
      },
      "application/vnd.jupyter.widget-view+json": {
       "model_id": "70de741793d843acad71706085eae431",
       "version_major": 2,
       "version_minor": 0
      },
      "text/plain": [
       "  0%|          | 0/225 [00:00<?, ?it/s]"
      ]
     },
     "metadata": {},
     "output_type": "display_data"
    },
    {
     "name": "stdout",
     "output_type": "stream",
     "text": [
      "loss: 1.623\n",
      "Test Error: \n",
      " Accuracy: 46.88%, Avg loss: 0.01 \n",
      "\n",
      "Epoch 6\n",
      "-------------------------------\n"
     ]
    },
    {
     "data": {
      "application/json": {
       "ascii": false,
       "bar_format": null,
       "colour": null,
       "elapsed": 0.02999258041381836,
       "initial": 0,
       "n": 0,
       "ncols": null,
       "nrows": null,
       "postfix": null,
       "prefix": "",
       "rate": null,
       "total": 225,
       "unit": "it",
       "unit_divisor": 1000,
       "unit_scale": false
      },
      "application/vnd.jupyter.widget-view+json": {
       "model_id": "bea68bb4f50a4fa9abe0eb8087eafe20",
       "version_major": 2,
       "version_minor": 0
      },
      "text/plain": [
       "  0%|          | 0/225 [00:00<?, ?it/s]"
      ]
     },
     "metadata": {},
     "output_type": "display_data"
    },
    {
     "name": "stdout",
     "output_type": "stream",
     "text": [
      "loss: 1.599\n",
      "Test Error: \n",
      " Accuracy: 50.84%, Avg loss: 0.01 \n",
      "\n",
      "Epoch 7\n",
      "-------------------------------\n"
     ]
    },
    {
     "data": {
      "application/json": {
       "ascii": false,
       "bar_format": null,
       "colour": null,
       "elapsed": 0.023002147674560547,
       "initial": 0,
       "n": 0,
       "ncols": null,
       "nrows": null,
       "postfix": null,
       "prefix": "",
       "rate": null,
       "total": 225,
       "unit": "it",
       "unit_divisor": 1000,
       "unit_scale": false
      },
      "application/vnd.jupyter.widget-view+json": {
       "model_id": "7b8f90b08f1045d9ac958a16317cac28",
       "version_major": 2,
       "version_minor": 0
      },
      "text/plain": [
       "  0%|          | 0/225 [00:00<?, ?it/s]"
      ]
     },
     "metadata": {},
     "output_type": "display_data"
    },
    {
     "name": "stdout",
     "output_type": "stream",
     "text": [
      "loss: 1.577\n",
      "Test Error: \n",
      " Accuracy: 46.70%, Avg loss: 0.01 \n",
      "\n",
      "Epoch 8\n",
      "-------------------------------\n"
     ]
    },
    {
     "data": {
      "application/json": {
       "ascii": false,
       "bar_format": null,
       "colour": null,
       "elapsed": 0.02399587631225586,
       "initial": 0,
       "n": 0,
       "ncols": null,
       "nrows": null,
       "postfix": null,
       "prefix": "",
       "rate": null,
       "total": 225,
       "unit": "it",
       "unit_divisor": 1000,
       "unit_scale": false
      },
      "application/vnd.jupyter.widget-view+json": {
       "model_id": "05e8582cf07f47989248fda3065d93e7",
       "version_major": 2,
       "version_minor": 0
      },
      "text/plain": [
       "  0%|          | 0/225 [00:00<?, ?it/s]"
      ]
     },
     "metadata": {},
     "output_type": "display_data"
    },
    {
     "name": "stdout",
     "output_type": "stream",
     "text": [
      "loss: 1.562\n",
      "Test Error: \n",
      " Accuracy: 53.00%, Avg loss: 0.01 \n",
      "\n",
      "Epoch 9\n",
      "-------------------------------\n"
     ]
    },
    {
     "data": {
      "application/json": {
       "ascii": false,
       "bar_format": null,
       "colour": null,
       "elapsed": 0.028003215789794922,
       "initial": 0,
       "n": 0,
       "ncols": null,
       "nrows": null,
       "postfix": null,
       "prefix": "",
       "rate": null,
       "total": 225,
       "unit": "it",
       "unit_divisor": 1000,
       "unit_scale": false
      },
      "application/vnd.jupyter.widget-view+json": {
       "model_id": "c43c1edf487246b2b9fbe90992d687be",
       "version_major": 2,
       "version_minor": 0
      },
      "text/plain": [
       "  0%|          | 0/225 [00:00<?, ?it/s]"
      ]
     },
     "metadata": {},
     "output_type": "display_data"
    },
    {
     "name": "stdout",
     "output_type": "stream",
     "text": [
      "loss: 1.539\n",
      "Test Error: \n",
      " Accuracy: 49.69%, Avg loss: 0.01 \n",
      "\n",
      "Epoch 10\n",
      "-------------------------------\n"
     ]
    },
    {
     "data": {
      "application/json": {
       "ascii": false,
       "bar_format": null,
       "colour": null,
       "elapsed": 0.027001619338989258,
       "initial": 0,
       "n": 0,
       "ncols": null,
       "nrows": null,
       "postfix": null,
       "prefix": "",
       "rate": null,
       "total": 225,
       "unit": "it",
       "unit_divisor": 1000,
       "unit_scale": false
      },
      "application/vnd.jupyter.widget-view+json": {
       "model_id": "5ac084b492b0459e83855285a7b96a88",
       "version_major": 2,
       "version_minor": 0
      },
      "text/plain": [
       "  0%|          | 0/225 [00:00<?, ?it/s]"
      ]
     },
     "metadata": {},
     "output_type": "display_data"
    },
    {
     "name": "stdout",
     "output_type": "stream",
     "text": [
      "loss: 1.524\n",
      "Test Error: \n",
      " Accuracy: 52.79%, Avg loss: 0.01 \n",
      "\n",
      "Epoch 11\n",
      "-------------------------------\n"
     ]
    },
    {
     "data": {
      "application/json": {
       "ascii": false,
       "bar_format": null,
       "colour": null,
       "elapsed": 0.029000282287597656,
       "initial": 0,
       "n": 0,
       "ncols": null,
       "nrows": null,
       "postfix": null,
       "prefix": "",
       "rate": null,
       "total": 225,
       "unit": "it",
       "unit_divisor": 1000,
       "unit_scale": false
      },
      "application/vnd.jupyter.widget-view+json": {
       "model_id": "ff4915d2e9a44863a159c9b87899b082",
       "version_major": 2,
       "version_minor": 0
      },
      "text/plain": [
       "  0%|          | 0/225 [00:00<?, ?it/s]"
      ]
     },
     "metadata": {},
     "output_type": "display_data"
    },
    {
     "name": "stdout",
     "output_type": "stream",
     "text": [
      "loss: 1.507\n",
      "Test Error: \n",
      " Accuracy: 48.84%, Avg loss: 0.01 \n",
      "\n",
      "Epoch 12\n",
      "-------------------------------\n"
     ]
    },
    {
     "data": {
      "application/json": {
       "ascii": false,
       "bar_format": null,
       "colour": null,
       "elapsed": 0.02799820899963379,
       "initial": 0,
       "n": 0,
       "ncols": null,
       "nrows": null,
       "postfix": null,
       "prefix": "",
       "rate": null,
       "total": 225,
       "unit": "it",
       "unit_divisor": 1000,
       "unit_scale": false
      },
      "application/vnd.jupyter.widget-view+json": {
       "model_id": "8d7a51fe8891418ba6b970bf18acc4eb",
       "version_major": 2,
       "version_minor": 0
      },
      "text/plain": [
       "  0%|          | 0/225 [00:00<?, ?it/s]"
      ]
     },
     "metadata": {},
     "output_type": "display_data"
    },
    {
     "name": "stdout",
     "output_type": "stream",
     "text": [
      "loss: 1.493\n",
      "Test Error: \n",
      " Accuracy: 51.21%, Avg loss: 0.01 \n",
      "\n",
      "Epoch 13\n",
      "-------------------------------\n"
     ]
    },
    {
     "data": {
      "application/json": {
       "ascii": false,
       "bar_format": null,
       "colour": null,
       "elapsed": 0.03400087356567383,
       "initial": 0,
       "n": 0,
       "ncols": null,
       "nrows": null,
       "postfix": null,
       "prefix": "",
       "rate": null,
       "total": 225,
       "unit": "it",
       "unit_divisor": 1000,
       "unit_scale": false
      },
      "application/vnd.jupyter.widget-view+json": {
       "model_id": "5e313c4819504bf2926b0c035943c013",
       "version_major": 2,
       "version_minor": 0
      },
      "text/plain": [
       "  0%|          | 0/225 [00:00<?, ?it/s]"
      ]
     },
     "metadata": {},
     "output_type": "display_data"
    },
    {
     "name": "stdout",
     "output_type": "stream",
     "text": [
      "loss: 1.479\n",
      "Test Error: \n",
      " Accuracy: 49.41%, Avg loss: 0.01 \n",
      "\n",
      "Epoch 14\n",
      "-------------------------------\n"
     ]
    },
    {
     "data": {
      "application/json": {
       "ascii": false,
       "bar_format": null,
       "colour": null,
       "elapsed": 0.02799201011657715,
       "initial": 0,
       "n": 0,
       "ncols": null,
       "nrows": null,
       "postfix": null,
       "prefix": "",
       "rate": null,
       "total": 225,
       "unit": "it",
       "unit_divisor": 1000,
       "unit_scale": false
      },
      "application/vnd.jupyter.widget-view+json": {
       "model_id": "e4dfa7adec3c4ed3bbbd4443e58a9f33",
       "version_major": 2,
       "version_minor": 0
      },
      "text/plain": [
       "  0%|          | 0/225 [00:00<?, ?it/s]"
      ]
     },
     "metadata": {},
     "output_type": "display_data"
    },
    {
     "name": "stdout",
     "output_type": "stream",
     "text": [
      "loss: 1.463\n",
      "Test Error: \n",
      " Accuracy: 51.56%, Avg loss: 0.01 \n",
      "\n",
      "Epoch 15\n",
      "-------------------------------\n"
     ]
    },
    {
     "data": {
      "application/json": {
       "ascii": false,
       "bar_format": null,
       "colour": null,
       "elapsed": 0.032000064849853516,
       "initial": 0,
       "n": 0,
       "ncols": null,
       "nrows": null,
       "postfix": null,
       "prefix": "",
       "rate": null,
       "total": 225,
       "unit": "it",
       "unit_divisor": 1000,
       "unit_scale": false
      },
      "application/vnd.jupyter.widget-view+json": {
       "model_id": "0bbe40ac5a1843b7b4870a0428852566",
       "version_major": 2,
       "version_minor": 0
      },
      "text/plain": [
       "  0%|          | 0/225 [00:00<?, ?it/s]"
      ]
     },
     "metadata": {},
     "output_type": "display_data"
    },
    {
     "name": "stdout",
     "output_type": "stream",
     "text": [
      "loss: 1.452\n",
      "Test Error: \n",
      " Accuracy: 50.17%, Avg loss: 0.01 \n",
      "\n",
      "Epoch 16\n",
      "-------------------------------\n"
     ]
    },
    {
     "data": {
      "application/json": {
       "ascii": false,
       "bar_format": null,
       "colour": null,
       "elapsed": 0.027013540267944336,
       "initial": 0,
       "n": 0,
       "ncols": null,
       "nrows": null,
       "postfix": null,
       "prefix": "",
       "rate": null,
       "total": 225,
       "unit": "it",
       "unit_divisor": 1000,
       "unit_scale": false
      },
      "application/vnd.jupyter.widget-view+json": {
       "model_id": "6bb937dccf81492294f65f093d6e84ed",
       "version_major": 2,
       "version_minor": 0
      },
      "text/plain": [
       "  0%|          | 0/225 [00:00<?, ?it/s]"
      ]
     },
     "metadata": {},
     "output_type": "display_data"
    },
    {
     "name": "stdout",
     "output_type": "stream",
     "text": [
      "loss: 1.437\n",
      "Test Error: \n",
      " Accuracy: 53.46%, Avg loss: 0.01 \n",
      "\n",
      "Epoch 17\n",
      "-------------------------------\n"
     ]
    },
    {
     "data": {
      "application/json": {
       "ascii": false,
       "bar_format": null,
       "colour": null,
       "elapsed": 0.025000810623168945,
       "initial": 0,
       "n": 0,
       "ncols": null,
       "nrows": null,
       "postfix": null,
       "prefix": "",
       "rate": null,
       "total": 225,
       "unit": "it",
       "unit_divisor": 1000,
       "unit_scale": false
      },
      "application/vnd.jupyter.widget-view+json": {
       "model_id": "91413976576a4306ae1566d3283e38ac",
       "version_major": 2,
       "version_minor": 0
      },
      "text/plain": [
       "  0%|          | 0/225 [00:00<?, ?it/s]"
      ]
     },
     "metadata": {},
     "output_type": "display_data"
    },
    {
     "name": "stdout",
     "output_type": "stream",
     "text": [
      "loss: 1.427\n",
      "Test Error: \n",
      " Accuracy: 52.72%, Avg loss: 0.01 \n",
      "\n",
      "Epoch 18\n",
      "-------------------------------\n"
     ]
    },
    {
     "data": {
      "application/json": {
       "ascii": false,
       "bar_format": null,
       "colour": null,
       "elapsed": 0.029000282287597656,
       "initial": 0,
       "n": 0,
       "ncols": null,
       "nrows": null,
       "postfix": null,
       "prefix": "",
       "rate": null,
       "total": 225,
       "unit": "it",
       "unit_divisor": 1000,
       "unit_scale": false
      },
      "application/vnd.jupyter.widget-view+json": {
       "model_id": "5a3c1ebedf5b4a2cac98719b393794d8",
       "version_major": 2,
       "version_minor": 0
      },
      "text/plain": [
       "  0%|          | 0/225 [00:00<?, ?it/s]"
      ]
     },
     "metadata": {},
     "output_type": "display_data"
    },
    {
     "name": "stdout",
     "output_type": "stream",
     "text": [
      "loss: 1.414\n",
      "Test Error: \n",
      " Accuracy: 53.52%, Avg loss: 0.01 \n",
      "\n",
      "Epoch 19\n",
      "-------------------------------\n"
     ]
    },
    {
     "data": {
      "application/json": {
       "ascii": false,
       "bar_format": null,
       "colour": null,
       "elapsed": 0.03299903869628906,
       "initial": 0,
       "n": 0,
       "ncols": null,
       "nrows": null,
       "postfix": null,
       "prefix": "",
       "rate": null,
       "total": 225,
       "unit": "it",
       "unit_divisor": 1000,
       "unit_scale": false
      },
      "application/vnd.jupyter.widget-view+json": {
       "model_id": "eed4beb0296d4afba8ea19086455f83e",
       "version_major": 2,
       "version_minor": 0
      },
      "text/plain": [
       "  0%|          | 0/225 [00:00<?, ?it/s]"
      ]
     },
     "metadata": {},
     "output_type": "display_data"
    },
    {
     "name": "stdout",
     "output_type": "stream",
     "text": [
      "loss: 1.407\n",
      "Test Error: \n",
      " Accuracy: 53.93%, Avg loss: 0.01 \n",
      "\n",
      "Epoch 20\n",
      "-------------------------------\n"
     ]
    },
    {
     "data": {
      "application/json": {
       "ascii": false,
       "bar_format": null,
       "colour": null,
       "elapsed": 0.031002044677734375,
       "initial": 0,
       "n": 0,
       "ncols": null,
       "nrows": null,
       "postfix": null,
       "prefix": "",
       "rate": null,
       "total": 225,
       "unit": "it",
       "unit_divisor": 1000,
       "unit_scale": false
      },
      "application/vnd.jupyter.widget-view+json": {
       "model_id": "6415faec8be449f3892976b90dae7edf",
       "version_major": 2,
       "version_minor": 0
      },
      "text/plain": [
       "  0%|          | 0/225 [00:00<?, ?it/s]"
      ]
     },
     "metadata": {},
     "output_type": "display_data"
    },
    {
     "name": "stdout",
     "output_type": "stream",
     "text": [
      "loss: 1.400\n",
      "Test Error: \n",
      " Accuracy: 54.56%, Avg loss: 0.01 \n",
      "\n",
      "Epoch 21\n",
      "-------------------------------\n"
     ]
    },
    {
     "data": {
      "application/json": {
       "ascii": false,
       "bar_format": null,
       "colour": null,
       "elapsed": 0.025984764099121094,
       "initial": 0,
       "n": 0,
       "ncols": null,
       "nrows": null,
       "postfix": null,
       "prefix": "",
       "rate": null,
       "total": 225,
       "unit": "it",
       "unit_divisor": 1000,
       "unit_scale": false
      },
      "application/vnd.jupyter.widget-view+json": {
       "model_id": "9e1e0df28ccf439b96ca439819b642c7",
       "version_major": 2,
       "version_minor": 0
      },
      "text/plain": [
       "  0%|          | 0/225 [00:00<?, ?it/s]"
      ]
     },
     "metadata": {},
     "output_type": "display_data"
    },
    {
     "name": "stdout",
     "output_type": "stream",
     "text": [
      "loss: 1.388\n",
      "Test Error: \n",
      " Accuracy: 55.22%, Avg loss: 0.01 \n",
      "\n",
      "Epoch 22\n",
      "-------------------------------\n"
     ]
    },
    {
     "data": {
      "application/json": {
       "ascii": false,
       "bar_format": null,
       "colour": null,
       "elapsed": 0.029000043869018555,
       "initial": 0,
       "n": 0,
       "ncols": null,
       "nrows": null,
       "postfix": null,
       "prefix": "",
       "rate": null,
       "total": 225,
       "unit": "it",
       "unit_divisor": 1000,
       "unit_scale": false
      },
      "application/vnd.jupyter.widget-view+json": {
       "model_id": "7af8fd5eb74a48a5a2bb97b77b47387d",
       "version_major": 2,
       "version_minor": 0
      },
      "text/plain": [
       "  0%|          | 0/225 [00:00<?, ?it/s]"
      ]
     },
     "metadata": {},
     "output_type": "display_data"
    },
    {
     "name": "stdout",
     "output_type": "stream",
     "text": [
      "loss: 1.378\n",
      "Test Error: \n",
      " Accuracy: 55.35%, Avg loss: 0.01 \n",
      "\n",
      "Epoch 23\n",
      "-------------------------------\n"
     ]
    },
    {
     "data": {
      "application/json": {
       "ascii": false,
       "bar_format": null,
       "colour": null,
       "elapsed": 0.027978181838989258,
       "initial": 0,
       "n": 0,
       "ncols": null,
       "nrows": null,
       "postfix": null,
       "prefix": "",
       "rate": null,
       "total": 225,
       "unit": "it",
       "unit_divisor": 1000,
       "unit_scale": false
      },
      "application/vnd.jupyter.widget-view+json": {
       "model_id": "67dfb61c35fc425db9fad0d10e076b3c",
       "version_major": 2,
       "version_minor": 0
      },
      "text/plain": [
       "  0%|          | 0/225 [00:00<?, ?it/s]"
      ]
     },
     "metadata": {},
     "output_type": "display_data"
    },
    {
     "name": "stdout",
     "output_type": "stream",
     "text": [
      "loss: 1.372\n",
      "Test Error: \n",
      " Accuracy: 55.61%, Avg loss: 0.01 \n",
      "\n",
      "Epoch 24\n",
      "-------------------------------\n"
     ]
    },
    {
     "data": {
      "application/json": {
       "ascii": false,
       "bar_format": null,
       "colour": null,
       "elapsed": 0.02800154685974121,
       "initial": 0,
       "n": 0,
       "ncols": null,
       "nrows": null,
       "postfix": null,
       "prefix": "",
       "rate": null,
       "total": 225,
       "unit": "it",
       "unit_divisor": 1000,
       "unit_scale": false
      },
      "application/vnd.jupyter.widget-view+json": {
       "model_id": "3d58edd4483948a1a6f25e4fb579fa92",
       "version_major": 2,
       "version_minor": 0
      },
      "text/plain": [
       "  0%|          | 0/225 [00:00<?, ?it/s]"
      ]
     },
     "metadata": {},
     "output_type": "display_data"
    },
    {
     "name": "stdout",
     "output_type": "stream",
     "text": [
      "loss: 1.367\n",
      "Test Error: \n",
      " Accuracy: 51.35%, Avg loss: 0.01 \n",
      "\n",
      "Epoch 25\n",
      "-------------------------------\n"
     ]
    },
    {
     "data": {
      "application/json": {
       "ascii": false,
       "bar_format": null,
       "colour": null,
       "elapsed": 0.024001359939575195,
       "initial": 0,
       "n": 0,
       "ncols": null,
       "nrows": null,
       "postfix": null,
       "prefix": "",
       "rate": null,
       "total": 225,
       "unit": "it",
       "unit_divisor": 1000,
       "unit_scale": false
      },
      "application/vnd.jupyter.widget-view+json": {
       "model_id": "fb5ca7aa3f63451bab6a82f7b4f5c658",
       "version_major": 2,
       "version_minor": 0
      },
      "text/plain": [
       "  0%|          | 0/225 [00:00<?, ?it/s]"
      ]
     },
     "metadata": {},
     "output_type": "display_data"
    },
    {
     "name": "stdout",
     "output_type": "stream",
     "text": [
      "loss: 1.359\n",
      "Test Error: \n",
      " Accuracy: 52.05%, Avg loss: 0.01 \n",
      "\n",
      "Epoch 26\n",
      "-------------------------------\n"
     ]
    },
    {
     "data": {
      "application/json": {
       "ascii": false,
       "bar_format": null,
       "colour": null,
       "elapsed": 0.02699589729309082,
       "initial": 0,
       "n": 0,
       "ncols": null,
       "nrows": null,
       "postfix": null,
       "prefix": "",
       "rate": null,
       "total": 225,
       "unit": "it",
       "unit_divisor": 1000,
       "unit_scale": false
      },
      "application/vnd.jupyter.widget-view+json": {
       "model_id": "6e7680bc032c464a95fecd110e1b4cce",
       "version_major": 2,
       "version_minor": 0
      },
      "text/plain": [
       "  0%|          | 0/225 [00:00<?, ?it/s]"
      ]
     },
     "metadata": {},
     "output_type": "display_data"
    },
    {
     "name": "stdout",
     "output_type": "stream",
     "text": [
      "loss: 1.357\n",
      "Test Error: \n",
      " Accuracy: 53.20%, Avg loss: 0.01 \n",
      "\n",
      "Epoch 27\n",
      "-------------------------------\n"
     ]
    },
    {
     "data": {
      "application/json": {
       "ascii": false,
       "bar_format": null,
       "colour": null,
       "elapsed": 0.031124353408813477,
       "initial": 0,
       "n": 0,
       "ncols": null,
       "nrows": null,
       "postfix": null,
       "prefix": "",
       "rate": null,
       "total": 225,
       "unit": "it",
       "unit_divisor": 1000,
       "unit_scale": false
      },
      "application/vnd.jupyter.widget-view+json": {
       "model_id": "0720cd4c964b4c2b9920e9bbc79e6c18",
       "version_major": 2,
       "version_minor": 0
      },
      "text/plain": [
       "  0%|          | 0/225 [00:00<?, ?it/s]"
      ]
     },
     "metadata": {},
     "output_type": "display_data"
    },
    {
     "name": "stdout",
     "output_type": "stream",
     "text": [
      "loss: 1.349\n",
      "Test Error: \n",
      " Accuracy: 55.60%, Avg loss: 0.01 \n",
      "\n",
      "Epoch 28\n",
      "-------------------------------\n"
     ]
    },
    {
     "data": {
      "application/json": {
       "ascii": false,
       "bar_format": null,
       "colour": null,
       "elapsed": 0.02300119400024414,
       "initial": 0,
       "n": 0,
       "ncols": null,
       "nrows": null,
       "postfix": null,
       "prefix": "",
       "rate": null,
       "total": 225,
       "unit": "it",
       "unit_divisor": 1000,
       "unit_scale": false
      },
      "application/vnd.jupyter.widget-view+json": {
       "model_id": "a8af8a18ee6b4896ace2149f699d9e3f",
       "version_major": 2,
       "version_minor": 0
      },
      "text/plain": [
       "  0%|          | 0/225 [00:00<?, ?it/s]"
      ]
     },
     "metadata": {},
     "output_type": "display_data"
    },
    {
     "name": "stdout",
     "output_type": "stream",
     "text": [
      "loss: 1.347\n",
      "Test Error: \n",
      " Accuracy: 54.63%, Avg loss: 0.01 \n",
      "\n",
      "Epoch 29\n",
      "-------------------------------\n"
     ]
    },
    {
     "data": {
      "application/json": {
       "ascii": false,
       "bar_format": null,
       "colour": null,
       "elapsed": 0.029992103576660156,
       "initial": 0,
       "n": 0,
       "ncols": null,
       "nrows": null,
       "postfix": null,
       "prefix": "",
       "rate": null,
       "total": 225,
       "unit": "it",
       "unit_divisor": 1000,
       "unit_scale": false
      },
      "application/vnd.jupyter.widget-view+json": {
       "model_id": "af9d3df561564b8ab40a8cae5d704ad1",
       "version_major": 2,
       "version_minor": 0
      },
      "text/plain": [
       "  0%|          | 0/225 [00:00<?, ?it/s]"
      ]
     },
     "metadata": {},
     "output_type": "display_data"
    },
    {
     "name": "stdout",
     "output_type": "stream",
     "text": [
      "loss: 1.340\n",
      "Test Error: \n",
      " Accuracy: 54.50%, Avg loss: 0.01 \n",
      "\n",
      "Epoch 30\n",
      "-------------------------------\n"
     ]
    },
    {
     "data": {
      "application/json": {
       "ascii": false,
       "bar_format": null,
       "colour": null,
       "elapsed": 0.03600645065307617,
       "initial": 0,
       "n": 0,
       "ncols": null,
       "nrows": null,
       "postfix": null,
       "prefix": "",
       "rate": null,
       "total": 225,
       "unit": "it",
       "unit_divisor": 1000,
       "unit_scale": false
      },
      "application/vnd.jupyter.widget-view+json": {
       "model_id": "82cfd6e3f4c2460d9b4f99b5484436a7",
       "version_major": 2,
       "version_minor": 0
      },
      "text/plain": [
       "  0%|          | 0/225 [00:00<?, ?it/s]"
      ]
     },
     "metadata": {},
     "output_type": "display_data"
    },
    {
     "name": "stdout",
     "output_type": "stream",
     "text": [
      "loss: 1.337\n",
      "Test Error: \n",
      " Accuracy: 53.12%, Avg loss: 0.01 \n",
      "\n",
      "Epoch 31\n",
      "-------------------------------\n"
     ]
    },
    {
     "data": {
      "application/json": {
       "ascii": false,
       "bar_format": null,
       "colour": null,
       "elapsed": 0.03300166130065918,
       "initial": 0,
       "n": 0,
       "ncols": null,
       "nrows": null,
       "postfix": null,
       "prefix": "",
       "rate": null,
       "total": 225,
       "unit": "it",
       "unit_divisor": 1000,
       "unit_scale": false
      },
      "application/vnd.jupyter.widget-view+json": {
       "model_id": "13e47b387ed845d5a2179c9f683d797f",
       "version_major": 2,
       "version_minor": 0
      },
      "text/plain": [
       "  0%|          | 0/225 [00:00<?, ?it/s]"
      ]
     },
     "metadata": {},
     "output_type": "display_data"
    },
    {
     "name": "stdout",
     "output_type": "stream",
     "text": [
      "loss: 1.334\n",
      "Test Error: \n",
      " Accuracy: 49.11%, Avg loss: 0.01 \n",
      "\n",
      "Epoch 32\n",
      "-------------------------------\n"
     ]
    },
    {
     "data": {
      "application/json": {
       "ascii": false,
       "bar_format": null,
       "colour": null,
       "elapsed": 0.028011083602905273,
       "initial": 0,
       "n": 0,
       "ncols": null,
       "nrows": null,
       "postfix": null,
       "prefix": "",
       "rate": null,
       "total": 225,
       "unit": "it",
       "unit_divisor": 1000,
       "unit_scale": false
      },
      "application/vnd.jupyter.widget-view+json": {
       "model_id": "43d9b68dd57e4ce7aeb7610c0f14b68e",
       "version_major": 2,
       "version_minor": 0
      },
      "text/plain": [
       "  0%|          | 0/225 [00:00<?, ?it/s]"
      ]
     },
     "metadata": {},
     "output_type": "display_data"
    },
    {
     "name": "stdout",
     "output_type": "stream",
     "text": [
      "loss: 1.330\n",
      "Test Error: \n",
      " Accuracy: 54.67%, Avg loss: 0.01 \n",
      "\n",
      "Epoch 33\n",
      "-------------------------------\n"
     ]
    },
    {
     "data": {
      "application/json": {
       "ascii": false,
       "bar_format": null,
       "colour": null,
       "elapsed": 0.027998924255371094,
       "initial": 0,
       "n": 0,
       "ncols": null,
       "nrows": null,
       "postfix": null,
       "prefix": "",
       "rate": null,
       "total": 225,
       "unit": "it",
       "unit_divisor": 1000,
       "unit_scale": false
      },
      "application/vnd.jupyter.widget-view+json": {
       "model_id": "130547e6c4a54b2ba1f45fb33c99704f",
       "version_major": 2,
       "version_minor": 0
      },
      "text/plain": [
       "  0%|          | 0/225 [00:00<?, ?it/s]"
      ]
     },
     "metadata": {},
     "output_type": "display_data"
    },
    {
     "name": "stdout",
     "output_type": "stream",
     "text": [
      "loss: 1.330\n",
      "Test Error: \n",
      " Accuracy: 55.53%, Avg loss: 0.01 \n",
      "\n",
      "Epoch 34\n",
      "-------------------------------\n"
     ]
    },
    {
     "data": {
      "application/json": {
       "ascii": false,
       "bar_format": null,
       "colour": null,
       "elapsed": 0.034000396728515625,
       "initial": 0,
       "n": 0,
       "ncols": null,
       "nrows": null,
       "postfix": null,
       "prefix": "",
       "rate": null,
       "total": 225,
       "unit": "it",
       "unit_divisor": 1000,
       "unit_scale": false
      },
      "application/vnd.jupyter.widget-view+json": {
       "model_id": "fa28bc71e3a84f1184303d2144b82c10",
       "version_major": 2,
       "version_minor": 0
      },
      "text/plain": [
       "  0%|          | 0/225 [00:00<?, ?it/s]"
      ]
     },
     "metadata": {},
     "output_type": "display_data"
    },
    {
     "name": "stdout",
     "output_type": "stream",
     "text": [
      "loss: 1.327\n",
      "Test Error: \n",
      " Accuracy: 55.02%, Avg loss: 0.01 \n",
      "\n",
      "Epoch 35\n",
      "-------------------------------\n"
     ]
    },
    {
     "data": {
      "application/json": {
       "ascii": false,
       "bar_format": null,
       "colour": null,
       "elapsed": 0.031002044677734375,
       "initial": 0,
       "n": 0,
       "ncols": null,
       "nrows": null,
       "postfix": null,
       "prefix": "",
       "rate": null,
       "total": 225,
       "unit": "it",
       "unit_divisor": 1000,
       "unit_scale": false
      },
      "application/vnd.jupyter.widget-view+json": {
       "model_id": "4e07366b78204db59937ad832570aab9",
       "version_major": 2,
       "version_minor": 0
      },
      "text/plain": [
       "  0%|          | 0/225 [00:00<?, ?it/s]"
      ]
     },
     "metadata": {},
     "output_type": "display_data"
    },
    {
     "name": "stdout",
     "output_type": "stream",
     "text": [
      "loss: 1.323\n",
      "Test Error: \n",
      " Accuracy: 54.86%, Avg loss: 0.01 \n",
      "\n",
      "Epoch 36\n",
      "-------------------------------\n"
     ]
    },
    {
     "data": {
      "application/json": {
       "ascii": false,
       "bar_format": null,
       "colour": null,
       "elapsed": 0.024001359939575195,
       "initial": 0,
       "n": 0,
       "ncols": null,
       "nrows": null,
       "postfix": null,
       "prefix": "",
       "rate": null,
       "total": 225,
       "unit": "it",
       "unit_divisor": 1000,
       "unit_scale": false
      },
      "application/vnd.jupyter.widget-view+json": {
       "model_id": "e1a6f05d86014122b60db6f39e920c02",
       "version_major": 2,
       "version_minor": 0
      },
      "text/plain": [
       "  0%|          | 0/225 [00:00<?, ?it/s]"
      ]
     },
     "metadata": {},
     "output_type": "display_data"
    },
    {
     "name": "stdout",
     "output_type": "stream",
     "text": [
      "loss: 1.317\n",
      "Test Error: \n",
      " Accuracy: 49.23%, Avg loss: 0.01 \n",
      "\n",
      "Epoch 37\n",
      "-------------------------------\n"
     ]
    },
    {
     "data": {
      "application/json": {
       "ascii": false,
       "bar_format": null,
       "colour": null,
       "elapsed": 0.029999494552612305,
       "initial": 0,
       "n": 0,
       "ncols": null,
       "nrows": null,
       "postfix": null,
       "prefix": "",
       "rate": null,
       "total": 225,
       "unit": "it",
       "unit_divisor": 1000,
       "unit_scale": false
      },
      "application/vnd.jupyter.widget-view+json": {
       "model_id": "18d56ba343234d25a2c0f361af6c25d2",
       "version_major": 2,
       "version_minor": 0
      },
      "text/plain": [
       "  0%|          | 0/225 [00:00<?, ?it/s]"
      ]
     },
     "metadata": {},
     "output_type": "display_data"
    },
    {
     "name": "stdout",
     "output_type": "stream",
     "text": [
      "loss: 1.316\n",
      "Test Error: \n",
      " Accuracy: 48.13%, Avg loss: 0.01 \n",
      "\n",
      "Epoch 38\n",
      "-------------------------------\n"
     ]
    },
    {
     "data": {
      "application/json": {
       "ascii": false,
       "bar_format": null,
       "colour": null,
       "elapsed": 0.03000187873840332,
       "initial": 0,
       "n": 0,
       "ncols": null,
       "nrows": null,
       "postfix": null,
       "prefix": "",
       "rate": null,
       "total": 225,
       "unit": "it",
       "unit_divisor": 1000,
       "unit_scale": false
      },
      "application/vnd.jupyter.widget-view+json": {
       "model_id": "2515b10f08594360b29ed177874e31c0",
       "version_major": 2,
       "version_minor": 0
      },
      "text/plain": [
       "  0%|          | 0/225 [00:00<?, ?it/s]"
      ]
     },
     "metadata": {},
     "output_type": "display_data"
    },
    {
     "name": "stdout",
     "output_type": "stream",
     "text": [
      "loss: 1.316\n",
      "Test Error: \n",
      " Accuracy: 55.88%, Avg loss: 0.01 \n",
      "\n",
      "Epoch 39\n",
      "-------------------------------\n"
     ]
    },
    {
     "data": {
      "application/json": {
       "ascii": false,
       "bar_format": null,
       "colour": null,
       "elapsed": 0.02899909019470215,
       "initial": 0,
       "n": 0,
       "ncols": null,
       "nrows": null,
       "postfix": null,
       "prefix": "",
       "rate": null,
       "total": 225,
       "unit": "it",
       "unit_divisor": 1000,
       "unit_scale": false
      },
      "application/vnd.jupyter.widget-view+json": {
       "model_id": "2b07bef18a3a45b2b32ee3da3eb83686",
       "version_major": 2,
       "version_minor": 0
      },
      "text/plain": [
       "  0%|          | 0/225 [00:00<?, ?it/s]"
      ]
     },
     "metadata": {},
     "output_type": "display_data"
    },
    {
     "name": "stdout",
     "output_type": "stream",
     "text": [
      "loss: 1.316\n",
      "Test Error: \n",
      " Accuracy: 54.49%, Avg loss: 0.01 \n",
      "\n",
      "Epoch 40\n",
      "-------------------------------\n"
     ]
    },
    {
     "data": {
      "application/json": {
       "ascii": false,
       "bar_format": null,
       "colour": null,
       "elapsed": 0.026000499725341797,
       "initial": 0,
       "n": 0,
       "ncols": null,
       "nrows": null,
       "postfix": null,
       "prefix": "",
       "rate": null,
       "total": 225,
       "unit": "it",
       "unit_divisor": 1000,
       "unit_scale": false
      },
      "application/vnd.jupyter.widget-view+json": {
       "model_id": "9abb1c4f05214e26bf71ff423ca500ae",
       "version_major": 2,
       "version_minor": 0
      },
      "text/plain": [
       "  0%|          | 0/225 [00:00<?, ?it/s]"
      ]
     },
     "metadata": {},
     "output_type": "display_data"
    },
    {
     "name": "stdout",
     "output_type": "stream",
     "text": [
      "loss: 1.310\n",
      "Test Error: \n",
      " Accuracy: 53.26%, Avg loss: 0.01 \n",
      "\n",
      "Epoch 41\n",
      "-------------------------------\n"
     ]
    },
    {
     "data": {
      "application/json": {
       "ascii": false,
       "bar_format": null,
       "colour": null,
       "elapsed": 0.029991626739501953,
       "initial": 0,
       "n": 0,
       "ncols": null,
       "nrows": null,
       "postfix": null,
       "prefix": "",
       "rate": null,
       "total": 225,
       "unit": "it",
       "unit_divisor": 1000,
       "unit_scale": false
      },
      "application/vnd.jupyter.widget-view+json": {
       "model_id": "8ad0c6fe76be4e11b7be7bf0eb38ec65",
       "version_major": 2,
       "version_minor": 0
      },
      "text/plain": [
       "  0%|          | 0/225 [00:00<?, ?it/s]"
      ]
     },
     "metadata": {},
     "output_type": "display_data"
    },
    {
     "name": "stdout",
     "output_type": "stream",
     "text": [
      "loss: 1.305\n",
      "Test Error: \n",
      " Accuracy: 54.56%, Avg loss: 0.01 \n",
      "\n",
      "Epoch 42\n",
      "-------------------------------\n"
     ]
    },
    {
     "data": {
      "application/json": {
       "ascii": false,
       "bar_format": null,
       "colour": null,
       "elapsed": 0.027001142501831055,
       "initial": 0,
       "n": 0,
       "ncols": null,
       "nrows": null,
       "postfix": null,
       "prefix": "",
       "rate": null,
       "total": 225,
       "unit": "it",
       "unit_divisor": 1000,
       "unit_scale": false
      },
      "application/vnd.jupyter.widget-view+json": {
       "model_id": "dc0dfc3c33164d24a36a70d03469ff5e",
       "version_major": 2,
       "version_minor": 0
      },
      "text/plain": [
       "  0%|          | 0/225 [00:00<?, ?it/s]"
      ]
     },
     "metadata": {},
     "output_type": "display_data"
    },
    {
     "name": "stdout",
     "output_type": "stream",
     "text": [
      "loss: 1.306\n",
      "Test Error: \n",
      " Accuracy: 54.49%, Avg loss: 0.01 \n",
      "\n",
      "Epoch 43\n",
      "-------------------------------\n"
     ]
    },
    {
     "data": {
      "application/json": {
       "ascii": false,
       "bar_format": null,
       "colour": null,
       "elapsed": 0.027001619338989258,
       "initial": 0,
       "n": 0,
       "ncols": null,
       "nrows": null,
       "postfix": null,
       "prefix": "",
       "rate": null,
       "total": 225,
       "unit": "it",
       "unit_divisor": 1000,
       "unit_scale": false
      },
      "application/vnd.jupyter.widget-view+json": {
       "model_id": "5428a09222444b3282ed470ef377afce",
       "version_major": 2,
       "version_minor": 0
      },
      "text/plain": [
       "  0%|          | 0/225 [00:00<?, ?it/s]"
      ]
     },
     "metadata": {},
     "output_type": "display_data"
    },
    {
     "name": "stdout",
     "output_type": "stream",
     "text": [
      "loss: 1.303\n",
      "Test Error: \n",
      " Accuracy: 54.32%, Avg loss: 0.01 \n",
      "\n",
      "Epoch 44\n",
      "-------------------------------\n"
     ]
    },
    {
     "data": {
      "application/json": {
       "ascii": false,
       "bar_format": null,
       "colour": null,
       "elapsed": 0.03000164031982422,
       "initial": 0,
       "n": 0,
       "ncols": null,
       "nrows": null,
       "postfix": null,
       "prefix": "",
       "rate": null,
       "total": 225,
       "unit": "it",
       "unit_divisor": 1000,
       "unit_scale": false
      },
      "application/vnd.jupyter.widget-view+json": {
       "model_id": "f782455240df4b2bb3124922187640fe",
       "version_major": 2,
       "version_minor": 0
      },
      "text/plain": [
       "  0%|          | 0/225 [00:00<?, ?it/s]"
      ]
     },
     "metadata": {},
     "output_type": "display_data"
    },
    {
     "name": "stdout",
     "output_type": "stream",
     "text": [
      "loss: 1.302\n",
      "Test Error: \n",
      " Accuracy: 53.97%, Avg loss: 0.01 \n",
      "\n",
      "Epoch 45\n",
      "-------------------------------\n"
     ]
    },
    {
     "data": {
      "application/json": {
       "ascii": false,
       "bar_format": null,
       "colour": null,
       "elapsed": 0.029992341995239258,
       "initial": 0,
       "n": 0,
       "ncols": null,
       "nrows": null,
       "postfix": null,
       "prefix": "",
       "rate": null,
       "total": 225,
       "unit": "it",
       "unit_divisor": 1000,
       "unit_scale": false
      },
      "application/vnd.jupyter.widget-view+json": {
       "model_id": "8c0a2107a69642998d2b3cd6e712ed13",
       "version_major": 2,
       "version_minor": 0
      },
      "text/plain": [
       "  0%|          | 0/225 [00:00<?, ?it/s]"
      ]
     },
     "metadata": {},
     "output_type": "display_data"
    },
    {
     "name": "stdout",
     "output_type": "stream",
     "text": [
      "loss: 1.299\n",
      "Test Error: \n",
      " Accuracy: 56.06%, Avg loss: 0.01 \n",
      "\n",
      "Epoch 46\n",
      "-------------------------------\n"
     ]
    },
    {
     "data": {
      "application/json": {
       "ascii": false,
       "bar_format": null,
       "colour": null,
       "elapsed": 0.028000831604003906,
       "initial": 0,
       "n": 0,
       "ncols": null,
       "nrows": null,
       "postfix": null,
       "prefix": "",
       "rate": null,
       "total": 225,
       "unit": "it",
       "unit_divisor": 1000,
       "unit_scale": false
      },
      "application/vnd.jupyter.widget-view+json": {
       "model_id": "4d6c6f0e8d424088b1f90a6ffb61c1fc",
       "version_major": 2,
       "version_minor": 0
      },
      "text/plain": [
       "  0%|          | 0/225 [00:00<?, ?it/s]"
      ]
     },
     "metadata": {},
     "output_type": "display_data"
    },
    {
     "name": "stdout",
     "output_type": "stream",
     "text": [
      "loss: 1.297\n",
      "Test Error: \n",
      " Accuracy: 55.56%, Avg loss: 0.01 \n",
      "\n",
      "Epoch 47\n",
      "-------------------------------\n"
     ]
    },
    {
     "data": {
      "application/json": {
       "ascii": false,
       "bar_format": null,
       "colour": null,
       "elapsed": 0.030008316040039062,
       "initial": 0,
       "n": 0,
       "ncols": null,
       "nrows": null,
       "postfix": null,
       "prefix": "",
       "rate": null,
       "total": 225,
       "unit": "it",
       "unit_divisor": 1000,
       "unit_scale": false
      },
      "application/vnd.jupyter.widget-view+json": {
       "model_id": "b66da43cc7e040ddae567cc27ad2dd86",
       "version_major": 2,
       "version_minor": 0
      },
      "text/plain": [
       "  0%|          | 0/225 [00:00<?, ?it/s]"
      ]
     },
     "metadata": {},
     "output_type": "display_data"
    },
    {
     "name": "stdout",
     "output_type": "stream",
     "text": [
      "loss: 1.299\n",
      "Test Error: \n",
      " Accuracy: 53.19%, Avg loss: 0.01 \n",
      "\n",
      "Epoch 48\n",
      "-------------------------------\n"
     ]
    },
    {
     "data": {
      "application/json": {
       "ascii": false,
       "bar_format": null,
       "colour": null,
       "elapsed": 0.028002262115478516,
       "initial": 0,
       "n": 0,
       "ncols": null,
       "nrows": null,
       "postfix": null,
       "prefix": "",
       "rate": null,
       "total": 225,
       "unit": "it",
       "unit_divisor": 1000,
       "unit_scale": false
      },
      "application/vnd.jupyter.widget-view+json": {
       "model_id": "9748288c8d4441d19d8f45f34d481de2",
       "version_major": 2,
       "version_minor": 0
      },
      "text/plain": [
       "  0%|          | 0/225 [00:00<?, ?it/s]"
      ]
     },
     "metadata": {},
     "output_type": "display_data"
    },
    {
     "name": "stdout",
     "output_type": "stream",
     "text": [
      "loss: 1.296\n",
      "Test Error: \n",
      " Accuracy: 56.06%, Avg loss: 0.01 \n",
      "\n",
      "Epoch 49\n",
      "-------------------------------\n"
     ]
    },
    {
     "data": {
      "application/json": {
       "ascii": false,
       "bar_format": null,
       "colour": null,
       "elapsed": 0.029002666473388672,
       "initial": 0,
       "n": 0,
       "ncols": null,
       "nrows": null,
       "postfix": null,
       "prefix": "",
       "rate": null,
       "total": 225,
       "unit": "it",
       "unit_divisor": 1000,
       "unit_scale": false
      },
      "application/vnd.jupyter.widget-view+json": {
       "model_id": "4dba4cb2e4864abfae1abcdf04c52953",
       "version_major": 2,
       "version_minor": 0
      },
      "text/plain": [
       "  0%|          | 0/225 [00:00<?, ?it/s]"
      ]
     },
     "metadata": {},
     "output_type": "display_data"
    },
    {
     "name": "stdout",
     "output_type": "stream",
     "text": [
      "loss: 1.298\n",
      "Test Error: \n",
      " Accuracy: 52.79%, Avg loss: 0.01 \n",
      "\n",
      "Epoch 50\n",
      "-------------------------------\n"
     ]
    },
    {
     "data": {
      "application/json": {
       "ascii": false,
       "bar_format": null,
       "colour": null,
       "elapsed": 0.03000164031982422,
       "initial": 0,
       "n": 0,
       "ncols": null,
       "nrows": null,
       "postfix": null,
       "prefix": "",
       "rate": null,
       "total": 225,
       "unit": "it",
       "unit_divisor": 1000,
       "unit_scale": false
      },
      "application/vnd.jupyter.widget-view+json": {
       "model_id": "7085121995fe400ba45723c7aa7dd128",
       "version_major": 2,
       "version_minor": 0
      },
      "text/plain": [
       "  0%|          | 0/225 [00:00<?, ?it/s]"
      ]
     },
     "metadata": {},
     "output_type": "display_data"
    },
    {
     "name": "stdout",
     "output_type": "stream",
     "text": [
      "loss: 1.293\n",
      "Test Error: \n",
      " Accuracy: 54.95%, Avg loss: 0.01 \n",
      "\n",
      "Epoch 51\n",
      "-------------------------------\n"
     ]
    },
    {
     "data": {
      "application/json": {
       "ascii": false,
       "bar_format": null,
       "colour": null,
       "elapsed": 0.028000593185424805,
       "initial": 0,
       "n": 0,
       "ncols": null,
       "nrows": null,
       "postfix": null,
       "prefix": "",
       "rate": null,
       "total": 225,
       "unit": "it",
       "unit_divisor": 1000,
       "unit_scale": false
      },
      "application/vnd.jupyter.widget-view+json": {
       "model_id": "c0bc370567e54ca38273af325d8eb181",
       "version_major": 2,
       "version_minor": 0
      },
      "text/plain": [
       "  0%|          | 0/225 [00:00<?, ?it/s]"
      ]
     },
     "metadata": {},
     "output_type": "display_data"
    },
    {
     "name": "stdout",
     "output_type": "stream",
     "text": [
      "loss: 1.290\n",
      "Test Error: \n",
      " Accuracy: 52.41%, Avg loss: 0.01 \n",
      "\n",
      "Epoch 52\n",
      "-------------------------------\n"
     ]
    },
    {
     "data": {
      "application/json": {
       "ascii": false,
       "bar_format": null,
       "colour": null,
       "elapsed": 0.02899956703186035,
       "initial": 0,
       "n": 0,
       "ncols": null,
       "nrows": null,
       "postfix": null,
       "prefix": "",
       "rate": null,
       "total": 225,
       "unit": "it",
       "unit_divisor": 1000,
       "unit_scale": false
      },
      "application/vnd.jupyter.widget-view+json": {
       "model_id": "503b5a6814ea489d9ed72694ce37a941",
       "version_major": 2,
       "version_minor": 0
      },
      "text/plain": [
       "  0%|          | 0/225 [00:00<?, ?it/s]"
      ]
     },
     "metadata": {},
     "output_type": "display_data"
    },
    {
     "name": "stdout",
     "output_type": "stream",
     "text": [
      "loss: 1.290\n",
      "Test Error: \n",
      " Accuracy: 54.43%, Avg loss: 0.01 \n",
      "\n",
      "Epoch 53\n",
      "-------------------------------\n"
     ]
    },
    {
     "data": {
      "application/json": {
       "ascii": false,
       "bar_format": null,
       "colour": null,
       "elapsed": 0.0240020751953125,
       "initial": 0,
       "n": 0,
       "ncols": null,
       "nrows": null,
       "postfix": null,
       "prefix": "",
       "rate": null,
       "total": 225,
       "unit": "it",
       "unit_divisor": 1000,
       "unit_scale": false
      },
      "application/vnd.jupyter.widget-view+json": {
       "model_id": "daa3b0e94dc14903b2801431d42dfc0c",
       "version_major": 2,
       "version_minor": 0
      },
      "text/plain": [
       "  0%|          | 0/225 [00:00<?, ?it/s]"
      ]
     },
     "metadata": {},
     "output_type": "display_data"
    },
    {
     "name": "stdout",
     "output_type": "stream",
     "text": [
      "loss: 1.289\n",
      "Test Error: \n",
      " Accuracy: 54.03%, Avg loss: 0.01 \n",
      "\n",
      "Epoch 54\n",
      "-------------------------------\n"
     ]
    },
    {
     "data": {
      "application/json": {
       "ascii": false,
       "bar_format": null,
       "colour": null,
       "elapsed": 0.025995492935180664,
       "initial": 0,
       "n": 0,
       "ncols": null,
       "nrows": null,
       "postfix": null,
       "prefix": "",
       "rate": null,
       "total": 225,
       "unit": "it",
       "unit_divisor": 1000,
       "unit_scale": false
      },
      "application/vnd.jupyter.widget-view+json": {
       "model_id": "cd410273ed3945eeab45434178753a81",
       "version_major": 2,
       "version_minor": 0
      },
      "text/plain": [
       "  0%|          | 0/225 [00:00<?, ?it/s]"
      ]
     },
     "metadata": {},
     "output_type": "display_data"
    },
    {
     "name": "stdout",
     "output_type": "stream",
     "text": [
      "loss: 1.286\n",
      "Test Error: \n",
      " Accuracy: 54.85%, Avg loss: 0.01 \n",
      "\n",
      "Epoch 55\n",
      "-------------------------------\n"
     ]
    },
    {
     "data": {
      "application/json": {
       "ascii": false,
       "bar_format": null,
       "colour": null,
       "elapsed": 0.03197026252746582,
       "initial": 0,
       "n": 0,
       "ncols": null,
       "nrows": null,
       "postfix": null,
       "prefix": "",
       "rate": null,
       "total": 225,
       "unit": "it",
       "unit_divisor": 1000,
       "unit_scale": false
      },
      "application/vnd.jupyter.widget-view+json": {
       "model_id": "1a4a6abe7acb43d7b22ed917718c9cff",
       "version_major": 2,
       "version_minor": 0
      },
      "text/plain": [
       "  0%|          | 0/225 [00:00<?, ?it/s]"
      ]
     },
     "metadata": {},
     "output_type": "display_data"
    },
    {
     "name": "stdout",
     "output_type": "stream",
     "text": [
      "loss: 1.287\n",
      "Test Error: \n",
      " Accuracy: 55.88%, Avg loss: 0.01 \n",
      "\n",
      "Epoch 56\n",
      "-------------------------------\n"
     ]
    },
    {
     "data": {
      "application/json": {
       "ascii": false,
       "bar_format": null,
       "colour": null,
       "elapsed": 0.026001930236816406,
       "initial": 0,
       "n": 0,
       "ncols": null,
       "nrows": null,
       "postfix": null,
       "prefix": "",
       "rate": null,
       "total": 225,
       "unit": "it",
       "unit_divisor": 1000,
       "unit_scale": false
      },
      "application/vnd.jupyter.widget-view+json": {
       "model_id": "bac50f864bc04f0f9fd54188ee8d512c",
       "version_major": 2,
       "version_minor": 0
      },
      "text/plain": [
       "  0%|          | 0/225 [00:00<?, ?it/s]"
      ]
     },
     "metadata": {},
     "output_type": "display_data"
    },
    {
     "name": "stdout",
     "output_type": "stream",
     "text": [
      "loss: 1.283\n",
      "Test Error: \n",
      " Accuracy: 55.42%, Avg loss: 0.01 \n",
      "\n",
      "Epoch 57\n",
      "-------------------------------\n"
     ]
    },
    {
     "data": {
      "application/json": {
       "ascii": false,
       "bar_format": null,
       "colour": null,
       "elapsed": 0.026001691818237305,
       "initial": 0,
       "n": 0,
       "ncols": null,
       "nrows": null,
       "postfix": null,
       "prefix": "",
       "rate": null,
       "total": 225,
       "unit": "it",
       "unit_divisor": 1000,
       "unit_scale": false
      },
      "application/vnd.jupyter.widget-view+json": {
       "model_id": "d4bcea4b7fc94ad6b861eca9411a48b0",
       "version_major": 2,
       "version_minor": 0
      },
      "text/plain": [
       "  0%|          | 0/225 [00:00<?, ?it/s]"
      ]
     },
     "metadata": {},
     "output_type": "display_data"
    },
    {
     "name": "stdout",
     "output_type": "stream",
     "text": [
      "loss: 1.282\n",
      "Test Error: \n",
      " Accuracy: 56.39%, Avg loss: 0.01 \n",
      "\n",
      "Epoch 58\n",
      "-------------------------------\n"
     ]
    },
    {
     "data": {
      "application/json": {
       "ascii": false,
       "bar_format": null,
       "colour": null,
       "elapsed": 0.029993057250976562,
       "initial": 0,
       "n": 0,
       "ncols": null,
       "nrows": null,
       "postfix": null,
       "prefix": "",
       "rate": null,
       "total": 225,
       "unit": "it",
       "unit_divisor": 1000,
       "unit_scale": false
      },
      "application/vnd.jupyter.widget-view+json": {
       "model_id": "6eb4a2b61ada43c1ae003bdaf3bb0d70",
       "version_major": 2,
       "version_minor": 0
      },
      "text/plain": [
       "  0%|          | 0/225 [00:00<?, ?it/s]"
      ]
     },
     "metadata": {},
     "output_type": "display_data"
    },
    {
     "name": "stdout",
     "output_type": "stream",
     "text": [
      "loss: 1.280\n",
      "Test Error: \n",
      " Accuracy: 55.28%, Avg loss: 0.01 \n",
      "\n",
      "Epoch 59\n",
      "-------------------------------\n"
     ]
    },
    {
     "data": {
      "application/json": {
       "ascii": false,
       "bar_format": null,
       "colour": null,
       "elapsed": 0.028992652893066406,
       "initial": 0,
       "n": 0,
       "ncols": null,
       "nrows": null,
       "postfix": null,
       "prefix": "",
       "rate": null,
       "total": 225,
       "unit": "it",
       "unit_divisor": 1000,
       "unit_scale": false
      },
      "application/vnd.jupyter.widget-view+json": {
       "model_id": "9ba2dfe4db82456e93716dd5743aa095",
       "version_major": 2,
       "version_minor": 0
      },
      "text/plain": [
       "  0%|          | 0/225 [00:00<?, ?it/s]"
      ]
     },
     "metadata": {},
     "output_type": "display_data"
    },
    {
     "name": "stdout",
     "output_type": "stream",
     "text": [
      "loss: 1.283\n",
      "Test Error: \n",
      " Accuracy: 54.25%, Avg loss: 0.01 \n",
      "\n",
      "Epoch 60\n",
      "-------------------------------\n"
     ]
    },
    {
     "data": {
      "application/json": {
       "ascii": false,
       "bar_format": null,
       "colour": null,
       "elapsed": 0.02700042724609375,
       "initial": 0,
       "n": 0,
       "ncols": null,
       "nrows": null,
       "postfix": null,
       "prefix": "",
       "rate": null,
       "total": 225,
       "unit": "it",
       "unit_divisor": 1000,
       "unit_scale": false
      },
      "application/vnd.jupyter.widget-view+json": {
       "model_id": "6b0d0e8568d748c199996b16a35c63d1",
       "version_major": 2,
       "version_minor": 0
      },
      "text/plain": [
       "  0%|          | 0/225 [00:00<?, ?it/s]"
      ]
     },
     "metadata": {},
     "output_type": "display_data"
    },
    {
     "name": "stdout",
     "output_type": "stream",
     "text": [
      "loss: 1.276\n",
      "Test Error: \n",
      " Accuracy: 56.12%, Avg loss: 0.01 \n",
      "\n",
      "Epoch 61\n",
      "-------------------------------\n"
     ]
    },
    {
     "data": {
      "application/json": {
       "ascii": false,
       "bar_format": null,
       "colour": null,
       "elapsed": 0.024002790451049805,
       "initial": 0,
       "n": 0,
       "ncols": null,
       "nrows": null,
       "postfix": null,
       "prefix": "",
       "rate": null,
       "total": 225,
       "unit": "it",
       "unit_divisor": 1000,
       "unit_scale": false
      },
      "application/vnd.jupyter.widget-view+json": {
       "model_id": "5a194c5383824b6eb4c4332e69eb1735",
       "version_major": 2,
       "version_minor": 0
      },
      "text/plain": [
       "  0%|          | 0/225 [00:00<?, ?it/s]"
      ]
     },
     "metadata": {},
     "output_type": "display_data"
    },
    {
     "name": "stdout",
     "output_type": "stream",
     "text": [
      "loss: 1.277\n",
      "Test Error: \n",
      " Accuracy: 55.56%, Avg loss: 0.01 \n",
      "\n",
      "Epoch 62\n",
      "-------------------------------\n"
     ]
    },
    {
     "data": {
      "application/json": {
       "ascii": false,
       "bar_format": null,
       "colour": null,
       "elapsed": 0.025000810623168945,
       "initial": 0,
       "n": 0,
       "ncols": null,
       "nrows": null,
       "postfix": null,
       "prefix": "",
       "rate": null,
       "total": 225,
       "unit": "it",
       "unit_divisor": 1000,
       "unit_scale": false
      },
      "application/vnd.jupyter.widget-view+json": {
       "model_id": "27d7c3c672ef4a1fb99f79c3c079d1ac",
       "version_major": 2,
       "version_minor": 0
      },
      "text/plain": [
       "  0%|          | 0/225 [00:00<?, ?it/s]"
      ]
     },
     "metadata": {},
     "output_type": "display_data"
    },
    {
     "name": "stdout",
     "output_type": "stream",
     "text": [
      "loss: 1.276\n",
      "Test Error: \n",
      " Accuracy: 56.19%, Avg loss: 0.01 \n",
      "\n",
      "Epoch 63\n",
      "-------------------------------\n"
     ]
    },
    {
     "data": {
      "application/json": {
       "ascii": false,
       "bar_format": null,
       "colour": null,
       "elapsed": 0.031000614166259766,
       "initial": 0,
       "n": 0,
       "ncols": null,
       "nrows": null,
       "postfix": null,
       "prefix": "",
       "rate": null,
       "total": 225,
       "unit": "it",
       "unit_divisor": 1000,
       "unit_scale": false
      },
      "application/vnd.jupyter.widget-view+json": {
       "model_id": "765e7f8cd1604cfb89fe433896e556b9",
       "version_major": 2,
       "version_minor": 0
      },
      "text/plain": [
       "  0%|          | 0/225 [00:00<?, ?it/s]"
      ]
     },
     "metadata": {},
     "output_type": "display_data"
    },
    {
     "name": "stdout",
     "output_type": "stream",
     "text": [
      "loss: 1.275\n",
      "Test Error: \n",
      " Accuracy: 55.88%, Avg loss: 0.01 \n",
      "\n",
      "Epoch 64\n",
      "-------------------------------\n"
     ]
    },
    {
     "data": {
      "application/json": {
       "ascii": false,
       "bar_format": null,
       "colour": null,
       "elapsed": 0.024997234344482422,
       "initial": 0,
       "n": 0,
       "ncols": null,
       "nrows": null,
       "postfix": null,
       "prefix": "",
       "rate": null,
       "total": 225,
       "unit": "it",
       "unit_divisor": 1000,
       "unit_scale": false
      },
      "application/vnd.jupyter.widget-view+json": {
       "model_id": "856812e469074735999235b9c7a9b8ed",
       "version_major": 2,
       "version_minor": 0
      },
      "text/plain": [
       "  0%|          | 0/225 [00:00<?, ?it/s]"
      ]
     },
     "metadata": {},
     "output_type": "display_data"
    },
    {
     "name": "stdout",
     "output_type": "stream",
     "text": [
      "loss: 1.275\n",
      "Test Error: \n",
      " Accuracy: 56.39%, Avg loss: 0.01 \n",
      "\n"
     ]
    }
   ],
   "source": [
    "test_accuracies = []\n",
    "# Training and testing the model\n",
    "epochs = 64\n",
    "for t in range(epochs):\n",
    "    print(f\"Epoch {t+1}\\n-------------------------------\")\n",
    "    train_loss = train(train_dataloader, model, loss_fn, optimizer, device)\n",
    "    acc = test(test_dataloader, model, loss_fn, device)\n",
    "    test_accuracies.append(acc)    "
   ]
  },
  {
   "cell_type": "code",
   "execution_count": 33,
   "id": "38700c80",
   "metadata": {},
   "outputs": [
    {
     "name": "stdout",
     "output_type": "stream",
     "text": [
      "Saved PyTorch Model State to model.pth\n"
     ]
    }
   ],
   "source": [
    "torch.save(model.state_dict(), \"model resnet18.pth\")\n",
    "print(\"Saved PyTorch Model State to model.pth\")"
   ]
  },
  {
   "cell_type": "code",
   "execution_count": 49,
   "id": "7b03e58a",
   "metadata": {},
   "outputs": [
    {
     "data": {
      "text/plain": [
       "ResNet(\n",
       "  (layer0): Sequential(\n",
       "    (0): Conv2d(3, 64, kernel_size=(7, 7), stride=(2, 2), padding=(3, 3))\n",
       "    (1): MaxPool2d(kernel_size=3, stride=2, padding=1, dilation=1, ceil_mode=False)\n",
       "    (2): BatchNorm2d(64, eps=1e-05, momentum=0.1, affine=True, track_running_stats=True)\n",
       "    (3): ReLU()\n",
       "  )\n",
       "  (layer1): Sequential(\n",
       "    (conv2_1): ResBlock(\n",
       "      (conv1): Conv2d(64, 64, kernel_size=(3, 3), stride=(1, 1), padding=(1, 1))\n",
       "      (shortcut): Sequential()\n",
       "      (conv2): Conv2d(64, 64, kernel_size=(3, 3), stride=(1, 1), padding=(1, 1))\n",
       "      (bn1): BatchNorm2d(64, eps=1e-05, momentum=0.1, affine=True, track_running_stats=True)\n",
       "      (bn2): BatchNorm2d(64, eps=1e-05, momentum=0.1, affine=True, track_running_stats=True)\n",
       "    )\n",
       "    (conv2_2): ResBlock(\n",
       "      (conv1): Conv2d(64, 64, kernel_size=(3, 3), stride=(1, 1), padding=(1, 1))\n",
       "      (shortcut): Sequential()\n",
       "      (conv2): Conv2d(64, 64, kernel_size=(3, 3), stride=(1, 1), padding=(1, 1))\n",
       "      (bn1): BatchNorm2d(64, eps=1e-05, momentum=0.1, affine=True, track_running_stats=True)\n",
       "      (bn2): BatchNorm2d(64, eps=1e-05, momentum=0.1, affine=True, track_running_stats=True)\n",
       "    )\n",
       "  )\n",
       "  (layer2): Sequential(\n",
       "    (conv3_1): ResBlock(\n",
       "      (conv1): Conv2d(64, 128, kernel_size=(3, 3), stride=(1, 1), padding=(1, 1))\n",
       "      (shortcut): Sequential(\n",
       "        (0): Conv2d(64, 128, kernel_size=(1, 1), stride=(1, 1))\n",
       "        (1): BatchNorm2d(128, eps=1e-05, momentum=0.1, affine=True, track_running_stats=True)\n",
       "      )\n",
       "      (conv2): Conv2d(128, 128, kernel_size=(3, 3), stride=(1, 1), padding=(1, 1))\n",
       "      (bn1): BatchNorm2d(128, eps=1e-05, momentum=0.1, affine=True, track_running_stats=True)\n",
       "      (bn2): BatchNorm2d(128, eps=1e-05, momentum=0.1, affine=True, track_running_stats=True)\n",
       "    )\n",
       "    (conv3_2): ResBlock(\n",
       "      (conv1): Conv2d(128, 128, kernel_size=(3, 3), stride=(1, 1), padding=(1, 1))\n",
       "      (shortcut): Sequential()\n",
       "      (conv2): Conv2d(128, 128, kernel_size=(3, 3), stride=(1, 1), padding=(1, 1))\n",
       "      (bn1): BatchNorm2d(128, eps=1e-05, momentum=0.1, affine=True, track_running_stats=True)\n",
       "      (bn2): BatchNorm2d(128, eps=1e-05, momentum=0.1, affine=True, track_running_stats=True)\n",
       "    )\n",
       "  )\n",
       "  (layer3): Sequential(\n",
       "    (conv4_1): ResBlock(\n",
       "      (conv1): Conv2d(128, 256, kernel_size=(3, 3), stride=(1, 1), padding=(1, 1))\n",
       "      (shortcut): Sequential(\n",
       "        (0): Conv2d(128, 256, kernel_size=(1, 1), stride=(1, 1))\n",
       "        (1): BatchNorm2d(256, eps=1e-05, momentum=0.1, affine=True, track_running_stats=True)\n",
       "      )\n",
       "      (conv2): Conv2d(256, 256, kernel_size=(3, 3), stride=(1, 1), padding=(1, 1))\n",
       "      (bn1): BatchNorm2d(256, eps=1e-05, momentum=0.1, affine=True, track_running_stats=True)\n",
       "      (bn2): BatchNorm2d(256, eps=1e-05, momentum=0.1, affine=True, track_running_stats=True)\n",
       "    )\n",
       "    (conv2_2): ResBlock(\n",
       "      (conv1): Conv2d(256, 256, kernel_size=(3, 3), stride=(1, 1), padding=(1, 1))\n",
       "      (shortcut): Sequential()\n",
       "      (conv2): Conv2d(256, 256, kernel_size=(3, 3), stride=(1, 1), padding=(1, 1))\n",
       "      (bn1): BatchNorm2d(256, eps=1e-05, momentum=0.1, affine=True, track_running_stats=True)\n",
       "      (bn2): BatchNorm2d(256, eps=1e-05, momentum=0.1, affine=True, track_running_stats=True)\n",
       "    )\n",
       "  )\n",
       "  (layer4): Sequential(\n",
       "    (conv5_1): ResBlock(\n",
       "      (conv1): Conv2d(256, 512, kernel_size=(3, 3), stride=(1, 1), padding=(1, 1))\n",
       "      (shortcut): Sequential(\n",
       "        (0): Conv2d(256, 512, kernel_size=(1, 1), stride=(1, 1))\n",
       "        (1): BatchNorm2d(512, eps=1e-05, momentum=0.1, affine=True, track_running_stats=True)\n",
       "      )\n",
       "      (conv2): Conv2d(512, 512, kernel_size=(3, 3), stride=(1, 1), padding=(1, 1))\n",
       "      (bn1): BatchNorm2d(512, eps=1e-05, momentum=0.1, affine=True, track_running_stats=True)\n",
       "      (bn2): BatchNorm2d(512, eps=1e-05, momentum=0.1, affine=True, track_running_stats=True)\n",
       "    )\n",
       "    (conv3_2): ResBlock(\n",
       "      (conv1): Conv2d(512, 512, kernel_size=(3, 3), stride=(1, 1), padding=(1, 1))\n",
       "      (shortcut): Sequential()\n",
       "      (conv2): Conv2d(512, 512, kernel_size=(3, 3), stride=(1, 1), padding=(1, 1))\n",
       "      (bn1): BatchNorm2d(512, eps=1e-05, momentum=0.1, affine=True, track_running_stats=True)\n",
       "      (bn2): BatchNorm2d(512, eps=1e-05, momentum=0.1, affine=True, track_running_stats=True)\n",
       "    )\n",
       "  )\n",
       "  (gap): AdaptiveAvgPool2d(output_size=1)\n",
       "  (fc): Sequential(\n",
       "    (0): Linear(in_features=512, out_features=7, bias=True)\n",
       "    (1): Softmax(dim=None)\n",
       "  )\n",
       ")"
      ]
     },
     "execution_count": 49,
     "metadata": {},
     "output_type": "execute_result"
    }
   ],
   "source": [
    "model = resnet18\n",
    "model.load_state_dict(torch.load(\"model resnet18.pth\"))\n",
    "model.to(device)"
   ]
  },
  {
   "cell_type": "code",
   "execution_count": 48,
   "id": "716481a9",
   "metadata": {},
   "outputs": [
    {
     "name": "stdout",
     "output_type": "stream",
     "text": [
      "resnet18\n"
     ]
    },
    {
     "ename": "TypeError",
     "evalue": "test() missing 1 required positional argument: 'device'",
     "output_type": "error",
     "traceback": [
      "\u001b[1;31m---------------------------------------------------------------------------\u001b[0m",
      "\u001b[1;31mTypeError\u001b[0m                                 Traceback (most recent call last)",
      "\u001b[1;32mc:\\Users\\PC\\Desktop\\ADL project\\ResNet.ipynb Cell 18\u001b[0m in \u001b[0;36m<cell line: 2>\u001b[1;34m()\u001b[0m\n\u001b[0;32m      <a href='vscode-notebook-cell:/c%3A/Users/PC/Desktop/ADL%20project/ResNet.ipynb#Y116sZmlsZQ%3D%3D?line=0'>1</a>\u001b[0m \u001b[39mprint\u001b[39m(\u001b[39m'\u001b[39m\u001b[39mresnet18\u001b[39m\u001b[39m'\u001b[39m)\n\u001b[1;32m----> <a href='vscode-notebook-cell:/c%3A/Users/PC/Desktop/ADL%20project/ResNet.ipynb#Y116sZmlsZQ%3D%3D?line=1'>2</a>\u001b[0m test(test_dataloader, model, loss_fn)\n",
      "\u001b[1;31mTypeError\u001b[0m: test() missing 1 required positional argument: 'device'"
     ]
    }
   ],
   "source": [
    "print('resnet18')\n",
    "test(test_dataloader, model, loss_fn)"
   ]
  },
  {
   "cell_type": "code",
   "execution_count": 42,
   "id": "b56524ec",
   "metadata": {},
   "outputs": [
    {
     "data": {
      "image/png": "[encoded data removed]",
      "text/plain": [
       "<Figure size 432x288 with 1 Axes>"
      ]
     },
     "metadata": {
      "needs_background": "light"
     },
     "output_type": "display_data"
    }
   ],
   "source": [
    "import matplotlib.pyplot as plt\n",
    "\n",
    "x_axis = [i for i in range(1, epochs+1)]\n",
    "plt.plot(x_axis, test_accuracies)\n",
    "\n",
    "plt.xlabel('Epochs')\n",
    "plt.ylabel('Accuracy')\n",
    "plt.title('ResNet18 Accuracy')\n",
    "\n",
    "plt.show()"
   ]
  },
  {
   "cell_type": "code",
   "execution_count": 52,
   "id": "60d402c5",
   "metadata": {},
   "outputs": [],
   "source": [
    "model2 = resnet152\n",
    "# Define the device (CPU or GPU)\n",
    "device = torch.device(\"cuda:0\" if torch.cuda.is_available() else \"cpu\")\n",
    "\n",
    "# Optimizing the model parameters\n",
    "loss_fn = nn.CrossEntropyLoss()\n",
    "optimizer = torch.optim.Adam(model.parameters(), lr=0.0005)\n"
   ]
  },
  {
   "cell_type": "code",
   "execution_count": 53,
   "id": "7adff378",
   "metadata": {},
   "outputs": [
    {
     "name": "stdout",
     "output_type": "stream",
     "text": [
      "Epoch 1\n",
      "-------------------------------\n"
     ]
    },
    {
     "data": {
      "application/json": {
       "ascii": false,
       "bar_format": null,
       "colour": null,
       "elapsed": 0.031998395919799805,
       "initial": 0,
       "n": 0,
       "ncols": null,
       "nrows": null,
       "postfix": null,
       "prefix": "",
       "rate": null,
       "total": 225,
       "unit": "it",
       "unit_divisor": 1000,
       "unit_scale": false
      },
      "application/vnd.jupyter.widget-view+json": {
       "model_id": "56ecdf565e16489b878ecb3deed9f6be",
       "version_major": 2,
       "version_minor": 0
      },
      "text/plain": [
       "  0%|          | 0/225 [00:00<?, ?it/s]"
      ]
     },
     "metadata": {},
     "output_type": "display_data"
    },
    {
     "name": "stdout",
     "output_type": "stream",
     "text": [
      "loss: 1.957\n",
      "Test Error: \n",
      " Accuracy: 5.25%, Avg loss: 0.02 \n",
      "\n",
      "Epoch 2\n",
      "-------------------------------\n"
     ]
    },
    {
     "data": {
      "application/json": {
       "ascii": false,
       "bar_format": null,
       "colour": null,
       "elapsed": 0.02900075912475586,
       "initial": 0,
       "n": 0,
       "ncols": null,
       "nrows": null,
       "postfix": null,
       "prefix": "",
       "rate": null,
       "total": 225,
       "unit": "it",
       "unit_divisor": 1000,
       "unit_scale": false
      },
      "application/vnd.jupyter.widget-view+json": {
       "model_id": "9d257441f6bf4924bcd6ef5938ce97fe",
       "version_major": 2,
       "version_minor": 0
      },
      "text/plain": [
       "  0%|          | 0/225 [00:00<?, ?it/s]"
      ]
     },
     "metadata": {},
     "output_type": "display_data"
    },
    {
     "ename": "KeyboardInterrupt",
     "evalue": "",
     "output_type": "error",
     "traceback": [
      "\u001b[1;31m---------------------------------------------------------------------------\u001b[0m",
      "\u001b[1;31mKeyboardInterrupt\u001b[0m                         Traceback (most recent call last)",
      "\u001b[1;32mc:\\Users\\PC\\Desktop\\ADL project\\ResNet.ipynb Cell 21\u001b[0m in \u001b[0;36m<cell line: 4>\u001b[1;34m()\u001b[0m\n\u001b[0;32m      <a href='vscode-notebook-cell:/c%3A/Users/PC/Desktop/ADL%20project/ResNet.ipynb#Y111sZmlsZQ%3D%3D?line=3'>4</a>\u001b[0m \u001b[39mfor\u001b[39;00m t \u001b[39min\u001b[39;00m \u001b[39mrange\u001b[39m(epochs):\n\u001b[0;32m      <a href='vscode-notebook-cell:/c%3A/Users/PC/Desktop/ADL%20project/ResNet.ipynb#Y111sZmlsZQ%3D%3D?line=4'>5</a>\u001b[0m     \u001b[39mprint\u001b[39m(\u001b[39mf\u001b[39m\u001b[39m\"\u001b[39m\u001b[39mEpoch \u001b[39m\u001b[39m{\u001b[39;00mt\u001b[39m+\u001b[39m\u001b[39m1\u001b[39m\u001b[39m}\u001b[39;00m\u001b[39m\\n\u001b[39;00m\u001b[39m-------------------------------\u001b[39m\u001b[39m\"\u001b[39m)\n\u001b[1;32m----> <a href='vscode-notebook-cell:/c%3A/Users/PC/Desktop/ADL%20project/ResNet.ipynb#Y111sZmlsZQ%3D%3D?line=5'>6</a>\u001b[0m     train_loss \u001b[39m=\u001b[39m train(train_dataloader, model2, loss_fn, optimizer, device)\n\u001b[0;32m      <a href='vscode-notebook-cell:/c%3A/Users/PC/Desktop/ADL%20project/ResNet.ipynb#Y111sZmlsZQ%3D%3D?line=6'>7</a>\u001b[0m     acc \u001b[39m=\u001b[39m test(test_dataloader, model2, loss_fn, device)\n\u001b[0;32m      <a href='vscode-notebook-cell:/c%3A/Users/PC/Desktop/ADL%20project/ResNet.ipynb#Y111sZmlsZQ%3D%3D?line=7'>8</a>\u001b[0m     test_accuracies\u001b[39m.\u001b[39mappend(acc)\n",
      "\u001b[1;32mc:\\Users\\PC\\Desktop\\ADL project\\ResNet.ipynb Cell 21\u001b[0m in \u001b[0;36mtrain\u001b[1;34m(train_loader, model, criterion, optimizer, device)\u001b[0m\n\u001b[0;32m     <a href='vscode-notebook-cell:/c%3A/Users/PC/Desktop/ADL%20project/ResNet.ipynb#Y111sZmlsZQ%3D%3D?line=13'>14</a>\u001b[0m inputs, labels \u001b[39m=\u001b[39m data[\u001b[39m0\u001b[39m]\u001b[39m.\u001b[39mto(device), data[\u001b[39m1\u001b[39m]\u001b[39m.\u001b[39mto(device)\n\u001b[0;32m     <a href='vscode-notebook-cell:/c%3A/Users/PC/Desktop/ADL%20project/ResNet.ipynb#Y111sZmlsZQ%3D%3D?line=14'>15</a>\u001b[0m optimizer\u001b[39m.\u001b[39mzero_grad()\n\u001b[1;32m---> <a href='vscode-notebook-cell:/c%3A/Users/PC/Desktop/ADL%20project/ResNet.ipynb#Y111sZmlsZQ%3D%3D?line=15'>16</a>\u001b[0m outputs \u001b[39m=\u001b[39m model(inputs)\n\u001b[0;32m     <a href='vscode-notebook-cell:/c%3A/Users/PC/Desktop/ADL%20project/ResNet.ipynb#Y111sZmlsZQ%3D%3D?line=16'>17</a>\u001b[0m loss \u001b[39m=\u001b[39m criterion(outputs, labels)\n\u001b[0;32m     <a href='vscode-notebook-cell:/c%3A/Users/PC/Desktop/ADL%20project/ResNet.ipynb#Y111sZmlsZQ%3D%3D?line=17'>18</a>\u001b[0m loss\u001b[39m.\u001b[39mbackward()\n",
      "File \u001b[1;32md:\\Python\\Python310\\lib\\site-packages\\torch\\nn\\modules\\module.py:1194\u001b[0m, in \u001b[0;36mModule._call_impl\u001b[1;34m(self, *input, **kwargs)\u001b[0m\n\u001b[0;32m   1190\u001b[0m \u001b[39m# If we don't have any hooks, we want to skip the rest of the logic in\u001b[39;00m\n\u001b[0;32m   1191\u001b[0m \u001b[39m# this function, and just call forward.\u001b[39;00m\n\u001b[0;32m   1192\u001b[0m \u001b[39mif\u001b[39;00m \u001b[39mnot\u001b[39;00m (\u001b[39mself\u001b[39m\u001b[39m.\u001b[39m_backward_hooks \u001b[39mor\u001b[39;00m \u001b[39mself\u001b[39m\u001b[39m.\u001b[39m_forward_hooks \u001b[39mor\u001b[39;00m \u001b[39mself\u001b[39m\u001b[39m.\u001b[39m_forward_pre_hooks \u001b[39mor\u001b[39;00m _global_backward_hooks\n\u001b[0;32m   1193\u001b[0m         \u001b[39mor\u001b[39;00m _global_forward_hooks \u001b[39mor\u001b[39;00m _global_forward_pre_hooks):\n\u001b[1;32m-> 1194\u001b[0m     \u001b[39mreturn\u001b[39;00m forward_call(\u001b[39m*\u001b[39m\u001b[39minput\u001b[39m, \u001b[39m*\u001b[39m\u001b[39m*\u001b[39mkwargs)\n\u001b[0;32m   1195\u001b[0m \u001b[39m# Do not call functions when jit is used\u001b[39;00m\n\u001b[0;32m   1196\u001b[0m full_backward_hooks, non_full_backward_hooks \u001b[39m=\u001b[39m [], []\n",
      "\u001b[1;32mc:\\Users\\PC\\Desktop\\ADL project\\ResNet.ipynb Cell 21\u001b[0m in \u001b[0;36mResNet.forward\u001b[1;34m(self, input)\u001b[0m\n\u001b[0;32m     <a href='vscode-notebook-cell:/c%3A/Users/PC/Desktop/ADL%20project/ResNet.ipynb#Y111sZmlsZQ%3D%3D?line=45'>46</a>\u001b[0m \u001b[39minput\u001b[39m \u001b[39m=\u001b[39m \u001b[39mself\u001b[39m\u001b[39m.\u001b[39mlayer1(\u001b[39minput\u001b[39m)\n\u001b[0;32m     <a href='vscode-notebook-cell:/c%3A/Users/PC/Desktop/ADL%20project/ResNet.ipynb#Y111sZmlsZQ%3D%3D?line=46'>47</a>\u001b[0m \u001b[39minput\u001b[39m \u001b[39m=\u001b[39m \u001b[39mself\u001b[39m\u001b[39m.\u001b[39mlayer2(\u001b[39minput\u001b[39m)\n\u001b[1;32m---> <a href='vscode-notebook-cell:/c%3A/Users/PC/Desktop/ADL%20project/ResNet.ipynb#Y111sZmlsZQ%3D%3D?line=47'>48</a>\u001b[0m \u001b[39minput\u001b[39m \u001b[39m=\u001b[39m \u001b[39mself\u001b[39;49m\u001b[39m.\u001b[39;49mlayer3(\u001b[39minput\u001b[39;49m)\n\u001b[0;32m     <a href='vscode-notebook-cell:/c%3A/Users/PC/Desktop/ADL%20project/ResNet.ipynb#Y111sZmlsZQ%3D%3D?line=48'>49</a>\u001b[0m \u001b[39minput\u001b[39m \u001b[39m=\u001b[39m \u001b[39mself\u001b[39m\u001b[39m.\u001b[39mlayer4(\u001b[39minput\u001b[39m)\n\u001b[0;32m     <a href='vscode-notebook-cell:/c%3A/Users/PC/Desktop/ADL%20project/ResNet.ipynb#Y111sZmlsZQ%3D%3D?line=49'>50</a>\u001b[0m \u001b[39minput\u001b[39m \u001b[39m=\u001b[39m \u001b[39mself\u001b[39m\u001b[39m.\u001b[39mgap(\u001b[39minput\u001b[39m)\n",
      "File \u001b[1;32md:\\Python\\Python310\\lib\\site-packages\\torch\\nn\\modules\\module.py:1194\u001b[0m, in \u001b[0;36mModule._call_impl\u001b[1;34m(self, *input, **kwargs)\u001b[0m\n\u001b[0;32m   1190\u001b[0m \u001b[39m# If we don't have any hooks, we want to skip the rest of the logic in\u001b[39;00m\n\u001b[0;32m   1191\u001b[0m \u001b[39m# this function, and just call forward.\u001b[39;00m\n\u001b[0;32m   1192\u001b[0m \u001b[39mif\u001b[39;00m \u001b[39mnot\u001b[39;00m (\u001b[39mself\u001b[39m\u001b[39m.\u001b[39m_backward_hooks \u001b[39mor\u001b[39;00m \u001b[39mself\u001b[39m\u001b[39m.\u001b[39m_forward_hooks \u001b[39mor\u001b[39;00m \u001b[39mself\u001b[39m\u001b[39m.\u001b[39m_forward_pre_hooks \u001b[39mor\u001b[39;00m _global_backward_hooks\n\u001b[0;32m   1193\u001b[0m         \u001b[39mor\u001b[39;00m _global_forward_hooks \u001b[39mor\u001b[39;00m _global_forward_pre_hooks):\n\u001b[1;32m-> 1194\u001b[0m     \u001b[39mreturn\u001b[39;00m forward_call(\u001b[39m*\u001b[39m\u001b[39minput\u001b[39m, \u001b[39m*\u001b[39m\u001b[39m*\u001b[39mkwargs)\n\u001b[0;32m   1195\u001b[0m \u001b[39m# Do not call functions when jit is used\u001b[39;00m\n\u001b[0;32m   1196\u001b[0m full_backward_hooks, non_full_backward_hooks \u001b[39m=\u001b[39m [], []\n",
      "File \u001b[1;32md:\\Python\\Python310\\lib\\site-packages\\torch\\nn\\modules\\container.py:204\u001b[0m, in \u001b[0;36mSequential.forward\u001b[1;34m(self, input)\u001b[0m\n\u001b[0;32m    202\u001b[0m \u001b[39mdef\u001b[39;00m \u001b[39mforward\u001b[39m(\u001b[39mself\u001b[39m, \u001b[39minput\u001b[39m):\n\u001b[0;32m    203\u001b[0m     \u001b[39mfor\u001b[39;00m module \u001b[39min\u001b[39;00m \u001b[39mself\u001b[39m:\n\u001b[1;32m--> 204\u001b[0m         \u001b[39minput\u001b[39m \u001b[39m=\u001b[39m module(\u001b[39minput\u001b[39;49m)\n\u001b[0;32m    205\u001b[0m     \u001b[39mreturn\u001b[39;00m \u001b[39minput\u001b[39m\n",
      "File \u001b[1;32md:\\Python\\Python310\\lib\\site-packages\\torch\\nn\\modules\\module.py:1194\u001b[0m, in \u001b[0;36mModule._call_impl\u001b[1;34m(self, *input, **kwargs)\u001b[0m\n\u001b[0;32m   1190\u001b[0m \u001b[39m# If we don't have any hooks, we want to skip the rest of the logic in\u001b[39;00m\n\u001b[0;32m   1191\u001b[0m \u001b[39m# this function, and just call forward.\u001b[39;00m\n\u001b[0;32m   1192\u001b[0m \u001b[39mif\u001b[39;00m \u001b[39mnot\u001b[39;00m (\u001b[39mself\u001b[39m\u001b[39m.\u001b[39m_backward_hooks \u001b[39mor\u001b[39;00m \u001b[39mself\u001b[39m\u001b[39m.\u001b[39m_forward_hooks \u001b[39mor\u001b[39;00m \u001b[39mself\u001b[39m\u001b[39m.\u001b[39m_forward_pre_hooks \u001b[39mor\u001b[39;00m _global_backward_hooks\n\u001b[0;32m   1193\u001b[0m         \u001b[39mor\u001b[39;00m _global_forward_hooks \u001b[39mor\u001b[39;00m _global_forward_pre_hooks):\n\u001b[1;32m-> 1194\u001b[0m     \u001b[39mreturn\u001b[39;00m forward_call(\u001b[39m*\u001b[39m\u001b[39minput\u001b[39m, \u001b[39m*\u001b[39m\u001b[39m*\u001b[39mkwargs)\n\u001b[0;32m   1195\u001b[0m \u001b[39m# Do not call functions when jit is used\u001b[39;00m\n\u001b[0;32m   1196\u001b[0m full_backward_hooks, non_full_backward_hooks \u001b[39m=\u001b[39m [], []\n",
      "\u001b[1;32mc:\\Users\\PC\\Desktop\\ADL project\\ResNet.ipynb Cell 21\u001b[0m in \u001b[0;36mResBottleneckBlock.forward\u001b[1;34m(self, input)\u001b[0m\n\u001b[0;32m     <a href='vscode-notebook-cell:/c%3A/Users/PC/Desktop/ADL%20project/ResNet.ipynb#Y111sZmlsZQ%3D%3D?line=23'>24</a>\u001b[0m \u001b[39mdef\u001b[39;00m \u001b[39mforward\u001b[39m(\u001b[39mself\u001b[39m, \u001b[39minput\u001b[39m):\n\u001b[0;32m     <a href='vscode-notebook-cell:/c%3A/Users/PC/Desktop/ADL%20project/ResNet.ipynb#Y111sZmlsZQ%3D%3D?line=24'>25</a>\u001b[0m     shortcut \u001b[39m=\u001b[39m \u001b[39mself\u001b[39m\u001b[39m.\u001b[39mshortcut(\u001b[39minput\u001b[39m)\n\u001b[1;32m---> <a href='vscode-notebook-cell:/c%3A/Users/PC/Desktop/ADL%20project/ResNet.ipynb#Y111sZmlsZQ%3D%3D?line=25'>26</a>\u001b[0m     \u001b[39minput\u001b[39m \u001b[39m=\u001b[39m nn\u001b[39m.\u001b[39mReLU()(\u001b[39mself\u001b[39m\u001b[39m.\u001b[39mbn1(\u001b[39mself\u001b[39;49m\u001b[39m.\u001b[39;49mconv1(\u001b[39minput\u001b[39;49m)))\n\u001b[0;32m     <a href='vscode-notebook-cell:/c%3A/Users/PC/Desktop/ADL%20project/ResNet.ipynb#Y111sZmlsZQ%3D%3D?line=26'>27</a>\u001b[0m     \u001b[39minput\u001b[39m \u001b[39m=\u001b[39m nn\u001b[39m.\u001b[39mReLU()(\u001b[39mself\u001b[39m\u001b[39m.\u001b[39mbn2(\u001b[39mself\u001b[39m\u001b[39m.\u001b[39mconv2(\u001b[39minput\u001b[39m)))\n\u001b[0;32m     <a href='vscode-notebook-cell:/c%3A/Users/PC/Desktop/ADL%20project/ResNet.ipynb#Y111sZmlsZQ%3D%3D?line=27'>28</a>\u001b[0m     \u001b[39minput\u001b[39m \u001b[39m=\u001b[39m nn\u001b[39m.\u001b[39mReLU()(\u001b[39mself\u001b[39m\u001b[39m.\u001b[39mbn3(\u001b[39mself\u001b[39m\u001b[39m.\u001b[39mconv3(\u001b[39minput\u001b[39m)))\n",
      "File \u001b[1;32md:\\Python\\Python310\\lib\\site-packages\\torch\\nn\\modules\\module.py:1194\u001b[0m, in \u001b[0;36mModule._call_impl\u001b[1;34m(self, *input, **kwargs)\u001b[0m\n\u001b[0;32m   1190\u001b[0m \u001b[39m# If we don't have any hooks, we want to skip the rest of the logic in\u001b[39;00m\n\u001b[0;32m   1191\u001b[0m \u001b[39m# this function, and just call forward.\u001b[39;00m\n\u001b[0;32m   1192\u001b[0m \u001b[39mif\u001b[39;00m \u001b[39mnot\u001b[39;00m (\u001b[39mself\u001b[39m\u001b[39m.\u001b[39m_backward_hooks \u001b[39mor\u001b[39;00m \u001b[39mself\u001b[39m\u001b[39m.\u001b[39m_forward_hooks \u001b[39mor\u001b[39;00m \u001b[39mself\u001b[39m\u001b[39m.\u001b[39m_forward_pre_hooks \u001b[39mor\u001b[39;00m _global_backward_hooks\n\u001b[0;32m   1193\u001b[0m         \u001b[39mor\u001b[39;00m _global_forward_hooks \u001b[39mor\u001b[39;00m _global_forward_pre_hooks):\n\u001b[1;32m-> 1194\u001b[0m     \u001b[39mreturn\u001b[39;00m forward_call(\u001b[39m*\u001b[39m\u001b[39minput\u001b[39m, \u001b[39m*\u001b[39m\u001b[39m*\u001b[39mkwargs)\n\u001b[0;32m   1195\u001b[0m \u001b[39m# Do not call functions when jit is used\u001b[39;00m\n\u001b[0;32m   1196\u001b[0m full_backward_hooks, non_full_backward_hooks \u001b[39m=\u001b[39m [], []\n",
      "File \u001b[1;32md:\\Python\\Python310\\lib\\site-packages\\torch\\nn\\modules\\conv.py:463\u001b[0m, in \u001b[0;36mConv2d.forward\u001b[1;34m(self, input)\u001b[0m\n\u001b[0;32m    462\u001b[0m \u001b[39mdef\u001b[39;00m \u001b[39mforward\u001b[39m(\u001b[39mself\u001b[39m, \u001b[39minput\u001b[39m: Tensor) \u001b[39m-\u001b[39m\u001b[39m>\u001b[39m Tensor:\n\u001b[1;32m--> 463\u001b[0m     \u001b[39mreturn\u001b[39;00m \u001b[39mself\u001b[39;49m\u001b[39m.\u001b[39;49m_conv_forward(\u001b[39minput\u001b[39;49m, \u001b[39mself\u001b[39;49m\u001b[39m.\u001b[39;49mweight, \u001b[39mself\u001b[39;49m\u001b[39m.\u001b[39;49mbias)\n",
      "File \u001b[1;32md:\\Python\\Python310\\lib\\site-packages\\torch\\nn\\modules\\conv.py:459\u001b[0m, in \u001b[0;36mConv2d._conv_forward\u001b[1;34m(self, input, weight, bias)\u001b[0m\n\u001b[0;32m    455\u001b[0m \u001b[39mif\u001b[39;00m \u001b[39mself\u001b[39m\u001b[39m.\u001b[39mpadding_mode \u001b[39m!=\u001b[39m \u001b[39m'\u001b[39m\u001b[39mzeros\u001b[39m\u001b[39m'\u001b[39m:\n\u001b[0;32m    456\u001b[0m     \u001b[39mreturn\u001b[39;00m F\u001b[39m.\u001b[39mconv2d(F\u001b[39m.\u001b[39mpad(\u001b[39minput\u001b[39m, \u001b[39mself\u001b[39m\u001b[39m.\u001b[39m_reversed_padding_repeated_twice, mode\u001b[39m=\u001b[39m\u001b[39mself\u001b[39m\u001b[39m.\u001b[39mpadding_mode),\n\u001b[0;32m    457\u001b[0m                     weight, bias, \u001b[39mself\u001b[39m\u001b[39m.\u001b[39mstride,\n\u001b[0;32m    458\u001b[0m                     _pair(\u001b[39m0\u001b[39m), \u001b[39mself\u001b[39m\u001b[39m.\u001b[39mdilation, \u001b[39mself\u001b[39m\u001b[39m.\u001b[39mgroups)\n\u001b[1;32m--> 459\u001b[0m \u001b[39mreturn\u001b[39;00m F\u001b[39m.\u001b[39;49mconv2d(\u001b[39minput\u001b[39;49m, weight, bias, \u001b[39mself\u001b[39;49m\u001b[39m.\u001b[39;49mstride,\n\u001b[0;32m    460\u001b[0m                 \u001b[39mself\u001b[39;49m\u001b[39m.\u001b[39;49mpadding, \u001b[39mself\u001b[39;49m\u001b[39m.\u001b[39;49mdilation, \u001b[39mself\u001b[39;49m\u001b[39m.\u001b[39;49mgroups)\n",
      "\u001b[1;31mKeyboardInterrupt\u001b[0m: "
     ]
    }
   ],
   "source": [
    "test_accuracies = []\n",
    "# Training and testing the model\n",
    "epochs = 64\n",
    "for t in range(epochs):\n",
    "    print(f\"Epoch {t+1}\\n-------------------------------\")\n",
    "    train_loss = train(train_dataloader, model2, loss_fn, optimizer, device)\n",
    "    acc = test(test_dataloader, model2, loss_fn, device)\n",
    "    test_accuracies.append(acc)    "
   ]
  },
  {
   "cell_type": "code",
   "execution_count": null,
   "id": "7d084279",
   "metadata": {},
   "outputs": [],
   "source": [
    "torch.save(model.state_dict(), \"model resnet152.pth\")\n",
    "print(\"Saved PyTorch Model State to model.pth\")\n"
   ]
  },
  {
   "cell_type": "code",
   "execution_count": null,
   "id": "4b23c718",
   "metadata": {},
   "outputs": [],
   "source": [
    "model2 = resnet152\n",
    "model2.load_state_dict(torch.load(\"model resnet152.pth\"))\n",
    "model2.to(device)"
   ]
  },
  {
   "cell_type": "code",
   "execution_count": null,
   "id": "492e534e",
   "metadata": {},
   "outputs": [],
   "source": [
    "print('resnet152')\n",
    "test(test_dataloader, model2, loss_fn)"
   ]
  },
  {
   "cell_type": "code",
   "execution_count": null,
   "id": "c08814e4",
   "metadata": {},
   "outputs": [
    {
     "data": {
      "image/png": "[encoded data removed]",
      "text/plain": [
       "<Figure size 432x288 with 1 Axes>"
      ]
     },
     "metadata": {
      "needs_background": "light"
     },
     "output_type": "display_data"
    }
   ],
   "source": [
    "import matplotlib.pyplot as plt\n",
    "\n",
    "x_axis = [i for i in range(1, epochs+1)]\n",
    "plt.plot(x_axis, test_accuracies)\n",
    "\n",
    "plt.xlabel('Epochs')\n",
    "plt.ylabel('Accuracy')\n",
    "plt.title('ResNet152 Accuracy')\n",
    "\n",
    "plt.show()"
   ]
  },
  {
   "attachments": {},
   "cell_type": "markdown",
   "id": "7100eea4",
   "metadata": {},
   "source": [
    "#### As compared to the classical CNN, ResNet is doing much better with similar loss_fn and optimizer"
   ]
  }
 ],
 "metadata": {
  "kernelspec": {
   "display_name": "Python 3",
   "language": "python",
   "name": "python3"
  },
  "language_info": {
   "codemirror_mode": {
    "name": "ipython",
    "version": 3
   },
   "file_extension": ".py",
   "mimetype": "text/x-python",
   "name": "python",
   "nbconvert_exporter": "python",
   "pygments_lexer": "ipython3",
   "version": "3.10.4"
  },
  "toc": {
   "base_numbering": 1,
   "nav_menu": {},
   "number_sections": true,
   "sideBar": true,
   "skip_h1_title": false,
   "title_cell": "Table of Contents",
   "title_sidebar": "Contents",
   "toc_cell": false,
   "toc_position": {},
   "toc_section_display": true,
   "toc_window_display": false
  },
  "vscode": {
   "interpreter": {
    "hash": "afb734500600fd355917ca529030176ea0ca205570884b88f2f6f7d791fd3fbe"
   }
  }
 },
 "nbformat": 4,
 "nbformat_minor": 5
}
