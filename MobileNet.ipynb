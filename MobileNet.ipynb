{
 "cells": [
  {
   "cell_type": "markdown",
   "metadata": {},
   "source": [
    "### MobileNet Model Training Emotion Detection"
   ]
  },
  {
   "cell_type": "code",
   "execution_count": 31,
   "metadata": {},
   "outputs": [],
   "source": [
    "import os\n",
    "import shutil\n",
    "import random\n",
    "import numpy as np\n",
    "import pandas as pd\n",
    "\n",
    "import matplotlib.pyplot as plt\n",
    "import plotly\n",
    "import plotly.graph_objects as go\n",
    "import plotly.express as px\n",
    "from plotly.subplots import make_subplots\n",
    "\n",
    "import tensorflow as tf\n",
    "from keras.utils import load_img\n",
    "from keras.preprocessing.image import ImageDataGenerator\n",
    "\n",
    "from keras.applications.mobilenet import MobileNet, preprocess_input\n",
    "from keras.layers import Dense, Dropout, GlobalAveragePooling2D\n",
    "from keras.models import Model\n",
    "from keras.optimizers import Adam\n",
    "from keras.callbacks import ModelCheckpoint\n",
    "import nbformat\n",
    "\n",
    "import warnings\n",
    "warnings.filterwarnings(\"ignore\")"
   ]
  },
  {
   "cell_type": "code",
   "execution_count": 32,
   "metadata": {},
   "outputs": [],
   "source": [
    "class CFG:\n",
    "    batch_size = 256\n",
    "    img_height = 48\n",
    "    img_width = 48\n",
    "    epoch = 25"
   ]
  },
  {
   "cell_type": "code",
   "execution_count": 33,
   "metadata": {},
   "outputs": [],
   "source": [
    "def seed_everything(seed: int):\n",
    "    random.seed(seed)\n",
    "    os.environ[\"PYTHONHASHSEED\"] = str(seed)\n",
    "    np.random.seed(seed)\n",
    "    tf.random.set_seed(seed)"
   ]
  },
  {
   "cell_type": "code",
   "execution_count": 34,
   "metadata": {},
   "outputs": [
    {
     "name": "stdout",
     "output_type": "stream",
     "text": [
      "Train:  {'angry': 3995, 'disgust': 436, 'fear': 4097, 'happy': 7215, 'neutral': 4965, 'sad': 4830, 'surprise': 3171}\n",
      "Public Test:  {'angry': 467, 'disgust': 56, 'fear': 496, 'happy': 895, 'neutral': 607, 'sad': 653, 'surprise': 415}\n",
      "Private Test:  {'angry': 491, 'disgust': 55, 'fear': 528, 'happy': 879, 'neutral': 626, 'sad': 594, 'surprise': 416}\n",
      "Total Train:  28709\n",
      "Total Public Test:  3589\n",
      "Total Private Test:  3589\n"
     ]
    }
   ],
   "source": [
    "# Get Number of Images for each Emotion and Splitting\n",
    "\n",
    "train_path = \"Data/train\"\n",
    "test_path = \"Data/test\"\n",
    "emotions = os.listdir(train_path)\n",
    "\n",
    "len_train = {}\n",
    "len_public_test = {}\n",
    "len_private_test = {}\n",
    "\n",
    "for emotion in emotions:\n",
    "    file_train = os.listdir(os.path.join(train_path, emotion))\n",
    "    len_train[emotion] = len(file_train)\n",
    "    \n",
    "    file_test = os.listdir(os.path.join(test_path, emotion))\n",
    "    file_public_test = [f for f in file_test if \"Public\" in f]\n",
    "    file_private_test = [f for f in file_test if \"Private\" in f]\n",
    "    len_public_test[emotion] = len(file_public_test)\n",
    "    len_private_test[emotion] = len(file_private_test)\n",
    "\n",
    "print(\"Train: \", len_train)\n",
    "print(\"Public Test: \", len_public_test)\n",
    "print(\"Private Test: \", len_private_test)\n",
    "\n",
    "total_train = sum(len_train.values())\n",
    "total_public_test = sum(len_public_test.values())\n",
    "total_private_test = sum(len_private_test.values())\n",
    "\n",
    "print(\"Total Train: \", total_train)\n",
    "print(\"Total Public Test: \", total_public_test)\n",
    "print(\"Total Private Test: \", total_private_test)"
   ]
  },
  {
   "cell_type": "code",
   "execution_count": 35,
   "metadata": {},
   "outputs": [
    {
     "data": {
      "application/vnd.plotly.v1+json": {
       "config": {
        "plotlyServerURL": "https://plot.ly"
       },
       "data": [
        {
         "marker": {
          "color": [
           "#935d39",
           "#926f48",
           "#90825c",
           "#8e9590",
           "#8ba0a5",
           "#88acb9",
           "#85b8cd"
          ]
         },
         "name": "Train",
         "type": "bar",
         "x": [
          "angry",
          "disgust",
          "fear",
          "happy",
          "neutral",
          "sad",
          "surprise"
         ],
         "xaxis": "x",
         "y": [
          3995,
          436,
          4097,
          7215,
          4965,
          4830,
          3171
         ],
         "yaxis": "y"
        },
        {
         "marker": {
          "color": [
           "#935d39",
           "#926f48",
           "#90825c",
           "#8e9590",
           "#8ba0a5",
           "#88acb9",
           "#85b8cd"
          ]
         },
         "name": "Public Test",
         "type": "bar",
         "x": [
          "angry",
          "disgust",
          "fear",
          "happy",
          "neutral",
          "sad",
          "surprise"
         ],
         "xaxis": "x2",
         "y": [
          467,
          56,
          496,
          895,
          607,
          653,
          415
         ],
         "yaxis": "y2"
        },
        {
         "marker": {
          "color": [
           "#935d39",
           "#926f48",
           "#90825c",
           "#8e9590",
           "#8ba0a5",
           "#88acb9",
           "#85b8cd"
          ]
         },
         "name": "Private Test",
         "type": "bar",
         "x": [
          "angry",
          "disgust",
          "fear",
          "happy",
          "neutral",
          "sad",
          "surprise"
         ],
         "xaxis": "x3",
         "y": [
          491,
          55,
          528,
          879,
          626,
          594,
          416
         ],
         "yaxis": "y3"
        }
       ],
       "layout": {
        "annotations": [
         {
          "font": {
           "size": 16
          },
          "showarrow": false,
          "text": "Train",
          "x": 0.5,
          "xanchor": "center",
          "xref": "paper",
          "y": 1,
          "yanchor": "bottom",
          "yref": "paper"
         },
         {
          "font": {
           "size": 16
          },
          "showarrow": false,
          "text": "Public Test",
          "x": 0.5,
          "xanchor": "center",
          "xref": "paper",
          "y": 0.6111111111111112,
          "yanchor": "bottom",
          "yref": "paper"
         },
         {
          "font": {
           "size": 16
          },
          "showarrow": false,
          "text": "Private Test",
          "x": 0.5,
          "xanchor": "center",
          "xref": "paper",
          "y": 0.22222222222222224,
          "yanchor": "bottom",
          "yref": "paper"
         }
        ],
        "font": {
         "family": "Cambria",
         "size": 14
        },
        "height": 900,
        "plot_bgcolor": "White",
        "showlegend": false,
        "template": {
         "data": {
          "bar": [
           {
            "error_x": {
             "color": "#2a3f5f"
            },
            "error_y": {
             "color": "#2a3f5f"
            },
            "marker": {
             "line": {
              "color": "#E5ECF6",
              "width": 0.5
             },
             "pattern": {
              "fillmode": "overlay",
              "size": 10,
              "solidity": 0.2
             }
            },
            "type": "bar"
           }
          ],
          "barpolar": [
           {
            "marker": {
             "line": {
              "color": "#E5ECF6",
              "width": 0.5
             },
             "pattern": {
              "fillmode": "overlay",
              "size": 10,
              "solidity": 0.2
             }
            },
            "type": "barpolar"
           }
          ],
          "carpet": [
           {
            "aaxis": {
             "endlinecolor": "#2a3f5f",
             "gridcolor": "white",
             "linecolor": "white",
             "minorgridcolor": "white",
             "startlinecolor": "#2a3f5f"
            },
            "baxis": {
             "endlinecolor": "#2a3f5f",
             "gridcolor": "white",
             "linecolor": "white",
             "minorgridcolor": "white",
             "startlinecolor": "#2a3f5f"
            },
            "type": "carpet"
           }
          ],
          "choropleth": [
           {
            "colorbar": {
             "outlinewidth": 0,
             "ticks": ""
            },
            "type": "choropleth"
           }
          ],
          "contour": [
           {
            "colorbar": {
             "outlinewidth": 0,
             "ticks": ""
            },
            "colorscale": [
             [
              0,
              "#0d0887"
             ],
             [
              0.1111111111111111,
              "#46039f"
             ],
             [
              0.2222222222222222,
              "#7201a8"
             ],
             [
              0.3333333333333333,
              "#9c179e"
             ],
             [
              0.4444444444444444,
              "#bd3786"
             ],
             [
              0.5555555555555556,
              "#d8576b"
             ],
             [
              0.6666666666666666,
              "#ed7953"
             ],
             [
              0.7777777777777778,
              "#fb9f3a"
             ],
             [
              0.8888888888888888,
              "#fdca26"
             ],
             [
              1,
              "#f0f921"
             ]
            ],
            "type": "contour"
           }
          ],
          "contourcarpet": [
           {
            "colorbar": {
             "outlinewidth": 0,
             "ticks": ""
            },
            "type": "contourcarpet"
           }
          ],
          "heatmap": [
           {
            "colorbar": {
             "outlinewidth": 0,
             "ticks": ""
            },
            "colorscale": [
             [
              0,
              "#0d0887"
             ],
             [
              0.1111111111111111,
              "#46039f"
             ],
             [
              0.2222222222222222,
              "#7201a8"
             ],
             [
              0.3333333333333333,
              "#9c179e"
             ],
             [
              0.4444444444444444,
              "#bd3786"
             ],
             [
              0.5555555555555556,
              "#d8576b"
             ],
             [
              0.6666666666666666,
              "#ed7953"
             ],
             [
              0.7777777777777778,
              "#fb9f3a"
             ],
             [
              0.8888888888888888,
              "#fdca26"
             ],
             [
              1,
              "#f0f921"
             ]
            ],
            "type": "heatmap"
           }
          ],
          "heatmapgl": [
           {
            "colorbar": {
             "outlinewidth": 0,
             "ticks": ""
            },
            "colorscale": [
             [
              0,
              "#0d0887"
             ],
             [
              0.1111111111111111,
              "#46039f"
             ],
             [
              0.2222222222222222,
              "#7201a8"
             ],
             [
              0.3333333333333333,
              "#9c179e"
             ],
             [
              0.4444444444444444,
              "#bd3786"
             ],
             [
              0.5555555555555556,
              "#d8576b"
             ],
             [
              0.6666666666666666,
              "#ed7953"
             ],
             [
              0.7777777777777778,
              "#fb9f3a"
             ],
             [
              0.8888888888888888,
              "#fdca26"
             ],
             [
              1,
              "#f0f921"
             ]
            ],
            "type": "heatmapgl"
           }
          ],
          "histogram": [
           {
            "marker": {
             "pattern": {
              "fillmode": "overlay",
              "size": 10,
              "solidity": 0.2
             }
            },
            "type": "histogram"
           }
          ],
          "histogram2d": [
           {
            "colorbar": {
             "outlinewidth": 0,
             "ticks": ""
            },
            "colorscale": [
             [
              0,
              "#0d0887"
             ],
             [
              0.1111111111111111,
              "#46039f"
             ],
             [
              0.2222222222222222,
              "#7201a8"
             ],
             [
              0.3333333333333333,
              "#9c179e"
             ],
             [
              0.4444444444444444,
              "#bd3786"
             ],
             [
              0.5555555555555556,
              "#d8576b"
             ],
             [
              0.6666666666666666,
              "#ed7953"
             ],
             [
              0.7777777777777778,
              "#fb9f3a"
             ],
             [
              0.8888888888888888,
              "#fdca26"
             ],
             [
              1,
              "#f0f921"
             ]
            ],
            "type": "histogram2d"
           }
          ],
          "histogram2dcontour": [
           {
            "colorbar": {
             "outlinewidth": 0,
             "ticks": ""
            },
            "colorscale": [
             [
              0,
              "#0d0887"
             ],
             [
              0.1111111111111111,
              "#46039f"
             ],
             [
              0.2222222222222222,
              "#7201a8"
             ],
             [
              0.3333333333333333,
              "#9c179e"
             ],
             [
              0.4444444444444444,
              "#bd3786"
             ],
             [
              0.5555555555555556,
              "#d8576b"
             ],
             [
              0.6666666666666666,
              "#ed7953"
             ],
             [
              0.7777777777777778,
              "#fb9f3a"
             ],
             [
              0.8888888888888888,
              "#fdca26"
             ],
             [
              1,
              "#f0f921"
             ]
            ],
            "type": "histogram2dcontour"
           }
          ],
          "mesh3d": [
           {
            "colorbar": {
             "outlinewidth": 0,
             "ticks": ""
            },
            "type": "mesh3d"
           }
          ],
          "parcoords": [
           {
            "line": {
             "colorbar": {
              "outlinewidth": 0,
              "ticks": ""
             }
            },
            "type": "parcoords"
           }
          ],
          "pie": [
           {
            "automargin": true,
            "type": "pie"
           }
          ],
          "scatter": [
           {
            "fillpattern": {
             "fillmode": "overlay",
             "size": 10,
             "solidity": 0.2
            },
            "type": "scatter"
           }
          ],
          "scatter3d": [
           {
            "line": {
             "colorbar": {
              "outlinewidth": 0,
              "ticks": ""
             }
            },
            "marker": {
             "colorbar": {
              "outlinewidth": 0,
              "ticks": ""
             }
            },
            "type": "scatter3d"
           }
          ],
          "scattercarpet": [
           {
            "marker": {
             "colorbar": {
              "outlinewidth": 0,
              "ticks": ""
             }
            },
            "type": "scattercarpet"
           }
          ],
          "scattergeo": [
           {
            "marker": {
             "colorbar": {
              "outlinewidth": 0,
              "ticks": ""
             }
            },
            "type": "scattergeo"
           }
          ],
          "scattergl": [
           {
            "marker": {
             "colorbar": {
              "outlinewidth": 0,
              "ticks": ""
             }
            },
            "type": "scattergl"
           }
          ],
          "scattermapbox": [
           {
            "marker": {
             "colorbar": {
              "outlinewidth": 0,
              "ticks": ""
             }
            },
            "type": "scattermapbox"
           }
          ],
          "scatterpolar": [
           {
            "marker": {
             "colorbar": {
              "outlinewidth": 0,
              "ticks": ""
             }
            },
            "type": "scatterpolar"
           }
          ],
          "scatterpolargl": [
           {
            "marker": {
             "colorbar": {
              "outlinewidth": 0,
              "ticks": ""
             }
            },
            "type": "scatterpolargl"
           }
          ],
          "scatterternary": [
           {
            "marker": {
             "colorbar": {
              "outlinewidth": 0,
              "ticks": ""
             }
            },
            "type": "scatterternary"
           }
          ],
          "surface": [
           {
            "colorbar": {
             "outlinewidth": 0,
             "ticks": ""
            },
            "colorscale": [
             [
              0,
              "#0d0887"
             ],
             [
              0.1111111111111111,
              "#46039f"
             ],
             [
              0.2222222222222222,
              "#7201a8"
             ],
             [
              0.3333333333333333,
              "#9c179e"
             ],
             [
              0.4444444444444444,
              "#bd3786"
             ],
             [
              0.5555555555555556,
              "#d8576b"
             ],
             [
              0.6666666666666666,
              "#ed7953"
             ],
             [
              0.7777777777777778,
              "#fb9f3a"
             ],
             [
              0.8888888888888888,
              "#fdca26"
             ],
             [
              1,
              "#f0f921"
             ]
            ],
            "type": "surface"
           }
          ],
          "table": [
           {
            "cells": {
             "fill": {
              "color": "#EBF0F8"
             },
             "line": {
              "color": "white"
             }
            },
            "header": {
             "fill": {
              "color": "#C8D4E3"
             },
             "line": {
              "color": "white"
             }
            },
            "type": "table"
           }
          ]
         },
         "layout": {
          "annotationdefaults": {
           "arrowcolor": "#2a3f5f",
           "arrowhead": 0,
           "arrowwidth": 1
          },
          "autotypenumbers": "strict",
          "coloraxis": {
           "colorbar": {
            "outlinewidth": 0,
            "ticks": ""
           }
          },
          "colorscale": {
           "diverging": [
            [
             0,
             "#8e0152"
            ],
            [
             0.1,
             "#c51b7d"
            ],
            [
             0.2,
             "#de77ae"
            ],
            [
             0.3,
             "#f1b6da"
            ],
            [
             0.4,
             "#fde0ef"
            ],
            [
             0.5,
             "#f7f7f7"
            ],
            [
             0.6,
             "#e6f5d0"
            ],
            [
             0.7,
             "#b8e186"
            ],
            [
             0.8,
             "#7fbc41"
            ],
            [
             0.9,
             "#4d9221"
            ],
            [
             1,
             "#276419"
            ]
           ],
           "sequential": [
            [
             0,
             "#0d0887"
            ],
            [
             0.1111111111111111,
             "#46039f"
            ],
            [
             0.2222222222222222,
             "#7201a8"
            ],
            [
             0.3333333333333333,
             "#9c179e"
            ],
            [
             0.4444444444444444,
             "#bd3786"
            ],
            [
             0.5555555555555556,
             "#d8576b"
            ],
            [
             0.6666666666666666,
             "#ed7953"
            ],
            [
             0.7777777777777778,
             "#fb9f3a"
            ],
            [
             0.8888888888888888,
             "#fdca26"
            ],
            [
             1,
             "#f0f921"
            ]
           ],
           "sequentialminus": [
            [
             0,
             "#0d0887"
            ],
            [
             0.1111111111111111,
             "#46039f"
            ],
            [
             0.2222222222222222,
             "#7201a8"
            ],
            [
             0.3333333333333333,
             "#9c179e"
            ],
            [
             0.4444444444444444,
             "#bd3786"
            ],
            [
             0.5555555555555556,
             "#d8576b"
            ],
            [
             0.6666666666666666,
             "#ed7953"
            ],
            [
             0.7777777777777778,
             "#fb9f3a"
            ],
            [
             0.8888888888888888,
             "#fdca26"
            ],
            [
             1,
             "#f0f921"
            ]
           ]
          },
          "colorway": [
           "#636efa",
           "#EF553B",
           "#00cc96",
           "#ab63fa",
           "#FFA15A",
           "#19d3f3",
           "#FF6692",
           "#B6E880",
           "#FF97FF",
           "#FECB52"
          ],
          "font": {
           "color": "#2a3f5f"
          },
          "geo": {
           "bgcolor": "white",
           "lakecolor": "white",
           "landcolor": "#E5ECF6",
           "showlakes": true,
           "showland": true,
           "subunitcolor": "white"
          },
          "hoverlabel": {
           "align": "left"
          },
          "hovermode": "closest",
          "mapbox": {
           "style": "light"
          },
          "paper_bgcolor": "white",
          "plot_bgcolor": "#E5ECF6",
          "polar": {
           "angularaxis": {
            "gridcolor": "white",
            "linecolor": "white",
            "ticks": ""
           },
           "bgcolor": "#E5ECF6",
           "radialaxis": {
            "gridcolor": "white",
            "linecolor": "white",
            "ticks": ""
           }
          },
          "scene": {
           "xaxis": {
            "backgroundcolor": "#E5ECF6",
            "gridcolor": "white",
            "gridwidth": 2,
            "linecolor": "white",
            "showbackground": true,
            "ticks": "",
            "zerolinecolor": "white"
           },
           "yaxis": {
            "backgroundcolor": "#E5ECF6",
            "gridcolor": "white",
            "gridwidth": 2,
            "linecolor": "white",
            "showbackground": true,
            "ticks": "",
            "zerolinecolor": "white"
           },
           "zaxis": {
            "backgroundcolor": "#E5ECF6",
            "gridcolor": "white",
            "gridwidth": 2,
            "linecolor": "white",
            "showbackground": true,
            "ticks": "",
            "zerolinecolor": "white"
           }
          },
          "shapedefaults": {
           "line": {
            "color": "#2a3f5f"
           }
          },
          "ternary": {
           "aaxis": {
            "gridcolor": "white",
            "linecolor": "white",
            "ticks": ""
           },
           "baxis": {
            "gridcolor": "white",
            "linecolor": "white",
            "ticks": ""
           },
           "bgcolor": "#E5ECF6",
           "caxis": {
            "gridcolor": "white",
            "linecolor": "white",
            "ticks": ""
           }
          },
          "title": {
           "x": 0.05
          },
          "xaxis": {
           "automargin": true,
           "gridcolor": "white",
           "linecolor": "white",
           "ticks": "",
           "title": {
            "standoff": 15
           },
           "zerolinecolor": "white",
           "zerolinewidth": 2
          },
          "yaxis": {
           "automargin": true,
           "gridcolor": "white",
           "linecolor": "white",
           "ticks": "",
           "title": {
            "standoff": 15
           },
           "zerolinecolor": "white",
           "zerolinewidth": 2
          }
         }
        },
        "title": {
         "text": "Class Distribution",
         "x": 0.5
        },
        "width": 650,
        "xaxis": {
         "anchor": "y",
         "domain": [
          0,
          1
         ],
         "linecolor": "Black",
         "ticks": "outside"
        },
        "xaxis2": {
         "anchor": "y2",
         "domain": [
          0,
          1
         ],
         "linecolor": "Black",
         "ticks": "outside"
        },
        "xaxis3": {
         "anchor": "y3",
         "domain": [
          0,
          1
         ],
         "linecolor": "Black",
         "ticks": "outside"
        },
        "yaxis": {
         "anchor": "x",
         "domain": [
          0.7777777777777778,
          1
         ],
         "linecolor": "Black",
         "ticks": "outside"
        },
        "yaxis2": {
         "anchor": "x2",
         "domain": [
          0.3888888888888889,
          0.6111111111111112
         ],
         "linecolor": "Black",
         "ticks": "outside"
        },
        "yaxis3": {
         "anchor": "x3",
         "domain": [
          0,
          0.22222222222222224
         ],
         "linecolor": "Black",
         "ticks": "outside"
        }
       }
      }
     },
     "metadata": {},
     "output_type": "display_data"
    }
   ],
   "source": [
    "# Class Distribution\n",
    "\n",
    "# Create Subplots\n",
    "data_split = [\"Train\", \"Public Test\", \"Private Test\"]\n",
    "fig = make_subplots(\n",
    "    rows=3, cols=1,\n",
    "    subplot_titles=data_split\n",
    ")\n",
    "\n",
    "all_len = [len_train, len_public_test, len_private_test]\n",
    "all_total = [total_train, total_public_test, total_private_test]\n",
    "\n",
    "for i in range(3):\n",
    "    # Bar Chart\n",
    "    fig.add_trace(\n",
    "        go.Bar(\n",
    "            x=list(all_len[i].keys()),\n",
    "            y=list(all_len[i].values()),\n",
    "            name=data_split[i],\n",
    "            marker_color=[\"#935d39\", \"#926f48\", \"#90825c\", \"#8e9590\", \"#8ba0a5\", \"#88acb9\", \"#85b8cd\"],\n",
    "        ), row=i+1, col=1\n",
    "    )\n",
    "\n",
    "    # Update Axes\n",
    "    fig.update_xaxes(ticks=\"outside\", linecolor=\"Black\", row=i+1, col=1)\n",
    "    fig.update_yaxes(ticks=\"outside\", linecolor=\"Black\", row=i+1, col=1)\n",
    "\n",
    "# Update Layout\n",
    "fig.update_layout(\n",
    "    title=\"Class Distribution\", title_x=0.5, font_size=14, font_family=\"Cambria\",\n",
    "    width=650, height=900,\n",
    "    plot_bgcolor=\"White\",\n",
    "    showlegend=False\n",
    ")\n",
    "\n",
    "# Show\n",
    "# fig.show(renderer=\"iframe_connected\")"
   ]
  },
  {
   "cell_type": "code",
   "execution_count": 36,
   "metadata": {},
   "outputs": [],
   "source": [
    "# Create a new subdirectory called PublicTest and move the public test images into it\n",
    "if(os.path.exists(\"public_test\")==False):\n",
    "    os.mkdir(\"public_test\")\n",
    "for emotion in emotions:\n",
    "    emotion_dir = \"public_test/\" + emotion\n",
    "    if(os.path.exists(emotion_dir)==False):\n",
    "        os.mkdir(emotion_dir)\n",
    "    \n",
    "    first_emotion_dir = os.path.join(test_path, emotion)\n",
    "    file_test = os.listdir(first_emotion_dir)\n",
    "    file_public_test = [f for f in file_test if \"Public\" in f]\n",
    "    \n",
    "    for i in range(len(file_public_test)):\n",
    "        old_path = os.path.join(first_emotion_dir, file_public_test[i])\n",
    "        new_path = os.path.join(emotion_dir, file_public_test[i])\n",
    "        shutil.copyfile(old_path, new_path)\n",
    "\n",
    "# Create a new subdirectory called PrivateTest and move the private test images into it\n",
    "if(os.path.exists(\"private_test\")==False):\n",
    "    os.mkdir(\"private_test\")\n",
    "for emotion in emotions:\n",
    "    emotion_dir = \"private_test/\" + emotion\n",
    "    if(os.path.exists(emotion_dir)==False):\n",
    "        os.mkdir(emotion_dir)\n",
    "        \n",
    "    first_emotion_dir = os.path.join(test_path, emotion)\n",
    "    file_test = os.listdir(first_emotion_dir)\n",
    "    file_private_test = [f for f in file_test if \"Private\" in f]\n",
    "    \n",
    "    for i in range(len(file_private_test)):\n",
    "        old_path = os.path.join(first_emotion_dir, file_private_test[i])\n",
    "        new_path = os.path.join(emotion_dir, file_private_test[i])\n",
    "        shutil.copyfile(old_path, new_path)"
   ]
  },
  {
   "cell_type": "code",
   "execution_count": 37,
   "metadata": {},
   "outputs": [],
   "source": [
    "# Data Augmentation\n",
    "def data_augmentation():\n",
    "    # Training Dataset\n",
    "    TRAINING_DIR = \"Data/train\"\n",
    "    train_datagen = ImageDataGenerator(\n",
    "        rescale=1/255.,\n",
    "        rotation_range=20,\n",
    "        width_shift_range=0.2,\n",
    "        height_shift_range=0.2,\n",
    "        shear_range=0.2,\n",
    "        zoom_range=0.2,\n",
    "        horizontal_flip=True,\n",
    "        fill_mode='nearest',\n",
    "        validation_split=0.2\n",
    "    )\n",
    "    train_generator = train_datagen.flow_from_directory(\n",
    "        TRAINING_DIR,\n",
    "        target_size=(CFG.img_height, CFG.img_width),\n",
    "        batch_size=CFG.batch_size,\n",
    "        class_mode=\"categorical\",\n",
    "        shuffle=True,\n",
    "        subset=\"training\"\n",
    "    )\n",
    "\n",
    "    # Validation Dataset\n",
    "    validation_generator = train_datagen.flow_from_directory(\n",
    "        TRAINING_DIR,\n",
    "        target_size=(CFG.img_height, CFG.img_width),\n",
    "        batch_size=CFG.batch_size,\n",
    "        class_mode=\"categorical\",\n",
    "        shuffle=False,\n",
    "        subset=\"validation\"\n",
    "    )\n",
    "\n",
    "    # Public Testing Dataset\n",
    "    PUBLIC_TESTING_DIR = \"public_test\"\n",
    "    public_test_datagen = ImageDataGenerator(rescale=1./255.)\n",
    "    public_test_generator = public_test_datagen.flow_from_directory(\n",
    "        PUBLIC_TESTING_DIR,\n",
    "        target_size=(CFG.img_height, CFG.img_width),\n",
    "        batch_size=1,\n",
    "        class_mode=\"categorical\",\n",
    "        shuffle=False\n",
    "    )\n",
    "    \n",
    "    # Private Testing Dataset\n",
    "    PRIVATE_TESTING_DIR = \"private_test\"\n",
    "    private_test_datagen = ImageDataGenerator(rescale=1./255.)\n",
    "    private_test_generator = private_test_datagen.flow_from_directory(\n",
    "        PRIVATE_TESTING_DIR,\n",
    "        target_size=(CFG.img_height, CFG.img_width),\n",
    "        batch_size=1,\n",
    "        class_mode=\"categorical\",\n",
    "        shuffle=False\n",
    "    )\n",
    "    \n",
    "    return train_generator, validation_generator, public_test_generator, private_test_generator"
   ]
  },
  {
   "cell_type": "code",
   "execution_count": 38,
   "metadata": {},
   "outputs": [
    {
     "name": "stdout",
     "output_type": "stream",
     "text": [
      "Found 22968 images belonging to 7 classes.\n",
      "Found 5741 images belonging to 7 classes.\n",
      "Found 3589 images belonging to 7 classes.\n",
      "Found 3589 images belonging to 7 classes.\n",
      "WARNING:tensorflow:`input_shape` is undefined or non-square, or `rows` is not in [128, 160, 192, 224]. Weights for input shape (224, 224) will be loaded as the default.\n",
      "Model: \"model_3\"\n",
      "_________________________________________________________________\n",
      " Layer (type)                Output Shape              Param #   \n",
      "=================================================================\n",
      " input_4 (InputLayer)        [(None, 48, 48, 3)]       0         \n",
      "                                                                 \n",
      " conv1 (Conv2D)              (None, 24, 24, 32)        864       \n",
      "                                                                 \n",
      " conv1_bn (BatchNormalizatio  (None, 24, 24, 32)       128       \n",
      " n)                                                              \n",
      "                                                                 \n",
      " conv1_relu (ReLU)           (None, 24, 24, 32)        0         \n",
      "                                                                 \n",
      " conv_dw_1 (DepthwiseConv2D)  (None, 24, 24, 32)       288       \n",
      "                                                                 \n",
      " conv_dw_1_bn (BatchNormaliz  (None, 24, 24, 32)       128       \n",
      " ation)                                                          \n",
      "                                                                 \n",
      " conv_dw_1_relu (ReLU)       (None, 24, 24, 32)        0         \n",
      "                                                                 \n",
      " conv_pw_1 (Conv2D)          (None, 24, 24, 64)        2048      \n",
      "                                                                 \n",
      " conv_pw_1_bn (BatchNormaliz  (None, 24, 24, 64)       256       \n",
      " ation)                                                          \n",
      "                                                                 \n",
      " conv_pw_1_relu (ReLU)       (None, 24, 24, 64)        0         \n",
      "                                                                 \n",
      " conv_pad_2 (ZeroPadding2D)  (None, 25, 25, 64)        0         \n",
      "                                                                 \n",
      " conv_dw_2 (DepthwiseConv2D)  (None, 12, 12, 64)       576       \n",
      "                                                                 \n",
      " conv_dw_2_bn (BatchNormaliz  (None, 12, 12, 64)       256       \n",
      " ation)                                                          \n",
      "                                                                 \n",
      " conv_dw_2_relu (ReLU)       (None, 12, 12, 64)        0         \n",
      "                                                                 \n",
      " conv_pw_2 (Conv2D)          (None, 12, 12, 128)       8192      \n",
      "                                                                 \n",
      " conv_pw_2_bn (BatchNormaliz  (None, 12, 12, 128)      512       \n",
      " ation)                                                          \n",
      "                                                                 \n",
      " conv_pw_2_relu (ReLU)       (None, 12, 12, 128)       0         \n",
      "                                                                 \n",
      " conv_dw_3 (DepthwiseConv2D)  (None, 12, 12, 128)      1152      \n",
      "                                                                 \n",
      " conv_dw_3_bn (BatchNormaliz  (None, 12, 12, 128)      512       \n",
      " ation)                                                          \n",
      "                                                                 \n",
      " conv_dw_3_relu (ReLU)       (None, 12, 12, 128)       0         \n",
      "                                                                 \n",
      " conv_pw_3 (Conv2D)          (None, 12, 12, 128)       16384     \n",
      "                                                                 \n",
      " conv_pw_3_bn (BatchNormaliz  (None, 12, 12, 128)      512       \n",
      " ation)                                                          \n",
      "                                                                 \n",
      " conv_pw_3_relu (ReLU)       (None, 12, 12, 128)       0         \n",
      "                                                                 \n",
      " conv_pad_4 (ZeroPadding2D)  (None, 13, 13, 128)       0         \n",
      "                                                                 \n",
      " conv_dw_4 (DepthwiseConv2D)  (None, 6, 6, 128)        1152      \n",
      "                                                                 \n",
      " conv_dw_4_bn (BatchNormaliz  (None, 6, 6, 128)        512       \n",
      " ation)                                                          \n",
      "                                                                 \n",
      " conv_dw_4_relu (ReLU)       (None, 6, 6, 128)         0         \n",
      "                                                                 \n",
      " conv_pw_4 (Conv2D)          (None, 6, 6, 256)         32768     \n",
      "                                                                 \n",
      " conv_pw_4_bn (BatchNormaliz  (None, 6, 6, 256)        1024      \n",
      " ation)                                                          \n",
      "                                                                 \n",
      " conv_pw_4_relu (ReLU)       (None, 6, 6, 256)         0         \n",
      "                                                                 \n",
      " conv_dw_5 (DepthwiseConv2D)  (None, 6, 6, 256)        2304      \n",
      "                                                                 \n",
      " conv_dw_5_bn (BatchNormaliz  (None, 6, 6, 256)        1024      \n",
      " ation)                                                          \n",
      "                                                                 \n",
      " conv_dw_5_relu (ReLU)       (None, 6, 6, 256)         0         \n",
      "                                                                 \n",
      " conv_pw_5 (Conv2D)          (None, 6, 6, 256)         65536     \n",
      "                                                                 \n",
      " conv_pw_5_bn (BatchNormaliz  (None, 6, 6, 256)        1024      \n",
      " ation)                                                          \n",
      "                                                                 \n",
      " conv_pw_5_relu (ReLU)       (None, 6, 6, 256)         0         \n",
      "                                                                 \n",
      " conv_pad_6 (ZeroPadding2D)  (None, 7, 7, 256)         0         \n",
      "                                                                 \n",
      " conv_dw_6 (DepthwiseConv2D)  (None, 3, 3, 256)        2304      \n",
      "                                                                 \n",
      " conv_dw_6_bn (BatchNormaliz  (None, 3, 3, 256)        1024      \n",
      " ation)                                                          \n",
      "                                                                 \n",
      " conv_dw_6_relu (ReLU)       (None, 3, 3, 256)         0         \n",
      "                                                                 \n",
      " conv_pw_6 (Conv2D)          (None, 3, 3, 512)         131072    \n",
      "                                                                 \n",
      " conv_pw_6_bn (BatchNormaliz  (None, 3, 3, 512)        2048      \n",
      " ation)                                                          \n",
      "                                                                 \n",
      " conv_pw_6_relu (ReLU)       (None, 3, 3, 512)         0         \n",
      "                                                                 \n",
      " conv_dw_7 (DepthwiseConv2D)  (None, 3, 3, 512)        4608      \n",
      "                                                                 \n",
      " conv_dw_7_bn (BatchNormaliz  (None, 3, 3, 512)        2048      \n",
      " ation)                                                          \n",
      "                                                                 \n",
      " conv_dw_7_relu (ReLU)       (None, 3, 3, 512)         0         \n",
      "                                                                 \n",
      " conv_pw_7 (Conv2D)          (None, 3, 3, 512)         262144    \n",
      "                                                                 \n",
      " conv_pw_7_bn (BatchNormaliz  (None, 3, 3, 512)        2048      \n",
      " ation)                                                          \n",
      "                                                                 \n",
      " conv_pw_7_relu (ReLU)       (None, 3, 3, 512)         0         \n",
      "                                                                 \n",
      " conv_dw_8 (DepthwiseConv2D)  (None, 3, 3, 512)        4608      \n",
      "                                                                 \n",
      " conv_dw_8_bn (BatchNormaliz  (None, 3, 3, 512)        2048      \n",
      " ation)                                                          \n",
      "                                                                 \n",
      " conv_dw_8_relu (ReLU)       (None, 3, 3, 512)         0         \n",
      "                                                                 \n",
      " conv_pw_8 (Conv2D)          (None, 3, 3, 512)         262144    \n",
      "                                                                 \n",
      " conv_pw_8_bn (BatchNormaliz  (None, 3, 3, 512)        2048      \n",
      " ation)                                                          \n",
      "                                                                 \n",
      " conv_pw_8_relu (ReLU)       (None, 3, 3, 512)         0         \n",
      "                                                                 \n",
      " conv_dw_9 (DepthwiseConv2D)  (None, 3, 3, 512)        4608      \n",
      "                                                                 \n",
      " conv_dw_9_bn (BatchNormaliz  (None, 3, 3, 512)        2048      \n",
      " ation)                                                          \n",
      "                                                                 \n",
      " conv_dw_9_relu (ReLU)       (None, 3, 3, 512)         0         \n",
      "                                                                 \n",
      " conv_pw_9 (Conv2D)          (None, 3, 3, 512)         262144    \n",
      "                                                                 \n",
      " conv_pw_9_bn (BatchNormaliz  (None, 3, 3, 512)        2048      \n",
      " ation)                                                          \n",
      "                                                                 \n",
      " conv_pw_9_relu (ReLU)       (None, 3, 3, 512)         0         \n",
      "                                                                 \n",
      " conv_dw_10 (DepthwiseConv2D  (None, 3, 3, 512)        4608      \n",
      " )                                                               \n",
      "                                                                 \n",
      " conv_dw_10_bn (BatchNormali  (None, 3, 3, 512)        2048      \n",
      " zation)                                                         \n",
      "                                                                 \n",
      " conv_dw_10_relu (ReLU)      (None, 3, 3, 512)         0         \n",
      "                                                                 \n",
      " conv_pw_10 (Conv2D)         (None, 3, 3, 512)         262144    \n",
      "                                                                 \n",
      " conv_pw_10_bn (BatchNormali  (None, 3, 3, 512)        2048      \n",
      " zation)                                                         \n",
      "                                                                 \n",
      " conv_pw_10_relu (ReLU)      (None, 3, 3, 512)         0         \n",
      "                                                                 \n",
      " conv_dw_11 (DepthwiseConv2D  (None, 3, 3, 512)        4608      \n",
      " )                                                               \n",
      "                                                                 \n",
      " conv_dw_11_bn (BatchNormali  (None, 3, 3, 512)        2048      \n",
      " zation)                                                         \n",
      "                                                                 \n",
      " conv_dw_11_relu (ReLU)      (None, 3, 3, 512)         0         \n",
      "                                                                 \n",
      " conv_pw_11 (Conv2D)         (None, 3, 3, 512)         262144    \n",
      "                                                                 \n",
      " conv_pw_11_bn (BatchNormali  (None, 3, 3, 512)        2048      \n",
      " zation)                                                         \n",
      "                                                                 \n",
      " conv_pw_11_relu (ReLU)      (None, 3, 3, 512)         0         \n",
      "                                                                 \n",
      " conv_pad_12 (ZeroPadding2D)  (None, 4, 4, 512)        0         \n",
      "                                                                 \n",
      " conv_dw_12 (DepthwiseConv2D  (None, 1, 1, 512)        4608      \n",
      " )                                                               \n",
      "                                                                 \n",
      " conv_dw_12_bn (BatchNormali  (None, 1, 1, 512)        2048      \n",
      " zation)                                                         \n",
      "                                                                 \n",
      " conv_dw_12_relu (ReLU)      (None, 1, 1, 512)         0         \n",
      "                                                                 \n",
      " conv_pw_12 (Conv2D)         (None, 1, 1, 1024)        524288    \n",
      "                                                                 \n",
      " conv_pw_12_bn (BatchNormali  (None, 1, 1, 1024)       4096      \n",
      " zation)                                                         \n",
      "                                                                 \n",
      " conv_pw_12_relu (ReLU)      (None, 1, 1, 1024)        0         \n",
      "                                                                 \n",
      " conv_dw_13 (DepthwiseConv2D  (None, 1, 1, 1024)       9216      \n",
      " )                                                               \n",
      "                                                                 \n",
      " conv_dw_13_bn (BatchNormali  (None, 1, 1, 1024)       4096      \n",
      " zation)                                                         \n",
      "                                                                 \n",
      " conv_dw_13_relu (ReLU)      (None, 1, 1, 1024)        0         \n",
      "                                                                 \n",
      " conv_pw_13 (Conv2D)         (None, 1, 1, 1024)        1048576   \n",
      "                                                                 \n",
      " conv_pw_13_bn (BatchNormali  (None, 1, 1, 1024)       4096      \n",
      " zation)                                                         \n",
      "                                                                 \n",
      " conv_pw_13_relu (ReLU)      (None, 1, 1, 1024)        0         \n",
      "                                                                 \n",
      " global_average_pooling2d_3   (None, 1024)             0         \n",
      " (GlobalAveragePooling2D)                                        \n",
      "                                                                 \n",
      " dropout_3 (Dropout)         (None, 1024)              0         \n",
      "                                                                 \n",
      " dense_3 (Dense)             (None, 7)                 7175      \n",
      "                                                                 \n",
      "=================================================================\n",
      "Total params: 3,236,039\n",
      "Trainable params: 7,175\n",
      "Non-trainable params: 3,228,864\n",
      "_________________________________________________________________\n"
     ]
    }
   ],
   "source": [
    "# Create data augmentation\n",
    "seed_everything(2023)\n",
    "train_generator, validation_generator, public_test_generator, private_test_generator = data_augmentation()\n",
    "\n",
    "# Load the MobileNet model without the top layer\n",
    "base_model = MobileNet(\n",
    "    input_shape=(CFG.img_height, CFG.img_width, 3),\n",
    "    include_top=False,\n",
    "    weights='imagenet'\n",
    ")\n",
    "\n",
    "# Add a GlobalAveragePooling2D layer and a Dense layer with softmax activation for classification\n",
    "x = base_model.output\n",
    "x = GlobalAveragePooling2D()(x)\n",
    "x = Dropout(0.5)(x)\n",
    "predictions = Dense(train_generator.num_classes, activation='softmax')(x)\n",
    "\n",
    "# Combine the base model with the new layers to create the full model\n",
    "model = Model(inputs=base_model.input, outputs=predictions)\n",
    "\n",
    "# Freeze the weights of the base model to prevent them from being updated during training\n",
    "for layer in base_model.layers:\n",
    "    layer.trainable = False\n",
    "\n",
    "# Compile the model with categorical cross-entropy loss and Adam optimizer\n",
    "model.compile(loss='categorical_crossentropy', optimizer=Adam(lr=0.0001, decay=1e-5), metrics=['accuracy'])\n",
    "model.summary()"
   ]
  },
  {
   "cell_type": "code",
   "execution_count": 39,
   "metadata": {},
   "outputs": [],
   "source": [
    "# Create Callback\n",
    "model_checkpoint = ModelCheckpoint(\n",
    "    \"MobileNetV1.h5\", \n",
    "    monitor=\"val_loss\", \n",
    "    mode=\"min\", \n",
    "    verbose=1,\n",
    "    save_best_only=True\n",
    ")\n",
    "\n",
    "callbacks = [model_checkpoint]"
   ]
  },
  {
   "cell_type": "markdown",
   "metadata": {},
   "source": [
    "#### Training and testing the data using MobileNet"
   ]
  },
  {
   "cell_type": "code",
   "execution_count": 40,
   "metadata": {},
   "outputs": [
    {
     "name": "stdout",
     "output_type": "stream",
     "text": [
      "Epoch 1/25\n",
      "89/89 [==============================] - ETA: 0s - loss: 1.9654 - accuracy: 0.1279\n",
      "Epoch 1: val_loss improved from inf to 1.94035, saving model to MobileNetV1.h5\n",
      "89/89 [==============================] - 33s 353ms/step - loss: 1.9654 - accuracy: 0.1279 - val_loss: 1.9403 - val_accuracy: 0.1827\n",
      "Epoch 2/25\n",
      "89/89 [==============================] - ETA: 0s - loss: 1.9448 - accuracy: 0.2059\n",
      "Epoch 2: val_loss improved from 1.94035 to 1.92307, saving model to MobileNetV1.h5\n",
      "89/89 [==============================] - 33s 366ms/step - loss: 1.9448 - accuracy: 0.2059 - val_loss: 1.9231 - val_accuracy: 0.2528\n",
      "Epoch 3/25\n",
      "89/89 [==============================] - ETA: 0s - loss: 1.9289 - accuracy: 0.2246\n",
      "Epoch 3: val_loss improved from 1.92307 to 1.90740, saving model to MobileNetV1.h5\n",
      "89/89 [==============================] - 35s 388ms/step - loss: 1.9289 - accuracy: 0.2246 - val_loss: 1.9074 - val_accuracy: 0.2578\n",
      "Epoch 4/25\n",
      "89/89 [==============================] - ETA: 0s - loss: 1.9161 - accuracy: 0.2350\n",
      "Epoch 4: val_loss improved from 1.90740 to 1.89589, saving model to MobileNetV1.h5\n",
      "89/89 [==============================] - 32s 358ms/step - loss: 1.9161 - accuracy: 0.2350 - val_loss: 1.8959 - val_accuracy: 0.2564\n",
      "Epoch 5/25\n",
      "89/89 [==============================] - ETA: 0s - loss: 1.9053 - accuracy: 0.2375\n",
      "Epoch 5: val_loss improved from 1.89589 to 1.88653, saving model to MobileNetV1.h5\n",
      "89/89 [==============================] - 35s 391ms/step - loss: 1.9053 - accuracy: 0.2375 - val_loss: 1.8865 - val_accuracy: 0.2562\n",
      "Epoch 6/25\n",
      "89/89 [==============================] - ETA: 0s - loss: 1.8941 - accuracy: 0.2394\n",
      "Epoch 6: val_loss improved from 1.88653 to 1.87661, saving model to MobileNetV1.h5\n",
      "89/89 [==============================] - 33s 373ms/step - loss: 1.8941 - accuracy: 0.2394 - val_loss: 1.8766 - val_accuracy: 0.2562\n",
      "Epoch 7/25\n",
      "89/89 [==============================] - ETA: 0s - loss: 1.8882 - accuracy: 0.2411\n",
      "Epoch 7: val_loss improved from 1.87661 to 1.86826, saving model to MobileNetV1.h5\n",
      "89/89 [==============================] - 34s 377ms/step - loss: 1.8882 - accuracy: 0.2411 - val_loss: 1.8683 - val_accuracy: 0.2562\n",
      "Epoch 8/25\n",
      "89/89 [==============================] - ETA: 0s - loss: 1.8787 - accuracy: 0.2447\n",
      "Epoch 8: val_loss improved from 1.86826 to 1.86293, saving model to MobileNetV1.h5\n",
      "89/89 [==============================] - 33s 377ms/step - loss: 1.8787 - accuracy: 0.2447 - val_loss: 1.8629 - val_accuracy: 0.2560\n",
      "Epoch 9/25\n",
      "89/89 [==============================] - ETA: 0s - loss: 1.8746 - accuracy: 0.2460\n",
      "Epoch 9: val_loss improved from 1.86293 to 1.85718, saving model to MobileNetV1.h5\n",
      "89/89 [==============================] - 34s 383ms/step - loss: 1.8746 - accuracy: 0.2460 - val_loss: 1.8572 - val_accuracy: 0.2560\n",
      "Epoch 10/25\n",
      "89/89 [==============================] - ETA: 0s - loss: 1.8707 - accuracy: 0.2466\n",
      "Epoch 10: val_loss improved from 1.85718 to 1.84981, saving model to MobileNetV1.h5\n",
      "89/89 [==============================] - 33s 369ms/step - loss: 1.8707 - accuracy: 0.2466 - val_loss: 1.8498 - val_accuracy: 0.2562\n",
      "Epoch 11/25\n",
      "89/89 [==============================] - ETA: 0s - loss: 1.8670 - accuracy: 0.2464\n",
      "Epoch 11: val_loss improved from 1.84981 to 1.84784, saving model to MobileNetV1.h5\n",
      "89/89 [==============================] - 36s 404ms/step - loss: 1.8670 - accuracy: 0.2464 - val_loss: 1.8478 - val_accuracy: 0.2560\n",
      "Epoch 12/25\n",
      "89/89 [==============================] - ETA: 0s - loss: 1.8612 - accuracy: 0.2472\n",
      "Epoch 12: val_loss improved from 1.84784 to 1.84377, saving model to MobileNetV1.h5\n",
      "89/89 [==============================] - 40s 455ms/step - loss: 1.8612 - accuracy: 0.2472 - val_loss: 1.8438 - val_accuracy: 0.2569\n",
      "Epoch 13/25\n",
      "89/89 [==============================] - ETA: 0s - loss: 1.8565 - accuracy: 0.2511\n",
      "Epoch 13: val_loss improved from 1.84377 to 1.83774, saving model to MobileNetV1.h5\n",
      "89/89 [==============================] - 39s 438ms/step - loss: 1.8565 - accuracy: 0.2511 - val_loss: 1.8377 - val_accuracy: 0.2560\n",
      "Epoch 14/25\n",
      "89/89 [==============================] - ETA: 0s - loss: 1.8525 - accuracy: 0.2492\n",
      "Epoch 14: val_loss improved from 1.83774 to 1.83612, saving model to MobileNetV1.h5\n",
      "89/89 [==============================] - 38s 425ms/step - loss: 1.8525 - accuracy: 0.2492 - val_loss: 1.8361 - val_accuracy: 0.2567\n",
      "Epoch 15/25\n",
      "89/89 [==============================] - ETA: 0s - loss: 1.8541 - accuracy: 0.2491\n",
      "Epoch 15: val_loss improved from 1.83612 to 1.83405, saving model to MobileNetV1.h5\n",
      "89/89 [==============================] - 37s 412ms/step - loss: 1.8541 - accuracy: 0.2491 - val_loss: 1.8341 - val_accuracy: 0.2564\n",
      "Epoch 16/25\n",
      "89/89 [==============================] - ETA: 0s - loss: 1.8489 - accuracy: 0.2499\n",
      "Epoch 16: val_loss improved from 1.83405 to 1.82979, saving model to MobileNetV1.h5\n",
      "89/89 [==============================] - 30s 334ms/step - loss: 1.8489 - accuracy: 0.2499 - val_loss: 1.8298 - val_accuracy: 0.2560\n",
      "Epoch 17/25\n",
      "89/89 [==============================] - ETA: 0s - loss: 1.8485 - accuracy: 0.2532\n",
      "Epoch 17: val_loss improved from 1.82979 to 1.82689, saving model to MobileNetV1.h5\n",
      "89/89 [==============================] - 26s 293ms/step - loss: 1.8485 - accuracy: 0.2532 - val_loss: 1.8269 - val_accuracy: 0.2557\n",
      "Epoch 18/25\n",
      "89/89 [==============================] - ETA: 0s - loss: 1.8447 - accuracy: 0.2521\n",
      "Epoch 18: val_loss improved from 1.82689 to 1.82381, saving model to MobileNetV1.h5\n",
      "89/89 [==============================] - 27s 299ms/step - loss: 1.8447 - accuracy: 0.2521 - val_loss: 1.8238 - val_accuracy: 0.2567\n",
      "Epoch 19/25\n",
      "89/89 [==============================] - ETA: 0s - loss: 1.8423 - accuracy: 0.2524\n",
      "Epoch 19: val_loss improved from 1.82381 to 1.82301, saving model to MobileNetV1.h5\n",
      "89/89 [==============================] - 29s 322ms/step - loss: 1.8423 - accuracy: 0.2524 - val_loss: 1.8230 - val_accuracy: 0.2559\n",
      "Epoch 20/25\n",
      "89/89 [==============================] - ETA: 0s - loss: 1.8404 - accuracy: 0.2515\n",
      "Epoch 20: val_loss improved from 1.82301 to 1.82110, saving model to MobileNetV1.h5\n",
      "89/89 [==============================] - 29s 324ms/step - loss: 1.8404 - accuracy: 0.2515 - val_loss: 1.8211 - val_accuracy: 0.2562\n",
      "Epoch 21/25\n",
      "89/89 [==============================] - ETA: 0s - loss: 1.8378 - accuracy: 0.2523\n",
      "Epoch 21: val_loss improved from 1.82110 to 1.81609, saving model to MobileNetV1.h5\n",
      "89/89 [==============================] - 28s 312ms/step - loss: 1.8378 - accuracy: 0.2523 - val_loss: 1.8161 - val_accuracy: 0.2569\n",
      "Epoch 22/25\n",
      "89/89 [==============================] - ETA: 0s - loss: 1.8368 - accuracy: 0.2533\n",
      "Epoch 22: val_loss improved from 1.81609 to 1.81553, saving model to MobileNetV1.h5\n",
      "89/89 [==============================] - 27s 301ms/step - loss: 1.8368 - accuracy: 0.2533 - val_loss: 1.8155 - val_accuracy: 0.2576\n",
      "Epoch 23/25\n",
      "89/89 [==============================] - ETA: 0s - loss: 1.8362 - accuracy: 0.2534\n",
      "Epoch 23: val_loss improved from 1.81553 to 1.81476, saving model to MobileNetV1.h5\n",
      "89/89 [==============================] - 27s 307ms/step - loss: 1.8362 - accuracy: 0.2534 - val_loss: 1.8148 - val_accuracy: 0.2576\n",
      "Epoch 24/25\n",
      "89/89 [==============================] - ETA: 0s - loss: 1.8356 - accuracy: 0.2539\n",
      "Epoch 24: val_loss improved from 1.81476 to 1.81242, saving model to MobileNetV1.h5\n",
      "89/89 [==============================] - 28s 315ms/step - loss: 1.8356 - accuracy: 0.2539 - val_loss: 1.8124 - val_accuracy: 0.2576\n",
      "Epoch 25/25\n",
      "89/89 [==============================] - ETA: 0s - loss: 1.8330 - accuracy: 0.2547\n",
      "Epoch 25: val_loss improved from 1.81242 to 1.80984, saving model to MobileNetV1.h5\n",
      "89/89 [==============================] - 32s 357ms/step - loss: 1.8330 - accuracy: 0.2547 - val_loss: 1.8098 - val_accuracy: 0.2562\n"
     ]
    }
   ],
   "source": [
    "# Train the model on the training data\n",
    "history = model.fit(\n",
    "    train_generator,\n",
    "    steps_per_epoch=train_generator.samples // CFG.batch_size,\n",
    "    epochs=CFG.epoch,\n",
    "    validation_data=validation_generator,\n",
    "    validation_steps=validation_generator.samples // CFG.batch_size,\n",
    "    callbacks=callbacks,\n",
    ")"
   ]
  },
  {
   "cell_type": "markdown",
   "metadata": {},
   "source": [
    "#### MobileNet Results"
   ]
  },
  {
   "cell_type": "code",
   "execution_count": 41,
   "metadata": {},
   "outputs": [
    {
     "name": "stdout",
     "output_type": "stream",
     "text": [
      "3589/3589 [==============================] - 18s 5ms/step - loss: 1.8089 - accuracy: 0.2510\n",
      "Evaluate Public Test Accuracy: 25.10%\n",
      "3589/3589 [==============================] - 15s 4ms/step - loss: 1.8148 - accuracy: 0.2458\n",
      "Evaluate Private Test Accuracy: 24.58%\n"
     ]
    }
   ],
   "source": [
    "# Evaluate on Public Test Data\n",
    "public_scores = model.evaluate(public_test_generator)\n",
    "print(\"%s: %.2f%%\" % (\"Evaluate Public Test Accuracy\", public_scores[1]*100))\n",
    "\n",
    "# Evaluate on Private Test Data\n",
    "private_scores = model.evaluate(private_test_generator)\n",
    "print(\"%s: %.2f%%\" % (\"Evaluate Private Test Accuracy\", private_scores[1]*100))"
   ]
  },
  {
   "cell_type": "code",
   "execution_count": 42,
   "metadata": {},
   "outputs": [
    {
     "data": {
      "application/vnd.plotly.v1+json": {
       "config": {
        "plotlyServerURL": "https://plot.ly"
       },
       "data": [
        {
         "line": {
          "color": "#935d39",
          "width": 1.5
         },
         "marker": {
          "color": "#935d39",
          "line": {
           "color": "White",
           "width": 0.5
          },
          "size": 6
         },
         "mode": "markers+lines",
         "name": "Training Loss",
         "type": "scatter",
         "x": [
          1,
          2,
          3,
          4,
          5,
          6,
          7,
          8,
          9,
          10,
          11,
          12,
          13,
          14,
          15,
          16,
          17,
          18,
          19,
          20,
          21,
          22,
          23,
          24,
          25
         ],
         "xaxis": "x",
         "y": [
          1.9654443264007568,
          1.9448258876800537,
          1.9289331436157227,
          1.9160665273666382,
          1.905349612236023,
          1.8941236734390259,
          1.8882293701171875,
          1.8786728382110596,
          1.8746364116668701,
          1.8706777095794678,
          1.867006778717041,
          1.8611544370651245,
          1.8564692735671997,
          1.8525199890136719,
          1.854141116142273,
          1.8489261865615845,
          1.8485187292099,
          1.844704031944275,
          1.8422677516937256,
          1.84038245677948,
          1.8378318548202515,
          1.8367881774902344,
          1.8362160921096802,
          1.8355904817581177,
          1.8329987525939941
         ],
         "yaxis": "y"
        },
        {
         "line": {
          "color": "#85b8cd",
          "width": 1.5
         },
         "marker": {
          "color": "#85b8cd",
          "line": {
           "color": "White",
           "width": 0.5
          },
          "size": 6
         },
         "mode": "markers+lines",
         "name": "Validation Loss",
         "type": "scatter",
         "x": [
          1,
          2,
          3,
          4,
          5,
          6,
          7,
          8,
          9,
          10,
          11,
          12,
          13,
          14,
          15,
          16,
          17,
          18,
          19,
          20,
          21,
          22,
          23,
          24,
          25
         ],
         "xaxis": "x",
         "y": [
          1.9403458833694458,
          1.9230691194534302,
          1.9074006080627441,
          1.8958855867385864,
          1.8865278959274292,
          1.8766146898269653,
          1.8682631254196167,
          1.8629306554794312,
          1.857181191444397,
          1.8498119115829468,
          1.8478411436080933,
          1.843765139579773,
          1.837742567062378,
          1.8361209630966187,
          1.834052324295044,
          1.8297905921936035,
          1.8268921375274658,
          1.8238104581832886,
          1.823011875152588,
          1.821100115776062,
          1.8160854578018188,
          1.815527081489563,
          1.8147609233856201,
          1.812424898147583,
          1.8098355531692505
         ],
         "yaxis": "y"
        },
        {
         "line": {
          "color": "#935d39",
          "width": 1.5
         },
         "marker": {
          "color": "#935d39",
          "line": {
           "color": "White",
           "width": 0.5
          },
          "size": 6
         },
         "mode": "markers+lines",
         "name": "Training Accuracy",
         "type": "scatter",
         "x": [
          1,
          2,
          3,
          4,
          5,
          6,
          7,
          8,
          9,
          10,
          11,
          12,
          13,
          14,
          15,
          16,
          17,
          18,
          19,
          20,
          21,
          22,
          23,
          24,
          25
         ],
         "xaxis": "x2",
         "y": [
          0.12794998288154602,
          0.20592638850212097,
          0.22455090284347534,
          0.23498591780662537,
          0.23745156824588776,
          0.2394329011440277,
          0.24110601842403412,
          0.24471645057201385,
          0.2460373342037201,
          0.24656569957733154,
          0.24643360078334808,
          0.24718210101127625,
          0.2511007487773895,
          0.24920746684074402,
          0.24907538294792175,
          0.24991193413734436,
          0.2531701326370239,
          0.2521134316921234,
          0.25237759947776794,
          0.2514970004558563,
          0.2523335814476013,
          0.25325819849967957,
          0.25339028239250183,
          0.2539186477661133,
          0.2547401785850525
         ],
         "yaxis": "y2"
        },
        {
         "line": {
          "color": "#85b8cd",
          "width": 1.5
         },
         "marker": {
          "color": "#85b8cd",
          "line": {
           "color": "White",
           "width": 0.5
          },
          "size": 6
         },
         "mode": "markers+lines",
         "name": "Validation Accuracy",
         "type": "scatter",
         "x": [
          1,
          2,
          3,
          4,
          5,
          6,
          7,
          8,
          9,
          10,
          11,
          12,
          13,
          14,
          15,
          16,
          17,
          18,
          19,
          20,
          21,
          22,
          23,
          24,
          25
         ],
         "xaxis": "x2",
         "y": [
          0.18270596861839294,
          0.25284090638160706,
          0.2578125,
          0.2563920319080353,
          0.2562144994735718,
          0.2562144994735718,
          0.2562144994735718,
          0.2560369372367859,
          0.2560369372367859,
          0.2562144994735718,
          0.2560369372367859,
          0.25692471861839294,
          0.2560369372367859,
          0.25674715638160706,
          0.2563920319080353,
          0.2560369372367859,
          0.2556818127632141,
          0.25674715638160706,
          0.255859375,
          0.2562144994735718,
          0.25692471861839294,
          0.2576349377632141,
          0.2576349377632141,
          0.2576349377632141,
          0.2562144994735718
         ],
         "yaxis": "y2"
        }
       ],
       "layout": {
        "annotations": [
         {
          "font": {
           "size": 16
          },
          "showarrow": false,
          "text": "Model Loss",
          "x": 0.225,
          "xanchor": "center",
          "xref": "paper",
          "y": 1,
          "yanchor": "bottom",
          "yref": "paper"
         },
         {
          "font": {
           "size": 16
          },
          "showarrow": false,
          "text": "Model Accuracy",
          "x": 0.775,
          "xanchor": "center",
          "xref": "paper",
          "y": 1,
          "yanchor": "bottom",
          "yref": "paper"
         }
        ],
        "font": {
         "family": "Cambria"
        },
        "height": 400,
        "paper_bgcolor": "White",
        "plot_bgcolor": "White",
        "showlegend": false,
        "template": {
         "data": {
          "bar": [
           {
            "error_x": {
             "color": "#2a3f5f"
            },
            "error_y": {
             "color": "#2a3f5f"
            },
            "marker": {
             "line": {
              "color": "#E5ECF6",
              "width": 0.5
             },
             "pattern": {
              "fillmode": "overlay",
              "size": 10,
              "solidity": 0.2
             }
            },
            "type": "bar"
           }
          ],
          "barpolar": [
           {
            "marker": {
             "line": {
              "color": "#E5ECF6",
              "width": 0.5
             },
             "pattern": {
              "fillmode": "overlay",
              "size": 10,
              "solidity": 0.2
             }
            },
            "type": "barpolar"
           }
          ],
          "carpet": [
           {
            "aaxis": {
             "endlinecolor": "#2a3f5f",
             "gridcolor": "white",
             "linecolor": "white",
             "minorgridcolor": "white",
             "startlinecolor": "#2a3f5f"
            },
            "baxis": {
             "endlinecolor": "#2a3f5f",
             "gridcolor": "white",
             "linecolor": "white",
             "minorgridcolor": "white",
             "startlinecolor": "#2a3f5f"
            },
            "type": "carpet"
           }
          ],
          "choropleth": [
           {
            "colorbar": {
             "outlinewidth": 0,
             "ticks": ""
            },
            "type": "choropleth"
           }
          ],
          "contour": [
           {
            "colorbar": {
             "outlinewidth": 0,
             "ticks": ""
            },
            "colorscale": [
             [
              0,
              "#0d0887"
             ],
             [
              0.1111111111111111,
              "#46039f"
             ],
             [
              0.2222222222222222,
              "#7201a8"
             ],
             [
              0.3333333333333333,
              "#9c179e"
             ],
             [
              0.4444444444444444,
              "#bd3786"
             ],
             [
              0.5555555555555556,
              "#d8576b"
             ],
             [
              0.6666666666666666,
              "#ed7953"
             ],
             [
              0.7777777777777778,
              "#fb9f3a"
             ],
             [
              0.8888888888888888,
              "#fdca26"
             ],
             [
              1,
              "#f0f921"
             ]
            ],
            "type": "contour"
           }
          ],
          "contourcarpet": [
           {
            "colorbar": {
             "outlinewidth": 0,
             "ticks": ""
            },
            "type": "contourcarpet"
           }
          ],
          "heatmap": [
           {
            "colorbar": {
             "outlinewidth": 0,
             "ticks": ""
            },
            "colorscale": [
             [
              0,
              "#0d0887"
             ],
             [
              0.1111111111111111,
              "#46039f"
             ],
             [
              0.2222222222222222,
              "#7201a8"
             ],
             [
              0.3333333333333333,
              "#9c179e"
             ],
             [
              0.4444444444444444,
              "#bd3786"
             ],
             [
              0.5555555555555556,
              "#d8576b"
             ],
             [
              0.6666666666666666,
              "#ed7953"
             ],
             [
              0.7777777777777778,
              "#fb9f3a"
             ],
             [
              0.8888888888888888,
              "#fdca26"
             ],
             [
              1,
              "#f0f921"
             ]
            ],
            "type": "heatmap"
           }
          ],
          "heatmapgl": [
           {
            "colorbar": {
             "outlinewidth": 0,
             "ticks": ""
            },
            "colorscale": [
             [
              0,
              "#0d0887"
             ],
             [
              0.1111111111111111,
              "#46039f"
             ],
             [
              0.2222222222222222,
              "#7201a8"
             ],
             [
              0.3333333333333333,
              "#9c179e"
             ],
             [
              0.4444444444444444,
              "#bd3786"
             ],
             [
              0.5555555555555556,
              "#d8576b"
             ],
             [
              0.6666666666666666,
              "#ed7953"
             ],
             [
              0.7777777777777778,
              "#fb9f3a"
             ],
             [
              0.8888888888888888,
              "#fdca26"
             ],
             [
              1,
              "#f0f921"
             ]
            ],
            "type": "heatmapgl"
           }
          ],
          "histogram": [
           {
            "marker": {
             "pattern": {
              "fillmode": "overlay",
              "size": 10,
              "solidity": 0.2
             }
            },
            "type": "histogram"
           }
          ],
          "histogram2d": [
           {
            "colorbar": {
             "outlinewidth": 0,
             "ticks": ""
            },
            "colorscale": [
             [
              0,
              "#0d0887"
             ],
             [
              0.1111111111111111,
              "#46039f"
             ],
             [
              0.2222222222222222,
              "#7201a8"
             ],
             [
              0.3333333333333333,
              "#9c179e"
             ],
             [
              0.4444444444444444,
              "#bd3786"
             ],
             [
              0.5555555555555556,
              "#d8576b"
             ],
             [
              0.6666666666666666,
              "#ed7953"
             ],
             [
              0.7777777777777778,
              "#fb9f3a"
             ],
             [
              0.8888888888888888,
              "#fdca26"
             ],
             [
              1,
              "#f0f921"
             ]
            ],
            "type": "histogram2d"
           }
          ],
          "histogram2dcontour": [
           {
            "colorbar": {
             "outlinewidth": 0,
             "ticks": ""
            },
            "colorscale": [
             [
              0,
              "#0d0887"
             ],
             [
              0.1111111111111111,
              "#46039f"
             ],
             [
              0.2222222222222222,
              "#7201a8"
             ],
             [
              0.3333333333333333,
              "#9c179e"
             ],
             [
              0.4444444444444444,
              "#bd3786"
             ],
             [
              0.5555555555555556,
              "#d8576b"
             ],
             [
              0.6666666666666666,
              "#ed7953"
             ],
             [
              0.7777777777777778,
              "#fb9f3a"
             ],
             [
              0.8888888888888888,
              "#fdca26"
             ],
             [
              1,
              "#f0f921"
             ]
            ],
            "type": "histogram2dcontour"
           }
          ],
          "mesh3d": [
           {
            "colorbar": {
             "outlinewidth": 0,
             "ticks": ""
            },
            "type": "mesh3d"
           }
          ],
          "parcoords": [
           {
            "line": {
             "colorbar": {
              "outlinewidth": 0,
              "ticks": ""
             }
            },
            "type": "parcoords"
           }
          ],
          "pie": [
           {
            "automargin": true,
            "type": "pie"
           }
          ],
          "scatter": [
           {
            "fillpattern": {
             "fillmode": "overlay",
             "size": 10,
             "solidity": 0.2
            },
            "type": "scatter"
           }
          ],
          "scatter3d": [
           {
            "line": {
             "colorbar": {
              "outlinewidth": 0,
              "ticks": ""
             }
            },
            "marker": {
             "colorbar": {
              "outlinewidth": 0,
              "ticks": ""
             }
            },
            "type": "scatter3d"
           }
          ],
          "scattercarpet": [
           {
            "marker": {
             "colorbar": {
              "outlinewidth": 0,
              "ticks": ""
             }
            },
            "type": "scattercarpet"
           }
          ],
          "scattergeo": [
           {
            "marker": {
             "colorbar": {
              "outlinewidth": 0,
              "ticks": ""
             }
            },
            "type": "scattergeo"
           }
          ],
          "scattergl": [
           {
            "marker": {
             "colorbar": {
              "outlinewidth": 0,
              "ticks": ""
             }
            },
            "type": "scattergl"
           }
          ],
          "scattermapbox": [
           {
            "marker": {
             "colorbar": {
              "outlinewidth": 0,
              "ticks": ""
             }
            },
            "type": "scattermapbox"
           }
          ],
          "scatterpolar": [
           {
            "marker": {
             "colorbar": {
              "outlinewidth": 0,
              "ticks": ""
             }
            },
            "type": "scatterpolar"
           }
          ],
          "scatterpolargl": [
           {
            "marker": {
             "colorbar": {
              "outlinewidth": 0,
              "ticks": ""
             }
            },
            "type": "scatterpolargl"
           }
          ],
          "scatterternary": [
           {
            "marker": {
             "colorbar": {
              "outlinewidth": 0,
              "ticks": ""
             }
            },
            "type": "scatterternary"
           }
          ],
          "surface": [
           {
            "colorbar": {
             "outlinewidth": 0,
             "ticks": ""
            },
            "colorscale": [
             [
              0,
              "#0d0887"
             ],
             [
              0.1111111111111111,
              "#46039f"
             ],
             [
              0.2222222222222222,
              "#7201a8"
             ],
             [
              0.3333333333333333,
              "#9c179e"
             ],
             [
              0.4444444444444444,
              "#bd3786"
             ],
             [
              0.5555555555555556,
              "#d8576b"
             ],
             [
              0.6666666666666666,
              "#ed7953"
             ],
             [
              0.7777777777777778,
              "#fb9f3a"
             ],
             [
              0.8888888888888888,
              "#fdca26"
             ],
             [
              1,
              "#f0f921"
             ]
            ],
            "type": "surface"
           }
          ],
          "table": [
           {
            "cells": {
             "fill": {
              "color": "#EBF0F8"
             },
             "line": {
              "color": "white"
             }
            },
            "header": {
             "fill": {
              "color": "#C8D4E3"
             },
             "line": {
              "color": "white"
             }
            },
            "type": "table"
           }
          ]
         },
         "layout": {
          "annotationdefaults": {
           "arrowcolor": "#2a3f5f",
           "arrowhead": 0,
           "arrowwidth": 1
          },
          "autotypenumbers": "strict",
          "coloraxis": {
           "colorbar": {
            "outlinewidth": 0,
            "ticks": ""
           }
          },
          "colorscale": {
           "diverging": [
            [
             0,
             "#8e0152"
            ],
            [
             0.1,
             "#c51b7d"
            ],
            [
             0.2,
             "#de77ae"
            ],
            [
             0.3,
             "#f1b6da"
            ],
            [
             0.4,
             "#fde0ef"
            ],
            [
             0.5,
             "#f7f7f7"
            ],
            [
             0.6,
             "#e6f5d0"
            ],
            [
             0.7,
             "#b8e186"
            ],
            [
             0.8,
             "#7fbc41"
            ],
            [
             0.9,
             "#4d9221"
            ],
            [
             1,
             "#276419"
            ]
           ],
           "sequential": [
            [
             0,
             "#0d0887"
            ],
            [
             0.1111111111111111,
             "#46039f"
            ],
            [
             0.2222222222222222,
             "#7201a8"
            ],
            [
             0.3333333333333333,
             "#9c179e"
            ],
            [
             0.4444444444444444,
             "#bd3786"
            ],
            [
             0.5555555555555556,
             "#d8576b"
            ],
            [
             0.6666666666666666,
             "#ed7953"
            ],
            [
             0.7777777777777778,
             "#fb9f3a"
            ],
            [
             0.8888888888888888,
             "#fdca26"
            ],
            [
             1,
             "#f0f921"
            ]
           ],
           "sequentialminus": [
            [
             0,
             "#0d0887"
            ],
            [
             0.1111111111111111,
             "#46039f"
            ],
            [
             0.2222222222222222,
             "#7201a8"
            ],
            [
             0.3333333333333333,
             "#9c179e"
            ],
            [
             0.4444444444444444,
             "#bd3786"
            ],
            [
             0.5555555555555556,
             "#d8576b"
            ],
            [
             0.6666666666666666,
             "#ed7953"
            ],
            [
             0.7777777777777778,
             "#fb9f3a"
            ],
            [
             0.8888888888888888,
             "#fdca26"
            ],
            [
             1,
             "#f0f921"
            ]
           ]
          },
          "colorway": [
           "#636efa",
           "#EF553B",
           "#00cc96",
           "#ab63fa",
           "#FFA15A",
           "#19d3f3",
           "#FF6692",
           "#B6E880",
           "#FF97FF",
           "#FECB52"
          ],
          "font": {
           "color": "#2a3f5f"
          },
          "geo": {
           "bgcolor": "white",
           "lakecolor": "white",
           "landcolor": "#E5ECF6",
           "showlakes": true,
           "showland": true,
           "subunitcolor": "white"
          },
          "hoverlabel": {
           "align": "left"
          },
          "hovermode": "closest",
          "mapbox": {
           "style": "light"
          },
          "paper_bgcolor": "white",
          "plot_bgcolor": "#E5ECF6",
          "polar": {
           "angularaxis": {
            "gridcolor": "white",
            "linecolor": "white",
            "ticks": ""
           },
           "bgcolor": "#E5ECF6",
           "radialaxis": {
            "gridcolor": "white",
            "linecolor": "white",
            "ticks": ""
           }
          },
          "scene": {
           "xaxis": {
            "backgroundcolor": "#E5ECF6",
            "gridcolor": "white",
            "gridwidth": 2,
            "linecolor": "white",
            "showbackground": true,
            "ticks": "",
            "zerolinecolor": "white"
           },
           "yaxis": {
            "backgroundcolor": "#E5ECF6",
            "gridcolor": "white",
            "gridwidth": 2,
            "linecolor": "white",
            "showbackground": true,
            "ticks": "",
            "zerolinecolor": "white"
           },
           "zaxis": {
            "backgroundcolor": "#E5ECF6",
            "gridcolor": "white",
            "gridwidth": 2,
            "linecolor": "white",
            "showbackground": true,
            "ticks": "",
            "zerolinecolor": "white"
           }
          },
          "shapedefaults": {
           "line": {
            "color": "#2a3f5f"
           }
          },
          "ternary": {
           "aaxis": {
            "gridcolor": "white",
            "linecolor": "white",
            "ticks": ""
           },
           "baxis": {
            "gridcolor": "white",
            "linecolor": "white",
            "ticks": ""
           },
           "bgcolor": "#E5ECF6",
           "caxis": {
            "gridcolor": "white",
            "linecolor": "white",
            "ticks": ""
           }
          },
          "title": {
           "x": 0.05
          },
          "xaxis": {
           "automargin": true,
           "gridcolor": "white",
           "linecolor": "white",
           "ticks": "",
           "title": {
            "standoff": 15
           },
           "zerolinecolor": "white",
           "zerolinewidth": 2
          },
          "yaxis": {
           "automargin": true,
           "gridcolor": "white",
           "linecolor": "white",
           "ticks": "",
           "title": {
            "standoff": 15
           },
           "zerolinecolor": "white",
           "zerolinewidth": 2
          }
         }
        },
        "title": {
         "text": "Training and Validation Results",
         "x": 0.5
        },
        "width": 950,
        "xaxis": {
         "anchor": "y",
         "domain": [
          0,
          0.45
         ],
         "linecolor": "Black",
         "ticks": "outside",
         "title": {
          "text": "Epochs"
         }
        },
        "xaxis2": {
         "anchor": "y2",
         "domain": [
          0.55,
          1
         ],
         "linecolor": "Black",
         "ticks": "outside",
         "title": {
          "text": "Epochs"
         }
        },
        "yaxis": {
         "anchor": "x",
         "domain": [
          0,
          1
         ],
         "linecolor": "Black",
         "ticks": "outside",
         "title": {
          "text": "Categorical Loss"
         }
        },
        "yaxis2": {
         "anchor": "x2",
         "domain": [
          0,
          1
         ],
         "linecolor": "Black",
         "ticks": "outside",
         "title": {
          "text": "Accuracy"
         }
        }
       }
      }
     },
     "metadata": {},
     "output_type": "display_data"
    }
   ],
   "source": [
    "# Visualize Training and Validation Results\n",
    "\n",
    "# Create Subplot\n",
    "fig = make_subplots(\n",
    "        rows=1, cols=2,\n",
    "        subplot_titles=[\"Model Loss\", \"Model Accuracy\"], \n",
    ")\n",
    "\n",
    "# Loss Plot\n",
    "loss = history.history['loss']\n",
    "val_loss = history.history['val_loss']\n",
    "fig.add_trace(\n",
    "    go.Scatter(\n",
    "        x=np.arange(1, len(loss)+1), y=loss,\n",
    "        mode=\"markers+lines\",\n",
    "        marker=dict(\n",
    "            color=\"#935d39\", size=6,\n",
    "            line=dict(color=\"White\", width=0.5)\n",
    "        ),\n",
    "        line=dict(color=\"#935d39\", width=1.5),\n",
    "        name=\"Training Loss\"\n",
    "    ), row=1, col=1\n",
    ")\n",
    "fig.add_trace(\n",
    "    go.Scatter(\n",
    "        x=np.arange(1, len(val_loss)+1), y=val_loss,\n",
    "        mode=\"markers+lines\",\n",
    "        marker=dict(\n",
    "            color=\"#85b8cd\", size=6,\n",
    "            line=dict(color=\"White\", width=0.5)\n",
    "        ),\n",
    "        line=dict(color=\"#85b8cd\", width=1.5),\n",
    "        name=\"Validation Loss\"\n",
    "    ), row=1, col=1\n",
    ")\n",
    "\n",
    "# Accuracy Plot\n",
    "acc = history.history['accuracy']\n",
    "val_acc = history.history['val_accuracy']\n",
    "fig.add_trace(\n",
    "    go.Scatter(\n",
    "        x=np.arange(1, len(acc)+1), y=acc,\n",
    "        mode=\"markers+lines\",\n",
    "        marker=dict(\n",
    "            color=\"#935d39\", size=6,\n",
    "            line=dict(color=\"White\", width=0.5)\n",
    "        ),\n",
    "        line=dict(color=\"#935d39\", width=1.5),\n",
    "        name=\"Training Accuracy\"\n",
    "    ), row=1, col=2\n",
    ")\n",
    "fig.add_trace(\n",
    "    go.Scatter(\n",
    "        x=np.arange(1, len(val_acc)+1), y=val_acc,\n",
    "        mode=\"markers+lines\",\n",
    "        marker=dict(\n",
    "            color=\"#85b8cd\", size=6,\n",
    "            line=dict(color=\"White\", width=0.5)\n",
    "        ),\n",
    "        line=dict(color=\"#85b8cd\", width=1.5),\n",
    "        name=\"Validation Accuracy\"\n",
    "    ), row=1, col=2\n",
    ")\n",
    "\n",
    "# Update Axes\n",
    "fig.update_xaxes(title=\"Epochs\", linecolor=\"Black\", ticks=\"outside\", row=1, col=1)\n",
    "fig.update_xaxes(title=\"Epochs\", linecolor=\"Black\", ticks=\"outside\", row=1, col=2)\n",
    "fig.update_yaxes(title=\"Categorical Loss\", linecolor=\"Black\", ticks=\"outside\", row=1, col=1)\n",
    "fig.update_yaxes(title=\"Accuracy\", linecolor=\"Black\", ticks=\"outside\", row=1, col=2)\n",
    "\n",
    "# Update Layout\n",
    "fig.update_layout(\n",
    "    title=\"Training and Validation Results\", title_x=0.5, font_family=\"Cambria\",\n",
    "    width=950, height=400,\n",
    "    showlegend=False,\n",
    "    plot_bgcolor=\"White\",\n",
    "    paper_bgcolor=\"White\"\n",
    ")\n",
    "\n",
    "# Show\n",
    "fig.show(iframe_connected=True)"
   ]
  },
  {
   "cell_type": "code",
   "execution_count": 43,
   "metadata": {},
   "outputs": [
    {
     "name": "stdout",
     "output_type": "stream",
     "text": [
      "3589/3589 [==============================] - 11s 3ms/step\n",
      "tf.Tensor(\n",
      "[[  0   0   0 465   2   0   0]\n",
      " [  0   0   0  56   0   0   0]\n",
      " [  0   0   0 494   2   0   0]\n",
      " [  0   0   0 895   0   0   0]\n",
      " [  0   0   0 604   3   0   0]\n",
      " [  0   0   0 652   1   0   0]\n",
      " [  0   0   0 410   2   0   3]], shape=(7, 7), dtype=int32)\n"
     ]
    }
   ],
   "source": [
    "# Confusion Matrix\n",
    "predictions = model.predict(public_test_generator)\n",
    "\n",
    "# Get the true labels from the generator\n",
    "true_labels = public_test_generator.classes\n",
    "\n",
    "# Compute the confusion matrix using tf.math.confusion_matrix\n",
    "confusion_matrix = tf.math.confusion_matrix(\n",
    "        labels=true_labels,\n",
    "        predictions=predictions.argmax(axis=1),\n",
    "        num_classes=7)\n",
    "\n",
    "# Print the confusion matrix\n",
    "print(confusion_matrix)"
   ]
  },
  {
   "cell_type": "code",
   "execution_count": null,
   "metadata": {},
   "outputs": [],
   "source": []
  }
 ],
 "metadata": {
  "kernelspec": {
   "display_name": "Python 3",
   "language": "python",
   "name": "python3"
  },
  "language_info": {
   "codemirror_mode": {
    "name": "ipython",
    "version": 3
   },
   "file_extension": ".py",
   "mimetype": "text/x-python",
   "name": "python",
   "nbconvert_exporter": "python",
   "pygments_lexer": "ipython3",
   "version": "3.10.3"
  },
  "orig_nbformat": 4
 },
 "nbformat": 4,
 "nbformat_minor": 2
}
