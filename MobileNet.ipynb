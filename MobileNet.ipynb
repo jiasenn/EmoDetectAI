{
 "cells": [
  {
   "cell_type": "markdown",
   "metadata": {},
   "source": [
    "### MobileNet Model Training Emotion Detection"
   ]
  },
  {
   "cell_type": "code",
   "execution_count": 8,
   "metadata": {},
   "outputs": [],
   "source": [
    "import os\n",
    "import shutil\n",
    "import random\n",
    "import numpy as np\n",
    "import pandas as pd\n",
    "\n",
    "import matplotlib.pyplot as plt\n",
    "import plotly\n",
    "import plotly.graph_objects as go\n",
    "import plotly.express as px\n",
    "from plotly.subplots import make_subplots\n",
    "\n",
    "import tensorflow as tf\n",
    "from keras.utils import load_img\n",
    "from keras.preprocessing.image import ImageDataGenerator\n",
    "\n",
    "from keras.applications.mobilenet import MobileNet, preprocess_input\n",
    "from keras.layers import Dense, Dropout, GlobalAveragePooling2D\n",
    "from keras.models import Model\n",
    "from keras.optimizers import Adam\n",
    "from keras.callbacks import ModelCheckpoint\n",
    "import nbformat\n",
    "\n",
    "import warnings\n",
    "warnings.filterwarnings(\"ignore\")"
   ]
  },
  {
   "cell_type": "code",
   "execution_count": 9,
   "metadata": {},
   "outputs": [],
   "source": [
    "class CFG:\n",
    "    batch_size = 64\n",
    "    img_height = 48\n",
    "    img_width = 48\n",
    "    epoch = 25"
   ]
  },
  {
   "cell_type": "code",
   "execution_count": 10,
   "metadata": {},
   "outputs": [],
   "source": [
    "def seed_everything(seed: int):\n",
    "    random.seed(seed)\n",
    "    os.environ[\"PYTHONHASHSEED\"] = str(seed)\n",
    "    np.random.seed(seed)\n",
    "    tf.random.set_seed(seed)"
   ]
  },
  {
   "cell_type": "code",
   "execution_count": 11,
   "metadata": {},
   "outputs": [
    {
     "ename": "FileNotFoundError",
     "evalue": "[Errno 2] No such file or directory: 'Data_E/train'",
     "output_type": "error",
     "traceback": [
      "\u001b[0;31m---------------------------------------------------------------------------\u001b[0m",
      "\u001b[0;31mFileNotFoundError\u001b[0m                         Traceback (most recent call last)",
      "Cell \u001b[0;32mIn[11], line 5\u001b[0m\n\u001b[1;32m      3\u001b[0m train_path \u001b[39m=\u001b[39m \u001b[39m\"\u001b[39m\u001b[39mData_E/train\u001b[39m\u001b[39m\"\u001b[39m\n\u001b[1;32m      4\u001b[0m test_path \u001b[39m=\u001b[39m \u001b[39m\"\u001b[39m\u001b[39mData_E/test\u001b[39m\u001b[39m\"\u001b[39m\n\u001b[0;32m----> 5\u001b[0m emotions \u001b[39m=\u001b[39m os\u001b[39m.\u001b[39;49mlistdir(train_path)\n\u001b[1;32m      7\u001b[0m len_train \u001b[39m=\u001b[39m {}\n\u001b[1;32m      8\u001b[0m len_public_test \u001b[39m=\u001b[39m {}\n",
      "\u001b[0;31mFileNotFoundError\u001b[0m: [Errno 2] No such file or directory: 'Data_E/train'"
     ]
    }
   ],
   "source": [
    "# Get Number of Images for each Emotion and Splitting\n",
    "\n",
    "train_path = \"Data_E/train\"\n",
    "test_path = \"Data_E/test\"\n",
    "emotions = os.listdir(train_path)\n",
    "\n",
    "len_train = {}\n",
    "len_public_test = {}\n",
    "len_private_test = {}\n",
    "\n",
    "for emotion in emotions:\n",
    "    file_train = os.listdir(os.path.join(train_path, emotion))\n",
    "    len_train[emotion] = len(file_train)\n",
    "    \n",
    "    file_test = os.listdir(os.path.join(test_path, emotion))\n",
    "    file_public_test = [f for f in file_test if \"Public\" in f]\n",
    "    file_private_test = [f for f in file_test if \"Private\" in f]\n",
    "    len_public_test[emotion] = len(file_public_test)\n",
    "    len_private_test[emotion] = len(file_private_test)\n",
    "\n",
    "print(\"Train: \", len_train)\n",
    "print(\"Public Test: \", len_public_test)\n",
    "print(\"Private Test: \", len_private_test)\n",
    "\n",
    "total_train = sum(len_train.values())\n",
    "total_public_test = sum(len_public_test.values())\n",
    "total_private_test = sum(len_private_test.values())\n",
    "\n",
    "print(\"Total Train: \", total_train)\n",
    "print(\"Total Public Test: \", total_public_test)\n",
    "print(\"Total Private Test: \", total_private_test)"
   ]
  },
  {
   "cell_type": "code",
   "execution_count": 17,
   "metadata": {},
   "outputs": [
    {
     "ename": "NameError",
     "evalue": "name 'len_train' is not defined",
     "output_type": "error",
     "traceback": [
      "\u001b[0;31m---------------------------------------------------------------------------\u001b[0m",
      "\u001b[0;31mNameError\u001b[0m                                 Traceback (most recent call last)",
      "Cell \u001b[0;32mIn[17], line 10\u001b[0m\n\u001b[1;32m      4\u001b[0m data_split \u001b[39m=\u001b[39m [\u001b[39m\"\u001b[39m\u001b[39mTrain\u001b[39m\u001b[39m\"\u001b[39m, \u001b[39m\"\u001b[39m\u001b[39mPublic Test\u001b[39m\u001b[39m\"\u001b[39m, \u001b[39m\"\u001b[39m\u001b[39mPrivate Test\u001b[39m\u001b[39m\"\u001b[39m]\n\u001b[1;32m      5\u001b[0m fig \u001b[39m=\u001b[39m make_subplots(\n\u001b[1;32m      6\u001b[0m     rows\u001b[39m=\u001b[39m\u001b[39m3\u001b[39m, cols\u001b[39m=\u001b[39m\u001b[39m1\u001b[39m,\n\u001b[1;32m      7\u001b[0m     subplot_titles\u001b[39m=\u001b[39mdata_split\n\u001b[1;32m      8\u001b[0m )\n\u001b[0;32m---> 10\u001b[0m all_len \u001b[39m=\u001b[39m [len_train, len_public_test, len_private_test]\n\u001b[1;32m     11\u001b[0m all_total \u001b[39m=\u001b[39m [total_train, total_public_test, total_private_test]\n\u001b[1;32m     13\u001b[0m \u001b[39mfor\u001b[39;00m i \u001b[39min\u001b[39;00m \u001b[39mrange\u001b[39m(\u001b[39m3\u001b[39m):\n\u001b[1;32m     14\u001b[0m     \u001b[39m# Bar Chart\u001b[39;00m\n",
      "\u001b[0;31mNameError\u001b[0m: name 'len_train' is not defined"
     ]
    }
   ],
   "source": [
    "# Class Distribution\n",
    "\n",
    "# Create Subplots\n",
    "data_split = [\"Train\", \"Public Test\", \"Private Test\"]\n",
    "fig = make_subplots(\n",
    "    rows=3, cols=1,\n",
    "    subplot_titles=data_split\n",
    ")\n",
    "\n",
    "all_len = [len_train, len_public_test, len_private_test]\n",
    "all_total = [total_train, total_public_test, total_private_test]\n",
    "\n",
    "for i in range(3):\n",
    "    # Bar Chart\n",
    "    fig.add_trace(\n",
    "        go.Bar(\n",
    "            x=list(all_len[i].keys()),\n",
    "            y=list(all_len[i].values()),\n",
    "            name=data_split[i],\n",
    "            marker_color=[\"#935d39\", \"#926f48\", \"#90825c\", \"#8e9590\", \"#8ba0a5\", \"#88acb9\", \"#85b8cd\"],\n",
    "        ), row=i+1, col=1\n",
    "    )\n",
    "\n",
    "    # Update Axes\n",
    "    fig.update_xaxes(ticks=\"outside\", linecolor=\"Black\", row=i+1, col=1)\n",
    "    fig.update_yaxes(ticks=\"outside\", linecolor=\"Black\", row=i+1, col=1)\n",
    "\n",
    "# Update Layout\n",
    "fig.update_layout(\n",
    "    title=\"Class Distribution\", title_x=0.5, font_size=14, font_family=\"Cambria\",\n",
    "    width=650, height=900,\n",
    "    plot_bgcolor=\"White\",\n",
    "    showlegend=False\n",
    ")\n",
    "\n",
    "# Show\n",
    "# fig.show(renderer=\"iframe_connected\")"
   ]
  },
  {
   "cell_type": "code",
   "execution_count": 18,
   "metadata": {},
   "outputs": [],
   "source": [
    "# Data Augmentation\n",
    "def data_augmentation():\n",
    "    # Training Dataset\n",
    "    TRAINING_DIR = \"Data_E/train\"\n",
    "    train_datagen = ImageDataGenerator(\n",
    "        rescale=1/255.,\n",
    "        rotation_range=20,\n",
    "        width_shift_range=0.2,\n",
    "        height_shift_range=0.2,\n",
    "        shear_range=0.2,\n",
    "        zoom_range=0.2,\n",
    "        horizontal_flip=True,\n",
    "        fill_mode='nearest',\n",
    "        validation_split=0.2\n",
    "    )\n",
    "    train_generator = train_datagen.flow_from_directory(\n",
    "        TRAINING_DIR,\n",
    "        target_size=(CFG.img_height, CFG.img_width),\n",
    "        batch_size=CFG.batch_size,\n",
    "        class_mode=\"categorical\",\n",
    "        shuffle=True,\n",
    "        subset=\"training\"\n",
    "    )\n",
    "\n",
    "    # Validation Dataset\n",
    "    validation_generator = train_datagen.flow_from_directory(\n",
    "        TRAINING_DIR,\n",
    "        target_size=(CFG.img_height, CFG.img_width),\n",
    "        batch_size=CFG.batch_size,\n",
    "        class_mode=\"categorical\",\n",
    "        shuffle=False,\n",
    "        subset=\"validation\"\n",
    "    )\n",
    "\n",
    "    # Public Testing Dataset\n",
    "    PUBLIC_TESTING_DIR = \"public_test\"\n",
    "    public_test_datagen = ImageDataGenerator(rescale=1./255.)\n",
    "    public_test_generator = public_test_datagen.flow_from_directory(\n",
    "        PUBLIC_TESTING_DIR,\n",
    "        target_size=(CFG.img_height, CFG.img_width),\n",
    "        batch_size=1,\n",
    "        class_mode=\"categorical\",\n",
    "        shuffle=False\n",
    "    )\n",
    "    \n",
    "    # Private Testing Dataset\n",
    "    PRIVATE_TESTING_DIR = \"private_test\"\n",
    "    private_test_datagen = ImageDataGenerator(rescale=1./255.)\n",
    "    private_test_generator = private_test_datagen.flow_from_directory(\n",
    "        PRIVATE_TESTING_DIR,\n",
    "        target_size=(CFG.img_height, CFG.img_width),\n",
    "        batch_size=1,\n",
    "        class_mode=\"categorical\",\n",
    "        shuffle=False\n",
    "    )\n",
    "    \n",
    "    return train_generator, validation_generator, public_test_generator, private_test_generator"
   ]
  },
  {
   "cell_type": "code",
   "execution_count": 19,
   "metadata": {},
   "outputs": [
    {
     "ename": "FileNotFoundError",
     "evalue": "[Errno 2] No such file or directory: 'Data_E/train'",
     "output_type": "error",
     "traceback": [
      "\u001b[0;31m---------------------------------------------------------------------------\u001b[0m",
      "\u001b[0;31mFileNotFoundError\u001b[0m                         Traceback (most recent call last)",
      "Cell \u001b[0;32mIn[19], line 3\u001b[0m\n\u001b[1;32m      1\u001b[0m \u001b[39m# Create data augmentation\u001b[39;00m\n\u001b[1;32m      2\u001b[0m seed_everything(\u001b[39m2023\u001b[39m)\n\u001b[0;32m----> 3\u001b[0m train_generator, validation_generator, public_test_generator, private_test_generator \u001b[39m=\u001b[39m data_augmentation()\n\u001b[1;32m      5\u001b[0m \u001b[39m# Load the MobileNet model without the top layer\u001b[39;00m\n\u001b[1;32m      6\u001b[0m base_model \u001b[39m=\u001b[39m MobileNet(\n\u001b[1;32m      7\u001b[0m     input_shape\u001b[39m=\u001b[39m(CFG\u001b[39m.\u001b[39mimg_height, CFG\u001b[39m.\u001b[39mimg_width, \u001b[39m3\u001b[39m),\n\u001b[1;32m      8\u001b[0m     include_top\u001b[39m=\u001b[39m\u001b[39mFalse\u001b[39;00m,\n\u001b[1;32m      9\u001b[0m     weights\u001b[39m=\u001b[39m\u001b[39m'\u001b[39m\u001b[39mimagenet\u001b[39m\u001b[39m'\u001b[39m\n\u001b[1;32m     10\u001b[0m )\n",
      "Cell \u001b[0;32mIn[18], line 16\u001b[0m, in \u001b[0;36mdata_augmentation\u001b[0;34m()\u001b[0m\n\u001b[1;32m      4\u001b[0m TRAINING_DIR \u001b[39m=\u001b[39m \u001b[39m\"\u001b[39m\u001b[39mData_E/train\u001b[39m\u001b[39m\"\u001b[39m\n\u001b[1;32m      5\u001b[0m train_datagen \u001b[39m=\u001b[39m ImageDataGenerator(\n\u001b[1;32m      6\u001b[0m     rescale\u001b[39m=\u001b[39m\u001b[39m1\u001b[39m\u001b[39m/\u001b[39m\u001b[39m255.\u001b[39m,\n\u001b[1;32m      7\u001b[0m     rotation_range\u001b[39m=\u001b[39m\u001b[39m20\u001b[39m,\n\u001b[0;32m   (...)\u001b[0m\n\u001b[1;32m     14\u001b[0m     validation_split\u001b[39m=\u001b[39m\u001b[39m0.2\u001b[39m\n\u001b[1;32m     15\u001b[0m )\n\u001b[0;32m---> 16\u001b[0m train_generator \u001b[39m=\u001b[39m train_datagen\u001b[39m.\u001b[39;49mflow_from_directory(\n\u001b[1;32m     17\u001b[0m     TRAINING_DIR,\n\u001b[1;32m     18\u001b[0m     target_size\u001b[39m=\u001b[39;49m(CFG\u001b[39m.\u001b[39;49mimg_height, CFG\u001b[39m.\u001b[39;49mimg_width),\n\u001b[1;32m     19\u001b[0m     batch_size\u001b[39m=\u001b[39;49mCFG\u001b[39m.\u001b[39;49mbatch_size,\n\u001b[1;32m     20\u001b[0m     class_mode\u001b[39m=\u001b[39;49m\u001b[39m\"\u001b[39;49m\u001b[39mcategorical\u001b[39;49m\u001b[39m\"\u001b[39;49m,\n\u001b[1;32m     21\u001b[0m     shuffle\u001b[39m=\u001b[39;49m\u001b[39mTrue\u001b[39;49;00m,\n\u001b[1;32m     22\u001b[0m     subset\u001b[39m=\u001b[39;49m\u001b[39m\"\u001b[39;49m\u001b[39mtraining\u001b[39;49m\u001b[39m\"\u001b[39;49m\n\u001b[1;32m     23\u001b[0m )\n\u001b[1;32m     25\u001b[0m \u001b[39m# Validation Dataset\u001b[39;00m\n\u001b[1;32m     26\u001b[0m validation_generator \u001b[39m=\u001b[39m train_datagen\u001b[39m.\u001b[39mflow_from_directory(\n\u001b[1;32m     27\u001b[0m     TRAINING_DIR,\n\u001b[1;32m     28\u001b[0m     target_size\u001b[39m=\u001b[39m(CFG\u001b[39m.\u001b[39mimg_height, CFG\u001b[39m.\u001b[39mimg_width),\n\u001b[0;32m   (...)\u001b[0m\n\u001b[1;32m     32\u001b[0m     subset\u001b[39m=\u001b[39m\u001b[39m\"\u001b[39m\u001b[39mvalidation\u001b[39m\u001b[39m\"\u001b[39m\n\u001b[1;32m     33\u001b[0m )\n",
      "File \u001b[0;32m/usr/local/lib/python3.11/site-packages/keras/preprocessing/image.py:1648\u001b[0m, in \u001b[0;36mImageDataGenerator.flow_from_directory\u001b[0;34m(self, directory, target_size, color_mode, classes, class_mode, batch_size, shuffle, seed, save_to_dir, save_prefix, save_format, follow_links, subset, interpolation, keep_aspect_ratio)\u001b[0m\n\u001b[1;32m   1562\u001b[0m \u001b[39mdef\u001b[39;00m \u001b[39mflow_from_directory\u001b[39m(\n\u001b[1;32m   1563\u001b[0m     \u001b[39mself\u001b[39m,\n\u001b[1;32m   1564\u001b[0m     directory,\n\u001b[0;32m   (...)\u001b[0m\n\u001b[1;32m   1578\u001b[0m     keep_aspect_ratio\u001b[39m=\u001b[39m\u001b[39mFalse\u001b[39;00m,\n\u001b[1;32m   1579\u001b[0m ):\n\u001b[1;32m   1580\u001b[0m \u001b[39m    \u001b[39m\u001b[39m\"\"\"Takes the path to a directory & generates batches of augmented data.\u001b[39;00m\n\u001b[1;32m   1581\u001b[0m \n\u001b[1;32m   1582\u001b[0m \u001b[39m    Args:\u001b[39;00m\n\u001b[0;32m   (...)\u001b[0m\n\u001b[1;32m   1646\u001b[0m \u001b[39m            and `y` is a numpy array of corresponding labels.\u001b[39;00m\n\u001b[1;32m   1647\u001b[0m \u001b[39m    \"\"\"\u001b[39;00m\n\u001b[0;32m-> 1648\u001b[0m     \u001b[39mreturn\u001b[39;00m DirectoryIterator(\n\u001b[1;32m   1649\u001b[0m         directory,\n\u001b[1;32m   1650\u001b[0m         \u001b[39mself\u001b[39;49m,\n\u001b[1;32m   1651\u001b[0m         target_size\u001b[39m=\u001b[39;49mtarget_size,\n\u001b[1;32m   1652\u001b[0m         color_mode\u001b[39m=\u001b[39;49mcolor_mode,\n\u001b[1;32m   1653\u001b[0m         keep_aspect_ratio\u001b[39m=\u001b[39;49mkeep_aspect_ratio,\n\u001b[1;32m   1654\u001b[0m         classes\u001b[39m=\u001b[39;49mclasses,\n\u001b[1;32m   1655\u001b[0m         class_mode\u001b[39m=\u001b[39;49mclass_mode,\n\u001b[1;32m   1656\u001b[0m         data_format\u001b[39m=\u001b[39;49m\u001b[39mself\u001b[39;49m\u001b[39m.\u001b[39;49mdata_format,\n\u001b[1;32m   1657\u001b[0m         batch_size\u001b[39m=\u001b[39;49mbatch_size,\n\u001b[1;32m   1658\u001b[0m         shuffle\u001b[39m=\u001b[39;49mshuffle,\n\u001b[1;32m   1659\u001b[0m         seed\u001b[39m=\u001b[39;49mseed,\n\u001b[1;32m   1660\u001b[0m         save_to_dir\u001b[39m=\u001b[39;49msave_to_dir,\n\u001b[1;32m   1661\u001b[0m         save_prefix\u001b[39m=\u001b[39;49msave_prefix,\n\u001b[1;32m   1662\u001b[0m         save_format\u001b[39m=\u001b[39;49msave_format,\n\u001b[1;32m   1663\u001b[0m         follow_links\u001b[39m=\u001b[39;49mfollow_links,\n\u001b[1;32m   1664\u001b[0m         subset\u001b[39m=\u001b[39;49msubset,\n\u001b[1;32m   1665\u001b[0m         interpolation\u001b[39m=\u001b[39;49minterpolation,\n\u001b[1;32m   1666\u001b[0m         dtype\u001b[39m=\u001b[39;49m\u001b[39mself\u001b[39;49m\u001b[39m.\u001b[39;49mdtype,\n\u001b[1;32m   1667\u001b[0m     )\n",
      "File \u001b[0;32m/usr/local/lib/python3.11/site-packages/keras/preprocessing/image.py:563\u001b[0m, in \u001b[0;36mDirectoryIterator.__init__\u001b[0;34m(self, directory, image_data_generator, target_size, color_mode, classes, class_mode, batch_size, shuffle, seed, data_format, save_to_dir, save_prefix, save_format, follow_links, subset, interpolation, keep_aspect_ratio, dtype)\u001b[0m\n\u001b[1;32m    561\u001b[0m \u001b[39mif\u001b[39;00m \u001b[39mnot\u001b[39;00m classes:\n\u001b[1;32m    562\u001b[0m     classes \u001b[39m=\u001b[39m []\n\u001b[0;32m--> 563\u001b[0m     \u001b[39mfor\u001b[39;00m subdir \u001b[39min\u001b[39;00m \u001b[39msorted\u001b[39m(os\u001b[39m.\u001b[39;49mlistdir(directory)):\n\u001b[1;32m    564\u001b[0m         \u001b[39mif\u001b[39;00m os\u001b[39m.\u001b[39mpath\u001b[39m.\u001b[39misdir(os\u001b[39m.\u001b[39mpath\u001b[39m.\u001b[39mjoin(directory, subdir)):\n\u001b[1;32m    565\u001b[0m             classes\u001b[39m.\u001b[39mappend(subdir)\n",
      "\u001b[0;31mFileNotFoundError\u001b[0m: [Errno 2] No such file or directory: 'Data_E/train'"
     ]
    }
   ],
   "source": [
    "# Create data augmentation\n",
    "seed_everything(2023)\n",
    "train_generator, validation_generator, public_test_generator, private_test_generator = data_augmentation()\n",
    "\n",
    "# Load the MobileNet model without the top layer\n",
    "base_model = MobileNet(\n",
    "    input_shape=(CFG.img_height, CFG.img_width, 3),\n",
    "    include_top=False,\n",
    "    weights='imagenet'\n",
    ")\n",
    "\n",
    "# Add a GlobalAveragePooling2D layer and a Dense layer with softmax activation for classification\n",
    "x = base_model.output\n",
    "x = GlobalAveragePooling2D()(x)\n",
    "x = Dropout(0.5)(x)\n",
    "predictions = Dense(train_generator.num_classes, activation='softmax')(x)\n",
    "\n",
    "# Combine the base model with the new layers to create the full model\n",
    "model = Model(inputs=base_model.input, outputs=predictions)\n",
    "\n",
    "# Freeze the weights of the base model to prevent them from being updated during training\n",
    "for layer in base_model.layers:\n",
    "    layer.trainable = False\n",
    "\n",
    "# Compile the model with categorical cross-entropy loss and Adam optimizer\n",
    "model.compile(loss='categorical_crossentropy', optimizer=Adam(lr=0.0001, decay=1e-5), metrics=['accuracy'])\n",
    "model.summary()"
   ]
  },
  {
   "cell_type": "code",
   "execution_count": 15,
   "metadata": {},
   "outputs": [],
   "source": [
    "# Create Callback\n",
    "model_checkpoint = ModelCheckpoint(\n",
    "    \"MobileNetV1.h5\", \n",
    "    monitor=\"val_loss\", \n",
    "    mode=\"min\", \n",
    "    verbose=1,\n",
    "    save_best_only=True\n",
    ")\n",
    "\n",
    "callbacks = [model_checkpoint]"
   ]
  },
  {
   "cell_type": "markdown",
   "metadata": {},
   "source": [
    "#### Training and testing the data using MobileNet"
   ]
  },
  {
   "cell_type": "code",
   "execution_count": 16,
   "metadata": {},
   "outputs": [
    {
     "ename": "NameError",
     "evalue": "name 'model' is not defined",
     "output_type": "error",
     "traceback": [
      "\u001b[0;31m---------------------------------------------------------------------------\u001b[0m",
      "\u001b[0;31mNameError\u001b[0m                                 Traceback (most recent call last)",
      "Cell \u001b[0;32mIn[16], line 2\u001b[0m\n\u001b[1;32m      1\u001b[0m \u001b[39m# Train the model on the training data\u001b[39;00m\n\u001b[0;32m----> 2\u001b[0m history \u001b[39m=\u001b[39m model\u001b[39m.\u001b[39mfit(\n\u001b[1;32m      3\u001b[0m     train_generator,\n\u001b[1;32m      4\u001b[0m     steps_per_epoch\u001b[39m=\u001b[39mtrain_generator\u001b[39m.\u001b[39msamples \u001b[39m/\u001b[39m\u001b[39m/\u001b[39m CFG\u001b[39m.\u001b[39mbatch_size,\n\u001b[1;32m      5\u001b[0m     epochs\u001b[39m=\u001b[39mCFG\u001b[39m.\u001b[39mepoch,\n\u001b[1;32m      6\u001b[0m     validation_data\u001b[39m=\u001b[39mvalidation_generator,\n\u001b[1;32m      7\u001b[0m     validation_steps\u001b[39m=\u001b[39mvalidation_generator\u001b[39m.\u001b[39msamples \u001b[39m/\u001b[39m\u001b[39m/\u001b[39m CFG\u001b[39m.\u001b[39mbatch_size,\n\u001b[1;32m      8\u001b[0m     callbacks\u001b[39m=\u001b[39mcallbacks,\n\u001b[1;32m      9\u001b[0m )\n",
      "\u001b[0;31mNameError\u001b[0m: name 'model' is not defined"
     ]
    }
   ],
   "source": [
    "# Train the model on the training data\n",
    "history = model.fit(\n",
    "    train_generator,\n",
    "    steps_per_epoch=train_generator.samples // CFG.batch_size,\n",
    "    epochs=CFG.epoch,\n",
    "    validation_data=validation_generator,\n",
    "    validation_steps=validation_generator.samples // CFG.batch_size,\n",
    "    callbacks=callbacks,\n",
    ")"
   ]
  },
  {
   "cell_type": "markdown",
   "metadata": {},
   "source": [
    "#### MobileNet Results"
   ]
  },
  {
   "cell_type": "code",
   "execution_count": null,
   "metadata": {},
   "outputs": [
    {
     "name": "stdout",
     "output_type": "stream",
     "text": [
      "3589/3589 [==============================] - 50s 14ms/step - loss: 2.3552 - accuracy: 0.1432\n",
      "Evaluate Public Test Accuracy: 14.32%\n",
      "3589/3589 [==============================] - 51s 14ms/step - loss: 2.3275 - accuracy: 0.1480\n",
      "Evaluate Private Test Accuracy: 14.80%\n"
     ]
    }
   ],
   "source": [
    "# Evaluate on Public Test Data\n",
    "public_scores = model.evaluate(public_test_generator)\n",
    "print(\"%s: %.2f%%\" % (\"Evaluate Public Test Accuracy\", public_scores[1]*100))\n",
    "\n",
    "# Evaluate on Private Test Data\n",
    "private_scores = model.evaluate(private_test_generator)\n",
    "print(\"%s: %.2f%%\" % (\"Evaluate Private Test Accuracy\", private_scores[1]*100))"
   ]
  },
  {
   "cell_type": "code",
   "execution_count": null,
   "metadata": {},
   "outputs": [],
   "source": [
    "# Visualize Training and Validation Results\n",
    "\n",
    "# Create Subplot\n",
    "fig = make_subplots(\n",
    "        rows=1, cols=2,\n",
    "        subplot_titles=[\"Model Loss\", \"Model Accuracy\"], \n",
    ")\n",
    "\n",
    "# Loss Plot\n",
    "loss = history.history['loss']\n",
    "val_loss = history.history['val_loss']\n",
    "fig.add_trace(\n",
    "    go.Scatter(\n",
    "        x=np.arange(1, len(loss)+1), y=loss,\n",
    "        mode=\"markers+lines\",\n",
    "        marker=dict(\n",
    "            color=\"#935d39\", size=6,\n",
    "            line=dict(color=\"White\", width=0.5)\n",
    "        ),\n",
    "        line=dict(color=\"#935d39\", width=1.5),\n",
    "        name=\"Training Loss\"\n",
    "    ), row=1, col=1\n",
    ")\n",
    "fig.add_trace(\n",
    "    go.Scatter(\n",
    "        x=np.arange(1, len(val_loss)+1), y=val_loss,\n",
    "        mode=\"markers+lines\",\n",
    "        marker=dict(\n",
    "            color=\"#85b8cd\", size=6,\n",
    "            line=dict(color=\"White\", width=0.5)\n",
    "        ),\n",
    "        line=dict(color=\"#85b8cd\", width=1.5),\n",
    "        name=\"Validation Loss\"\n",
    "    ), row=1, col=1\n",
    ")\n",
    "\n",
    "# Accuracy Plot\n",
    "acc = history.history['accuracy']\n",
    "val_acc = history.history['val_accuracy']\n",
    "fig.add_trace(\n",
    "    go.Scatter(\n",
    "        x=np.arange(1, len(acc)+1), y=acc,\n",
    "        mode=\"markers+lines\",\n",
    "        marker=dict(\n",
    "            color=\"#935d39\", size=6,\n",
    "            line=dict(color=\"White\", width=0.5)\n",
    "        ),\n",
    "        line=dict(color=\"#935d39\", width=1.5),\n",
    "        name=\"Training Accuracy\"\n",
    "    ), row=1, col=2\n",
    ")\n",
    "fig.add_trace(\n",
    "    go.Scatter(\n",
    "        x=np.arange(1, len(val_acc)+1), y=val_acc,\n",
    "        mode=\"markers+lines\",\n",
    "        marker=dict(\n",
    "            color=\"#85b8cd\", size=6,\n",
    "            line=dict(color=\"White\", width=0.5)\n",
    "        ),\n",
    "        line=dict(color=\"#85b8cd\", width=1.5),\n",
    "        name=\"Validation Accuracy\"\n",
    "    ), row=1, col=2\n",
    ")\n",
    "\n",
    "# Update Axes\n",
    "fig.update_xaxes(title=\"Epochs\", linecolor=\"Black\", ticks=\"outside\", row=1, col=1)\n",
    "fig.update_xaxes(title=\"Epochs\", linecolor=\"Black\", ticks=\"outside\", row=1, col=2)\n",
    "fig.update_yaxes(title=\"Categorical Loss\", linecolor=\"Black\", ticks=\"outside\", row=1, col=1)\n",
    "fig.update_yaxes(title=\"Accuracy\", linecolor=\"Black\", ticks=\"outside\", row=1, col=2)\n",
    "\n",
    "# Update Layout\n",
    "fig.update_layout(\n",
    "    title=\"Training and Validation Results\", title_x=0.5, font_family=\"Cambria\",\n",
    "    width=950, height=400,\n",
    "    showlegend=False,\n",
    "    plot_bgcolor=\"White\",\n",
    "    paper_bgcolor=\"White\"\n",
    ")\n",
    "\n",
    "# Show\n",
    "fig.show(iframe_connected=True)"
   ]
  },
  {
   "cell_type": "code",
   "execution_count": null,
   "metadata": {},
   "outputs": [],
   "source": [
    "# Confusion Matrix\n",
    "predictions = model.predict(public_test_generator)\n",
    "\n",
    "# Get the true labels from the generator\n",
    "true_labels = public_test_generator.classes\n",
    "\n",
    "# Compute the confusion matrix using tf.math.confusion_matrix\n",
    "confusion_matrix = tf.math.confusion_matrix(\n",
    "        labels=true_labels,\n",
    "        predictions=predictions.argmax(axis=1),\n",
    "        num_classes=7)\n",
    "\n",
    "# Print the confusion matrix\n",
    "print(confusion_matrix)"
   ]
  }
 ],
 "metadata": {
  "kernelspec": {
   "display_name": "Python 3",
   "language": "python",
   "name": "python3"
  },
  "language_info": {
   "codemirror_mode": {
    "name": "ipython",
    "version": 3
   },
   "file_extension": ".py",
   "mimetype": "text/x-python",
   "name": "python",
   "nbconvert_exporter": "python",
   "pygments_lexer": "ipython3",
   "version": "3.11.2"
  },
  "orig_nbformat": 4
 },
 "nbformat": 4,
 "nbformat_minor": 2
}
