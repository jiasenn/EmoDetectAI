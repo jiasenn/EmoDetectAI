{
 "cells": [
  {
   "cell_type": "markdown",
   "metadata": {},
   "source": [
    "### MobileNet Model Training Emotion Detection"
   ]
  },
  {
   "cell_type": "code",
   "execution_count": 13,
   "metadata": {},
   "outputs": [],
   "source": [
    "import os\n",
    "import shutil\n",
    "import random\n",
    "import numpy as np\n",
    "import pandas as pd\n",
    "\n",
    "import matplotlib.pyplot as plt\n",
    "import plotly\n",
    "import plotly.graph_objects as go\n",
    "import plotly.express as px\n",
    "from plotly.subplots import make_subplots\n",
    "\n",
    "import tensorflow as tf\n",
    "from keras.utils import load_img\n",
    "from keras.preprocessing.image import ImageDataGenerator\n",
    "\n",
    "from keras.applications.mobilenet import MobileNet, preprocess_input\n",
    "from keras.layers import Dense, Dropout, GlobalAveragePooling2D\n",
    "from keras.models import Model\n",
    "from keras.optimizers import Adam\n",
    "from keras.callbacks import ModelCheckpoint\n",
    "import nbformat\n",
    "\n",
    "import warnings\n",
    "warnings.filterwarnings(\"ignore\")"
   ]
  },
  {
   "cell_type": "code",
   "execution_count": 14,
   "metadata": {},
   "outputs": [],
   "source": [
    "class CFG:\n",
    "    batch_size = 64\n",
    "    img_height = 48\n",
    "    img_width = 48\n",
    "    epoch = 25"
   ]
  },
  {
   "cell_type": "code",
   "execution_count": 15,
   "metadata": {},
   "outputs": [],
   "source": [
    "def seed_everything(seed: int):\n",
    "    random.seed(seed)\n",
    "    os.environ[\"PYTHONHASHSEED\"] = str(seed)\n",
    "    np.random.seed(seed)\n",
    "    tf.random.set_seed(seed)"
   ]
  },
  {
   "cell_type": "code",
   "execution_count": 16,
   "metadata": {},
   "outputs": [
    {
     "name": "stdout",
     "output_type": "stream",
     "text": [
      "Train:  {'angry': 3995, 'disgust': 436, 'fear': 4097, 'happy': 7215, 'neutral': 4965, 'sad': 4830, 'surprise': 3171}\n",
      "Public Test:  {'angry': 467, 'disgust': 56, 'fear': 496, 'happy': 895, 'neutral': 607, 'sad': 653, 'surprise': 415}\n",
      "Private Test:  {'angry': 491, 'disgust': 55, 'fear': 528, 'happy': 879, 'neutral': 626, 'sad': 594, 'surprise': 416}\n",
      "Total Train:  28709\n",
      "Total Public Test:  3589\n",
      "Total Private Test:  3589\n"
     ]
    }
   ],
   "source": [
    "# Get Number of Images for each Emotion and Splitting\n",
    "\n",
    "train_path = \"Data_E/train\"\n",
    "test_path = \"Data_E/test\"\n",
    "emotions = os.listdir(train_path)\n",
    "\n",
    "len_train = {}\n",
    "len_public_test = {}\n",
    "len_private_test = {}\n",
    "\n",
    "for emotion in emotions:\n",
    "    file_train = os.listdir(os.path.join(train_path, emotion))\n",
    "    len_train[emotion] = len(file_train)\n",
    "    \n",
    "    file_test = os.listdir(os.path.join(test_path, emotion))\n",
    "    file_public_test = [f for f in file_test if \"Public\" in f]\n",
    "    file_private_test = [f for f in file_test if \"Private\" in f]\n",
    "    len_public_test[emotion] = len(file_public_test)\n",
    "    len_private_test[emotion] = len(file_private_test)\n",
    "\n",
    "print(\"Train: \", len_train)\n",
    "print(\"Public Test: \", len_public_test)\n",
    "print(\"Private Test: \", len_private_test)\n",
    "\n",
    "total_train = sum(len_train.values())\n",
    "total_public_test = sum(len_public_test.values())\n",
    "total_private_test = sum(len_private_test.values())\n",
    "\n",
    "print(\"Total Train: \", total_train)\n",
    "print(\"Total Public Test: \", total_public_test)\n",
    "print(\"Total Private Test: \", total_private_test)"
   ]
  },
  {
   "cell_type": "code",
   "execution_count": 17,
   "metadata": {},
   "outputs": [
    {
     "data": {
      "application/vnd.plotly.v1+json": {
       "config": {
        "plotlyServerURL": "https://plot.ly"
       },
       "data": [
        {
         "marker": {
          "color": [
           "#935d39",
           "#926f48",
           "#90825c",
           "#8e9590",
           "#8ba0a5",
           "#88acb9",
           "#85b8cd"
          ]
         },
         "name": "Train",
         "type": "bar",
         "x": [
          "angry",
          "disgust",
          "fear",
          "happy",
          "neutral",
          "sad",
          "surprise"
         ],
         "xaxis": "x",
         "y": [
          3995,
          436,
          4097,
          7215,
          4965,
          4830,
          3171
         ],
         "yaxis": "y"
        },
        {
         "marker": {
          "color": [
           "#935d39",
           "#926f48",
           "#90825c",
           "#8e9590",
           "#8ba0a5",
           "#88acb9",
           "#85b8cd"
          ]
         },
         "name": "Public Test",
         "type": "bar",
         "x": [
          "angry",
          "disgust",
          "fear",
          "happy",
          "neutral",
          "sad",
          "surprise"
         ],
         "xaxis": "x2",
         "y": [
          467,
          56,
          496,
          895,
          607,
          653,
          415
         ],
         "yaxis": "y2"
        },
        {
         "marker": {
          "color": [
           "#935d39",
           "#926f48",
           "#90825c",
           "#8e9590",
           "#8ba0a5",
           "#88acb9",
           "#85b8cd"
          ]
         },
         "name": "Private Test",
         "type": "bar",
         "x": [
          "angry",
          "disgust",
          "fear",
          "happy",
          "neutral",
          "sad",
          "surprise"
         ],
         "xaxis": "x3",
         "y": [
          491,
          55,
          528,
          879,
          626,
          594,
          416
         ],
         "yaxis": "y3"
        }
       ],
       "layout": {
        "annotations": [
         {
          "font": {
           "size": 16
          },
          "showarrow": false,
          "text": "Train",
          "x": 0.5,
          "xanchor": "center",
          "xref": "paper",
          "y": 1,
          "yanchor": "bottom",
          "yref": "paper"
         },
         {
          "font": {
           "size": 16
          },
          "showarrow": false,
          "text": "Public Test",
          "x": 0.5,
          "xanchor": "center",
          "xref": "paper",
          "y": 0.6111111111111112,
          "yanchor": "bottom",
          "yref": "paper"
         },
         {
          "font": {
           "size": 16
          },
          "showarrow": false,
          "text": "Private Test",
          "x": 0.5,
          "xanchor": "center",
          "xref": "paper",
          "y": 0.22222222222222224,
          "yanchor": "bottom",
          "yref": "paper"
         }
        ],
        "font": {
         "family": "Cambria",
         "size": 14
        },
        "height": 900,
        "plot_bgcolor": "White",
        "showlegend": false,
        "template": {
         "data": {
          "bar": [
           {
            "error_x": {
             "color": "#2a3f5f"
            },
            "error_y": {
             "color": "#2a3f5f"
            },
            "marker": {
             "line": {
              "color": "#E5ECF6",
              "width": 0.5
             },
             "pattern": {
              "fillmode": "overlay",
              "size": 10,
              "solidity": 0.2
             }
            },
            "type": "bar"
           }
          ],
          "barpolar": [
           {
            "marker": {
             "line": {
              "color": "#E5ECF6",
              "width": 0.5
             },
             "pattern": {
              "fillmode": "overlay",
              "size": 10,
              "solidity": 0.2
             }
            },
            "type": "barpolar"
           }
          ],
          "carpet": [
           {
            "aaxis": {
             "endlinecolor": "#2a3f5f",
             "gridcolor": "white",
             "linecolor": "white",
             "minorgridcolor": "white",
             "startlinecolor": "#2a3f5f"
            },
            "baxis": {
             "endlinecolor": "#2a3f5f",
             "gridcolor": "white",
             "linecolor": "white",
             "minorgridcolor": "white",
             "startlinecolor": "#2a3f5f"
            },
            "type": "carpet"
           }
          ],
          "choropleth": [
           {
            "colorbar": {
             "outlinewidth": 0,
             "ticks": ""
            },
            "type": "choropleth"
           }
          ],
          "contour": [
           {
            "colorbar": {
             "outlinewidth": 0,
             "ticks": ""
            },
            "colorscale": [
             [
              0,
              "#0d0887"
             ],
             [
              0.1111111111111111,
              "#46039f"
             ],
             [
              0.2222222222222222,
              "#7201a8"
             ],
             [
              0.3333333333333333,
              "#9c179e"
             ],
             [
              0.4444444444444444,
              "#bd3786"
             ],
             [
              0.5555555555555556,
              "#d8576b"
             ],
             [
              0.6666666666666666,
              "#ed7953"
             ],
             [
              0.7777777777777778,
              "#fb9f3a"
             ],
             [
              0.8888888888888888,
              "#fdca26"
             ],
             [
              1,
              "#f0f921"
             ]
            ],
            "type": "contour"
           }
          ],
          "contourcarpet": [
           {
            "colorbar": {
             "outlinewidth": 0,
             "ticks": ""
            },
            "type": "contourcarpet"
           }
          ],
          "heatmap": [
           {
            "colorbar": {
             "outlinewidth": 0,
             "ticks": ""
            },
            "colorscale": [
             [
              0,
              "#0d0887"
             ],
             [
              0.1111111111111111,
              "#46039f"
             ],
             [
              0.2222222222222222,
              "#7201a8"
             ],
             [
              0.3333333333333333,
              "#9c179e"
             ],
             [
              0.4444444444444444,
              "#bd3786"
             ],
             [
              0.5555555555555556,
              "#d8576b"
             ],
             [
              0.6666666666666666,
              "#ed7953"
             ],
             [
              0.7777777777777778,
              "#fb9f3a"
             ],
             [
              0.8888888888888888,
              "#fdca26"
             ],
             [
              1,
              "#f0f921"
             ]
            ],
            "type": "heatmap"
           }
          ],
          "heatmapgl": [
           {
            "colorbar": {
             "outlinewidth": 0,
             "ticks": ""
            },
            "colorscale": [
             [
              0,
              "#0d0887"
             ],
             [
              0.1111111111111111,
              "#46039f"
             ],
             [
              0.2222222222222222,
              "#7201a8"
             ],
             [
              0.3333333333333333,
              "#9c179e"
             ],
             [
              0.4444444444444444,
              "#bd3786"
             ],
             [
              0.5555555555555556,
              "#d8576b"
             ],
             [
              0.6666666666666666,
              "#ed7953"
             ],
             [
              0.7777777777777778,
              "#fb9f3a"
             ],
             [
              0.8888888888888888,
              "#fdca26"
             ],
             [
              1,
              "#f0f921"
             ]
            ],
            "type": "heatmapgl"
           }
          ],
          "histogram": [
           {
            "marker": {
             "pattern": {
              "fillmode": "overlay",
              "size": 10,
              "solidity": 0.2
             }
            },
            "type": "histogram"
           }
          ],
          "histogram2d": [
           {
            "colorbar": {
             "outlinewidth": 0,
             "ticks": ""
            },
            "colorscale": [
             [
              0,
              "#0d0887"
             ],
             [
              0.1111111111111111,
              "#46039f"
             ],
             [
              0.2222222222222222,
              "#7201a8"
             ],
             [
              0.3333333333333333,
              "#9c179e"
             ],
             [
              0.4444444444444444,
              "#bd3786"
             ],
             [
              0.5555555555555556,
              "#d8576b"
             ],
             [
              0.6666666666666666,
              "#ed7953"
             ],
             [
              0.7777777777777778,
              "#fb9f3a"
             ],
             [
              0.8888888888888888,
              "#fdca26"
             ],
             [
              1,
              "#f0f921"
             ]
            ],
            "type": "histogram2d"
           }
          ],
          "histogram2dcontour": [
           {
            "colorbar": {
             "outlinewidth": 0,
             "ticks": ""
            },
            "colorscale": [
             [
              0,
              "#0d0887"
             ],
             [
              0.1111111111111111,
              "#46039f"
             ],
             [
              0.2222222222222222,
              "#7201a8"
             ],
             [
              0.3333333333333333,
              "#9c179e"
             ],
             [
              0.4444444444444444,
              "#bd3786"
             ],
             [
              0.5555555555555556,
              "#d8576b"
             ],
             [
              0.6666666666666666,
              "#ed7953"
             ],
             [
              0.7777777777777778,
              "#fb9f3a"
             ],
             [
              0.8888888888888888,
              "#fdca26"
             ],
             [
              1,
              "#f0f921"
             ]
            ],
            "type": "histogram2dcontour"
           }
          ],
          "mesh3d": [
           {
            "colorbar": {
             "outlinewidth": 0,
             "ticks": ""
            },
            "type": "mesh3d"
           }
          ],
          "parcoords": [
           {
            "line": {
             "colorbar": {
              "outlinewidth": 0,
              "ticks": ""
             }
            },
            "type": "parcoords"
           }
          ],
          "pie": [
           {
            "automargin": true,
            "type": "pie"
           }
          ],
          "scatter": [
           {
            "fillpattern": {
             "fillmode": "overlay",
             "size": 10,
             "solidity": 0.2
            },
            "type": "scatter"
           }
          ],
          "scatter3d": [
           {
            "line": {
             "colorbar": {
              "outlinewidth": 0,
              "ticks": ""
             }
            },
            "marker": {
             "colorbar": {
              "outlinewidth": 0,
              "ticks": ""
             }
            },
            "type": "scatter3d"
           }
          ],
          "scattercarpet": [
           {
            "marker": {
             "colorbar": {
              "outlinewidth": 0,
              "ticks": ""
             }
            },
            "type": "scattercarpet"
           }
          ],
          "scattergeo": [
           {
            "marker": {
             "colorbar": {
              "outlinewidth": 0,
              "ticks": ""
             }
            },
            "type": "scattergeo"
           }
          ],
          "scattergl": [
           {
            "marker": {
             "colorbar": {
              "outlinewidth": 0,
              "ticks": ""
             }
            },
            "type": "scattergl"
           }
          ],
          "scattermapbox": [
           {
            "marker": {
             "colorbar": {
              "outlinewidth": 0,
              "ticks": ""
             }
            },
            "type": "scattermapbox"
           }
          ],
          "scatterpolar": [
           {
            "marker": {
             "colorbar": {
              "outlinewidth": 0,
              "ticks": ""
             }
            },
            "type": "scatterpolar"
           }
          ],
          "scatterpolargl": [
           {
            "marker": {
             "colorbar": {
              "outlinewidth": 0,
              "ticks": ""
             }
            },
            "type": "scatterpolargl"
           }
          ],
          "scatterternary": [
           {
            "marker": {
             "colorbar": {
              "outlinewidth": 0,
              "ticks": ""
             }
            },
            "type": "scatterternary"
           }
          ],
          "surface": [
           {
            "colorbar": {
             "outlinewidth": 0,
             "ticks": ""
            },
            "colorscale": [
             [
              0,
              "#0d0887"
             ],
             [
              0.1111111111111111,
              "#46039f"
             ],
             [
              0.2222222222222222,
              "#7201a8"
             ],
             [
              0.3333333333333333,
              "#9c179e"
             ],
             [
              0.4444444444444444,
              "#bd3786"
             ],
             [
              0.5555555555555556,
              "#d8576b"
             ],
             [
              0.6666666666666666,
              "#ed7953"
             ],
             [
              0.7777777777777778,
              "#fb9f3a"
             ],
             [
              0.8888888888888888,
              "#fdca26"
             ],
             [
              1,
              "#f0f921"
             ]
            ],
            "type": "surface"
           }
          ],
          "table": [
           {
            "cells": {
             "fill": {
              "color": "#EBF0F8"
             },
             "line": {
              "color": "white"
             }
            },
            "header": {
             "fill": {
              "color": "#C8D4E3"
             },
             "line": {
              "color": "white"
             }
            },
            "type": "table"
           }
          ]
         },
         "layout": {
          "annotationdefaults": {
           "arrowcolor": "#2a3f5f",
           "arrowhead": 0,
           "arrowwidth": 1
          },
          "autotypenumbers": "strict",
          "coloraxis": {
           "colorbar": {
            "outlinewidth": 0,
            "ticks": ""
           }
          },
          "colorscale": {
           "diverging": [
            [
             0,
             "#8e0152"
            ],
            [
             0.1,
             "#c51b7d"
            ],
            [
             0.2,
             "#de77ae"
            ],
            [
             0.3,
             "#f1b6da"
            ],
            [
             0.4,
             "#fde0ef"
            ],
            [
             0.5,
             "#f7f7f7"
            ],
            [
             0.6,
             "#e6f5d0"
            ],
            [
             0.7,
             "#b8e186"
            ],
            [
             0.8,
             "#7fbc41"
            ],
            [
             0.9,
             "#4d9221"
            ],
            [
             1,
             "#276419"
            ]
           ],
           "sequential": [
            [
             0,
             "#0d0887"
            ],
            [
             0.1111111111111111,
             "#46039f"
            ],
            [
             0.2222222222222222,
             "#7201a8"
            ],
            [
             0.3333333333333333,
             "#9c179e"
            ],
            [
             0.4444444444444444,
             "#bd3786"
            ],
            [
             0.5555555555555556,
             "#d8576b"
            ],
            [
             0.6666666666666666,
             "#ed7953"
            ],
            [
             0.7777777777777778,
             "#fb9f3a"
            ],
            [
             0.8888888888888888,
             "#fdca26"
            ],
            [
             1,
             "#f0f921"
            ]
           ],
           "sequentialminus": [
            [
             0,
             "#0d0887"
            ],
            [
             0.1111111111111111,
             "#46039f"
            ],
            [
             0.2222222222222222,
             "#7201a8"
            ],
            [
             0.3333333333333333,
             "#9c179e"
            ],
            [
             0.4444444444444444,
             "#bd3786"
            ],
            [
             0.5555555555555556,
             "#d8576b"
            ],
            [
             0.6666666666666666,
             "#ed7953"
            ],
            [
             0.7777777777777778,
             "#fb9f3a"
            ],
            [
             0.8888888888888888,
             "#fdca26"
            ],
            [
             1,
             "#f0f921"
            ]
           ]
          },
          "colorway": [
           "#636efa",
           "#EF553B",
           "#00cc96",
           "#ab63fa",
           "#FFA15A",
           "#19d3f3",
           "#FF6692",
           "#B6E880",
           "#FF97FF",
           "#FECB52"
          ],
          "font": {
           "color": "#2a3f5f"
          },
          "geo": {
           "bgcolor": "white",
           "lakecolor": "white",
           "landcolor": "#E5ECF6",
           "showlakes": true,
           "showland": true,
           "subunitcolor": "white"
          },
          "hoverlabel": {
           "align": "left"
          },
          "hovermode": "closest",
          "mapbox": {
           "style": "light"
          },
          "paper_bgcolor": "white",
          "plot_bgcolor": "#E5ECF6",
          "polar": {
           "angularaxis": {
            "gridcolor": "white",
            "linecolor": "white",
            "ticks": ""
           },
           "bgcolor": "#E5ECF6",
           "radialaxis": {
            "gridcolor": "white",
            "linecolor": "white",
            "ticks": ""
           }
          },
          "scene": {
           "xaxis": {
            "backgroundcolor": "#E5ECF6",
            "gridcolor": "white",
            "gridwidth": 2,
            "linecolor": "white",
            "showbackground": true,
            "ticks": "",
            "zerolinecolor": "white"
           },
           "yaxis": {
            "backgroundcolor": "#E5ECF6",
            "gridcolor": "white",
            "gridwidth": 2,
            "linecolor": "white",
            "showbackground": true,
            "ticks": "",
            "zerolinecolor": "white"
           },
           "zaxis": {
            "backgroundcolor": "#E5ECF6",
            "gridcolor": "white",
            "gridwidth": 2,
            "linecolor": "white",
            "showbackground": true,
            "ticks": "",
            "zerolinecolor": "white"
           }
          },
          "shapedefaults": {
           "line": {
            "color": "#2a3f5f"
           }
          },
          "ternary": {
           "aaxis": {
            "gridcolor": "white",
            "linecolor": "white",
            "ticks": ""
           },
           "baxis": {
            "gridcolor": "white",
            "linecolor": "white",
            "ticks": ""
           },
           "bgcolor": "#E5ECF6",
           "caxis": {
            "gridcolor": "white",
            "linecolor": "white",
            "ticks": ""
           }
          },
          "title": {
           "x": 0.05
          },
          "xaxis": {
           "automargin": true,
           "gridcolor": "white",
           "linecolor": "white",
           "ticks": "",
           "title": {
            "standoff": 15
           },
           "zerolinecolor": "white",
           "zerolinewidth": 2
          },
          "yaxis": {
           "automargin": true,
           "gridcolor": "white",
           "linecolor": "white",
           "ticks": "",
           "title": {
            "standoff": 15
           },
           "zerolinecolor": "white",
           "zerolinewidth": 2
          }
         }
        },
        "title": {
         "text": "Class Distribution",
         "x": 0.5
        },
        "width": 650,
        "xaxis": {
         "anchor": "y",
         "domain": [
          0,
          1
         ],
         "linecolor": "Black",
         "ticks": "outside"
        },
        "xaxis2": {
         "anchor": "y2",
         "domain": [
          0,
          1
         ],
         "linecolor": "Black",
         "ticks": "outside"
        },
        "xaxis3": {
         "anchor": "y3",
         "domain": [
          0,
          1
         ],
         "linecolor": "Black",
         "ticks": "outside"
        },
        "yaxis": {
         "anchor": "x",
         "domain": [
          0.7777777777777778,
          1
         ],
         "linecolor": "Black",
         "ticks": "outside"
        },
        "yaxis2": {
         "anchor": "x2",
         "domain": [
          0.3888888888888889,
          0.6111111111111112
         ],
         "linecolor": "Black",
         "ticks": "outside"
        },
        "yaxis3": {
         "anchor": "x3",
         "domain": [
          0,
          0.22222222222222224
         ],
         "linecolor": "Black",
         "ticks": "outside"
        }
       }
      }
     },
     "metadata": {},
     "output_type": "display_data"
    }
   ],
   "source": [
    "# Class Distribution\n",
    "\n",
    "# Create Subplots\n",
    "data_split = [\"Train\", \"Public Test\", \"Private Test\"]\n",
    "fig = make_subplots(\n",
    "    rows=3, cols=1,\n",
    "    subplot_titles=data_split\n",
    ")\n",
    "\n",
    "all_len = [len_train, len_public_test, len_private_test]\n",
    "all_total = [total_train, total_public_test, total_private_test]\n",
    "\n",
    "for i in range(3):\n",
    "    # Bar Chart\n",
    "    fig.add_trace(\n",
    "        go.Bar(\n",
    "            x=list(all_len[i].keys()),\n",
    "            y=list(all_len[i].values()),\n",
    "            name=data_split[i],\n",
    "            marker_color=[\"#935d39\", \"#926f48\", \"#90825c\", \"#8e9590\", \"#8ba0a5\", \"#88acb9\", \"#85b8cd\"],\n",
    "        ), row=i+1, col=1\n",
    "    )\n",
    "\n",
    "    # Update Axes\n",
    "    fig.update_xaxes(ticks=\"outside\", linecolor=\"Black\", row=i+1, col=1)\n",
    "    fig.update_yaxes(ticks=\"outside\", linecolor=\"Black\", row=i+1, col=1)\n",
    "\n",
    "# Update Layout\n",
    "fig.update_layout(\n",
    "    title=\"Class Distribution\", title_x=0.5, font_size=14, font_family=\"Cambria\",\n",
    "    width=650, height=900,\n",
    "    plot_bgcolor=\"White\",\n",
    "    showlegend=False\n",
    ")\n",
    "\n",
    "# Show\n",
    "# fig.show(renderer=\"iframe_connected\")"
   ]
  },
  {
   "cell_type": "code",
   "execution_count": 20,
   "metadata": {},
   "outputs": [],
   "source": [
    "# Create a new subdirectory called PublicTest and move the public test images into it\n",
    "if(os.path.exists(\"public_test\")==False):\n",
    "    os.mkdir(\"public_test\")\n",
    "for emotion in emotions:\n",
    "    emotion_dir = \"public_test/\" + emotion\n",
    "    if(os.path.exists(emotion_dir)==False):\n",
    "        os.mkdir(emotion_dir)\n",
    "    \n",
    "    first_emotion_dir = os.path.join(test_path, emotion)\n",
    "    file_test = os.listdir(first_emotion_dir)\n",
    "    file_public_test = [f for f in file_test if \"Public\" in f]\n",
    "    \n",
    "    for i in range(len(file_public_test)):\n",
    "        old_path = os.path.join(first_emotion_dir, file_public_test[i])\n",
    "        new_path = os.path.join(emotion_dir, file_public_test[i])\n",
    "        shutil.copyfile(old_path, new_path)\n",
    "\n",
    "# Create a new subdirectory called PrivateTest and move the private test images into it\n",
    "if(os.path.exists(\"private_test\")==False):\n",
    "    os.mkdir(\"private_test\")\n",
    "for emotion in emotions:\n",
    "    emotion_dir = \"private_test/\" + emotion\n",
    "    if(os.path.exists(emotion_dir)==False):\n",
    "        os.mkdir(emotion_dir)\n",
    "        \n",
    "    first_emotion_dir = os.path.join(test_path, emotion)\n",
    "    file_test = os.listdir(first_emotion_dir)\n",
    "    file_private_test = [f for f in file_test if \"Private\" in f]\n",
    "    \n",
    "    for i in range(len(file_private_test)):\n",
    "        old_path = os.path.join(first_emotion_dir, file_private_test[i])\n",
    "        new_path = os.path.join(emotion_dir, file_private_test[i])\n",
    "        shutil.copyfile(old_path, new_path)"
   ]
  },
  {
   "cell_type": "code",
   "execution_count": 21,
   "metadata": {},
   "outputs": [],
   "source": [
    "# Data Augmentation\n",
    "def data_augmentation():\n",
    "    # Training Dataset\n",
    "    TRAINING_DIR = \"Data_E/train\"\n",
    "    train_datagen = ImageDataGenerator(\n",
    "        rescale=1/255.,\n",
    "        rotation_range=20,\n",
    "        width_shift_range=0.2,\n",
    "        height_shift_range=0.2,\n",
    "        shear_range=0.2,\n",
    "        zoom_range=0.2,\n",
    "        horizontal_flip=True,\n",
    "        fill_mode='nearest',\n",
    "        validation_split=0.2\n",
    "    )\n",
    "    train_generator = train_datagen.flow_from_directory(\n",
    "        TRAINING_DIR,\n",
    "        target_size=(CFG.img_height, CFG.img_width),\n",
    "        batch_size=CFG.batch_size,\n",
    "        class_mode=\"categorical\",\n",
    "        shuffle=True,\n",
    "        subset=\"training\"\n",
    "    )\n",
    "\n",
    "    # Validation Dataset\n",
    "    validation_generator = train_datagen.flow_from_directory(\n",
    "        TRAINING_DIR,\n",
    "        target_size=(CFG.img_height, CFG.img_width),\n",
    "        batch_size=CFG.batch_size,\n",
    "        class_mode=\"categorical\",\n",
    "        shuffle=False,\n",
    "        subset=\"validation\"\n",
    "    )\n",
    "\n",
    "    # Public Testing Dataset\n",
    "    PUBLIC_TESTING_DIR = \"public_test\"\n",
    "    public_test_datagen = ImageDataGenerator(rescale=1./255.)\n",
    "    public_test_generator = public_test_datagen.flow_from_directory(\n",
    "        PUBLIC_TESTING_DIR,\n",
    "        target_size=(CFG.img_height, CFG.img_width),\n",
    "        batch_size=1,\n",
    "        class_mode=\"categorical\",\n",
    "        shuffle=False\n",
    "    )\n",
    "    \n",
    "    # Private Testing Dataset\n",
    "    PRIVATE_TESTING_DIR = \"private_test\"\n",
    "    private_test_datagen = ImageDataGenerator(rescale=1./255.)\n",
    "    private_test_generator = private_test_datagen.flow_from_directory(\n",
    "        PRIVATE_TESTING_DIR,\n",
    "        target_size=(CFG.img_height, CFG.img_width),\n",
    "        batch_size=1,\n",
    "        class_mode=\"categorical\",\n",
    "        shuffle=False\n",
    "    )\n",
    "    \n",
    "    return train_generator, validation_generator, public_test_generator, private_test_generator"
   ]
  },
  {
   "cell_type": "code",
   "execution_count": 22,
   "metadata": {},
   "outputs": [
    {
     "name": "stdout",
     "output_type": "stream",
     "text": [
      "Found 22968 images belonging to 7 classes.\n",
      "Found 5741 images belonging to 7 classes.\n",
      "Found 3589 images belonging to 7 classes.\n",
      "Found 3589 images belonging to 7 classes.\n",
      "WARNING:tensorflow:`input_shape` is undefined or non-square, or `rows` is not in [128, 160, 192, 224]. Weights for input shape (224, 224) will be loaded as the default.\n",
      "Model: \"model\"\n",
      "_________________________________________________________________\n",
      " Layer (type)                Output Shape              Param #   \n",
      "=================================================================\n",
      " input_1 (InputLayer)        [(None, 48, 48, 3)]       0         \n",
      "                                                                 \n",
      " conv1 (Conv2D)              (None, 24, 24, 32)        864       \n",
      "                                                                 \n",
      " conv1_bn (BatchNormalizatio  (None, 24, 24, 32)       128       \n",
      " n)                                                              \n",
      "                                                                 \n",
      " conv1_relu (ReLU)           (None, 24, 24, 32)        0         \n",
      "                                                                 \n",
      " conv_dw_1 (DepthwiseConv2D)  (None, 24, 24, 32)       288       \n",
      "                                                                 \n",
      " conv_dw_1_bn (BatchNormaliz  (None, 24, 24, 32)       128       \n",
      " ation)                                                          \n",
      "                                                                 \n",
      " conv_dw_1_relu (ReLU)       (None, 24, 24, 32)        0         \n",
      "                                                                 \n",
      " conv_pw_1 (Conv2D)          (None, 24, 24, 64)        2048      \n",
      "                                                                 \n",
      " conv_pw_1_bn (BatchNormaliz  (None, 24, 24, 64)       256       \n",
      " ation)                                                          \n",
      "                                                                 \n",
      " conv_pw_1_relu (ReLU)       (None, 24, 24, 64)        0         \n",
      "                                                                 \n",
      " conv_pad_2 (ZeroPadding2D)  (None, 25, 25, 64)        0         \n",
      "                                                                 \n",
      " conv_dw_2 (DepthwiseConv2D)  (None, 12, 12, 64)       576       \n",
      "                                                                 \n",
      " conv_dw_2_bn (BatchNormaliz  (None, 12, 12, 64)       256       \n",
      " ation)                                                          \n",
      "                                                                 \n",
      " conv_dw_2_relu (ReLU)       (None, 12, 12, 64)        0         \n",
      "                                                                 \n",
      " conv_pw_2 (Conv2D)          (None, 12, 12, 128)       8192      \n",
      "                                                                 \n",
      " conv_pw_2_bn (BatchNormaliz  (None, 12, 12, 128)      512       \n",
      " ation)                                                          \n",
      "                                                                 \n",
      " conv_pw_2_relu (ReLU)       (None, 12, 12, 128)       0         \n",
      "                                                                 \n",
      " conv_dw_3 (DepthwiseConv2D)  (None, 12, 12, 128)      1152      \n",
      "                                                                 \n",
      " conv_dw_3_bn (BatchNormaliz  (None, 12, 12, 128)      512       \n",
      " ation)                                                          \n",
      "                                                                 \n",
      " conv_dw_3_relu (ReLU)       (None, 12, 12, 128)       0         \n",
      "                                                                 \n",
      " conv_pw_3 (Conv2D)          (None, 12, 12, 128)       16384     \n",
      "                                                                 \n",
      " conv_pw_3_bn (BatchNormaliz  (None, 12, 12, 128)      512       \n",
      " ation)                                                          \n",
      "                                                                 \n",
      " conv_pw_3_relu (ReLU)       (None, 12, 12, 128)       0         \n",
      "                                                                 \n",
      " conv_pad_4 (ZeroPadding2D)  (None, 13, 13, 128)       0         \n",
      "                                                                 \n",
      " conv_dw_4 (DepthwiseConv2D)  (None, 6, 6, 128)        1152      \n",
      "                                                                 \n",
      " conv_dw_4_bn (BatchNormaliz  (None, 6, 6, 128)        512       \n",
      " ation)                                                          \n",
      "                                                                 \n",
      " conv_dw_4_relu (ReLU)       (None, 6, 6, 128)         0         \n",
      "                                                                 \n",
      " conv_pw_4 (Conv2D)          (None, 6, 6, 256)         32768     \n",
      "                                                                 \n",
      " conv_pw_4_bn (BatchNormaliz  (None, 6, 6, 256)        1024      \n",
      " ation)                                                          \n",
      "                                                                 \n",
      " conv_pw_4_relu (ReLU)       (None, 6, 6, 256)         0         \n",
      "                                                                 \n",
      " conv_dw_5 (DepthwiseConv2D)  (None, 6, 6, 256)        2304      \n",
      "                                                                 \n",
      " conv_dw_5_bn (BatchNormaliz  (None, 6, 6, 256)        1024      \n",
      " ation)                                                          \n",
      "                                                                 \n",
      " conv_dw_5_relu (ReLU)       (None, 6, 6, 256)         0         \n",
      "                                                                 \n",
      " conv_pw_5 (Conv2D)          (None, 6, 6, 256)         65536     \n",
      "                                                                 \n",
      " conv_pw_5_bn (BatchNormaliz  (None, 6, 6, 256)        1024      \n",
      " ation)                                                          \n",
      "                                                                 \n",
      " conv_pw_5_relu (ReLU)       (None, 6, 6, 256)         0         \n",
      "                                                                 \n",
      " conv_pad_6 (ZeroPadding2D)  (None, 7, 7, 256)         0         \n",
      "                                                                 \n",
      " conv_dw_6 (DepthwiseConv2D)  (None, 3, 3, 256)        2304      \n",
      "                                                                 \n",
      " conv_dw_6_bn (BatchNormaliz  (None, 3, 3, 256)        1024      \n",
      " ation)                                                          \n",
      "                                                                 \n",
      " conv_dw_6_relu (ReLU)       (None, 3, 3, 256)         0         \n",
      "                                                                 \n",
      " conv_pw_6 (Conv2D)          (None, 3, 3, 512)         131072    \n",
      "                                                                 \n",
      " conv_pw_6_bn (BatchNormaliz  (None, 3, 3, 512)        2048      \n",
      " ation)                                                          \n",
      "                                                                 \n",
      " conv_pw_6_relu (ReLU)       (None, 3, 3, 512)         0         \n",
      "                                                                 \n",
      " conv_dw_7 (DepthwiseConv2D)  (None, 3, 3, 512)        4608      \n",
      "                                                                 \n",
      " conv_dw_7_bn (BatchNormaliz  (None, 3, 3, 512)        2048      \n",
      " ation)                                                          \n",
      "                                                                 \n",
      " conv_dw_7_relu (ReLU)       (None, 3, 3, 512)         0         \n",
      "                                                                 \n",
      " conv_pw_7 (Conv2D)          (None, 3, 3, 512)         262144    \n",
      "                                                                 \n",
      " conv_pw_7_bn (BatchNormaliz  (None, 3, 3, 512)        2048      \n",
      " ation)                                                          \n",
      "                                                                 \n",
      " conv_pw_7_relu (ReLU)       (None, 3, 3, 512)         0         \n",
      "                                                                 \n",
      " conv_dw_8 (DepthwiseConv2D)  (None, 3, 3, 512)        4608      \n",
      "                                                                 \n",
      " conv_dw_8_bn (BatchNormaliz  (None, 3, 3, 512)        2048      \n",
      " ation)                                                          \n",
      "                                                                 \n",
      " conv_dw_8_relu (ReLU)       (None, 3, 3, 512)         0         \n",
      "                                                                 \n",
      " conv_pw_8 (Conv2D)          (None, 3, 3, 512)         262144    \n",
      "                                                                 \n",
      " conv_pw_8_bn (BatchNormaliz  (None, 3, 3, 512)        2048      \n",
      " ation)                                                          \n",
      "                                                                 \n",
      " conv_pw_8_relu (ReLU)       (None, 3, 3, 512)         0         \n",
      "                                                                 \n",
      " conv_dw_9 (DepthwiseConv2D)  (None, 3, 3, 512)        4608      \n",
      "                                                                 \n",
      " conv_dw_9_bn (BatchNormaliz  (None, 3, 3, 512)        2048      \n",
      " ation)                                                          \n",
      "                                                                 \n",
      " conv_dw_9_relu (ReLU)       (None, 3, 3, 512)         0         \n",
      "                                                                 \n",
      " conv_pw_9 (Conv2D)          (None, 3, 3, 512)         262144    \n",
      "                                                                 \n",
      " conv_pw_9_bn (BatchNormaliz  (None, 3, 3, 512)        2048      \n",
      " ation)                                                          \n",
      "                                                                 \n",
      " conv_pw_9_relu (ReLU)       (None, 3, 3, 512)         0         \n",
      "                                                                 \n",
      " conv_dw_10 (DepthwiseConv2D  (None, 3, 3, 512)        4608      \n",
      " )                                                               \n",
      "                                                                 \n",
      " conv_dw_10_bn (BatchNormali  (None, 3, 3, 512)        2048      \n",
      " zation)                                                         \n",
      "                                                                 \n",
      " conv_dw_10_relu (ReLU)      (None, 3, 3, 512)         0         \n",
      "                                                                 \n",
      " conv_pw_10 (Conv2D)         (None, 3, 3, 512)         262144    \n",
      "                                                                 \n",
      " conv_pw_10_bn (BatchNormali  (None, 3, 3, 512)        2048      \n",
      " zation)                                                         \n",
      "                                                                 \n",
      " conv_pw_10_relu (ReLU)      (None, 3, 3, 512)         0         \n",
      "                                                                 \n",
      " conv_dw_11 (DepthwiseConv2D  (None, 3, 3, 512)        4608      \n",
      " )                                                               \n",
      "                                                                 \n",
      " conv_dw_11_bn (BatchNormali  (None, 3, 3, 512)        2048      \n",
      " zation)                                                         \n",
      "                                                                 \n",
      " conv_dw_11_relu (ReLU)      (None, 3, 3, 512)         0         \n",
      "                                                                 \n",
      " conv_pw_11 (Conv2D)         (None, 3, 3, 512)         262144    \n",
      "                                                                 \n",
      " conv_pw_11_bn (BatchNormali  (None, 3, 3, 512)        2048      \n",
      " zation)                                                         \n",
      "                                                                 \n",
      " conv_pw_11_relu (ReLU)      (None, 3, 3, 512)         0         \n",
      "                                                                 \n",
      " conv_pad_12 (ZeroPadding2D)  (None, 4, 4, 512)        0         \n",
      "                                                                 \n",
      " conv_dw_12 (DepthwiseConv2D  (None, 1, 1, 512)        4608      \n",
      " )                                                               \n",
      "                                                                 \n",
      " conv_dw_12_bn (BatchNormali  (None, 1, 1, 512)        2048      \n",
      " zation)                                                         \n",
      "                                                                 \n",
      " conv_dw_12_relu (ReLU)      (None, 1, 1, 512)         0         \n",
      "                                                                 \n",
      " conv_pw_12 (Conv2D)         (None, 1, 1, 1024)        524288    \n",
      "                                                                 \n",
      " conv_pw_12_bn (BatchNormali  (None, 1, 1, 1024)       4096      \n",
      " zation)                                                         \n",
      "                                                                 \n",
      " conv_pw_12_relu (ReLU)      (None, 1, 1, 1024)        0         \n",
      "                                                                 \n",
      " conv_dw_13 (DepthwiseConv2D  (None, 1, 1, 1024)       9216      \n",
      " )                                                               \n",
      "                                                                 \n",
      " conv_dw_13_bn (BatchNormali  (None, 1, 1, 1024)       4096      \n",
      " zation)                                                         \n",
      "                                                                 \n",
      " conv_dw_13_relu (ReLU)      (None, 1, 1, 1024)        0         \n",
      "                                                                 \n",
      " conv_pw_13 (Conv2D)         (None, 1, 1, 1024)        1048576   \n",
      "                                                                 \n",
      " conv_pw_13_bn (BatchNormali  (None, 1, 1, 1024)       4096      \n",
      " zation)                                                         \n",
      "                                                                 \n",
      " conv_pw_13_relu (ReLU)      (None, 1, 1, 1024)        0         \n",
      "                                                                 \n",
      " global_average_pooling2d (G  (None, 1024)             0         \n",
      " lobalAveragePooling2D)                                          \n",
      "                                                                 \n",
      " dropout (Dropout)           (None, 1024)              0         \n",
      "                                                                 \n",
      " dense (Dense)               (None, 7)                 7175      \n",
      "                                                                 \n",
      "=================================================================\n",
      "Total params: 3,236,039\n",
      "Trainable params: 7,175\n",
      "Non-trainable params: 3,228,864\n",
      "_________________________________________________________________\n"
     ]
    }
   ],
   "source": [
    "# Create data augmentation\n",
    "seed_everything(2023)\n",
    "train_generator, validation_generator, public_test_generator, private_test_generator = data_augmentation()\n",
    "\n",
    "# Load the MobileNet model without the top layer\n",
    "base_model = MobileNet(\n",
    "    input_shape=(CFG.img_height, CFG.img_width, 3),\n",
    "    include_top=False,\n",
    "    weights='imagenet'\n",
    ")\n",
    "\n",
    "# Add a GlobalAveragePooling2D layer and a Dense layer with softmax activation for classification\n",
    "x = base_model.output\n",
    "x = GlobalAveragePooling2D()(x)\n",
    "x = Dropout(0.5)(x)\n",
    "predictions = Dense(train_generator.num_classes, activation='softmax')(x)\n",
    "\n",
    "# Combine the base model with the new layers to create the full model\n",
    "model = Model(inputs=base_model.input, outputs=predictions)\n",
    "\n",
    "# Freeze the weights of the base model to prevent them from being updated during training\n",
    "for layer in base_model.layers:\n",
    "    layer.trainable = False\n",
    "\n",
    "# Compile the model with categorical cross-entropy loss and Adam optimizer\n",
    "model.compile(loss='categorical_crossentropy', optimizer=Adam(lr=0.0001, decay=1e-5), metrics=['accuracy'])\n",
    "model.summary()"
   ]
  },
  {
   "cell_type": "code",
   "execution_count": 23,
   "metadata": {},
   "outputs": [],
   "source": [
    "# Create Callback\n",
    "model_checkpoint = ModelCheckpoint(\n",
    "    \"MobileNetV1.h5\", \n",
    "    monitor=\"val_loss\", \n",
    "    mode=\"min\", \n",
    "    verbose=1,\n",
    "    save_best_only=True\n",
    ")\n",
    "\n",
    "callbacks = [model_checkpoint]"
   ]
  },
  {
   "cell_type": "markdown",
   "metadata": {},
   "source": [
    "#### Training and testing the data using MobileNet"
   ]
  },
  {
   "cell_type": "code",
   "execution_count": 24,
   "metadata": {},
   "outputs": [
    {
     "name": "stdout",
     "output_type": "stream",
     "text": [
      "Epoch 1/25\n",
      "358/358 [==============================] - ETA: 0s - loss: 1.9421 - accuracy: 0.1958\n",
      "Epoch 1: val_loss improved from inf to 1.90639, saving model to MobileNetV1.h5\n",
      "358/358 [==============================] - 124s 344ms/step - loss: 1.9421 - accuracy: 0.1958 - val_loss: 1.9064 - val_accuracy: 0.2518\n",
      "Epoch 2/25\n",
      "358/358 [==============================] - ETA: 0s - loss: 1.9003 - accuracy: 0.2357\n",
      "Epoch 2: val_loss improved from 1.90639 to 1.87463, saving model to MobileNetV1.h5\n",
      "358/358 [==============================] - 28s 77ms/step - loss: 1.9003 - accuracy: 0.2357 - val_loss: 1.8746 - val_accuracy: 0.2532\n",
      "Epoch 3/25\n",
      "358/358 [==============================] - ETA: 0s - loss: 1.8759 - accuracy: 0.2431\n",
      "Epoch 3: val_loss improved from 1.87463 to 1.85581, saving model to MobileNetV1.h5\n",
      "358/358 [==============================] - 29s 82ms/step - loss: 1.8759 - accuracy: 0.2431 - val_loss: 1.8558 - val_accuracy: 0.2533\n",
      "Epoch 4/25\n",
      "358/358 [==============================] - ETA: 0s - loss: 1.8623 - accuracy: 0.2494\n",
      "Epoch 4: val_loss improved from 1.85581 to 1.84067, saving model to MobileNetV1.h5\n",
      "358/358 [==============================] - 28s 77ms/step - loss: 1.8623 - accuracy: 0.2494 - val_loss: 1.8407 - val_accuracy: 0.2532\n",
      "Epoch 5/25\n",
      "358/358 [==============================] - ETA: 0s - loss: 1.8510 - accuracy: 0.2514\n",
      "Epoch 5: val_loss improved from 1.84067 to 1.83089, saving model to MobileNetV1.h5\n",
      "358/358 [==============================] - 27s 75ms/step - loss: 1.8510 - accuracy: 0.2514 - val_loss: 1.8309 - val_accuracy: 0.2532\n",
      "Epoch 6/25\n",
      "358/358 [==============================] - ETA: 0s - loss: 1.8440 - accuracy: 0.2507\n",
      "Epoch 6: val_loss improved from 1.83089 to 1.82416, saving model to MobileNetV1.h5\n",
      "358/358 [==============================] - 26s 74ms/step - loss: 1.8440 - accuracy: 0.2507 - val_loss: 1.8242 - val_accuracy: 0.2533\n",
      "Epoch 7/25\n",
      "358/358 [==============================] - ETA: 0s - loss: 1.8392 - accuracy: 0.2504\n",
      "Epoch 7: val_loss improved from 1.82416 to 1.81625, saving model to MobileNetV1.h5\n",
      "358/358 [==============================] - 26s 73ms/step - loss: 1.8392 - accuracy: 0.2504 - val_loss: 1.8163 - val_accuracy: 0.2532\n",
      "Epoch 8/25\n",
      "358/358 [==============================] - ETA: 0s - loss: 1.8322 - accuracy: 0.2514\n",
      "Epoch 8: val_loss improved from 1.81625 to 1.81195, saving model to MobileNetV1.h5\n",
      "358/358 [==============================] - 27s 74ms/step - loss: 1.8322 - accuracy: 0.2514 - val_loss: 1.8120 - val_accuracy: 0.2537\n",
      "Epoch 9/25\n",
      "358/358 [==============================] - ETA: 0s - loss: 1.8311 - accuracy: 0.2552\n",
      "Epoch 9: val_loss improved from 1.81195 to 1.80949, saving model to MobileNetV1.h5\n",
      "358/358 [==============================] - 27s 75ms/step - loss: 1.8311 - accuracy: 0.2552 - val_loss: 1.8095 - val_accuracy: 0.2542\n",
      "Epoch 10/25\n",
      "358/358 [==============================] - ETA: 0s - loss: 1.8263 - accuracy: 0.2535\n",
      "Epoch 10: val_loss improved from 1.80949 to 1.80645, saving model to MobileNetV1.h5\n",
      "358/358 [==============================] - 28s 77ms/step - loss: 1.8263 - accuracy: 0.2535 - val_loss: 1.8065 - val_accuracy: 0.2542\n",
      "Epoch 11/25\n",
      "358/358 [==============================] - ETA: 0s - loss: 1.8234 - accuracy: 0.2530\n",
      "Epoch 11: val_loss improved from 1.80645 to 1.80123, saving model to MobileNetV1.h5\n",
      "358/358 [==============================] - 29s 80ms/step - loss: 1.8234 - accuracy: 0.2530 - val_loss: 1.8012 - val_accuracy: 0.2540\n",
      "Epoch 12/25\n",
      "358/358 [==============================] - ETA: 0s - loss: 1.8201 - accuracy: 0.2555\n",
      "Epoch 12: val_loss improved from 1.80123 to 1.80090, saving model to MobileNetV1.h5\n",
      "358/358 [==============================] - 28s 78ms/step - loss: 1.8201 - accuracy: 0.2555 - val_loss: 1.8009 - val_accuracy: 0.2542\n",
      "Epoch 13/25\n",
      "358/358 [==============================] - ETA: 0s - loss: 1.8190 - accuracy: 0.2543\n",
      "Epoch 13: val_loss improved from 1.80090 to 1.79903, saving model to MobileNetV1.h5\n",
      "358/358 [==============================] - 28s 78ms/step - loss: 1.8190 - accuracy: 0.2543 - val_loss: 1.7990 - val_accuracy: 0.2549\n",
      "Epoch 14/25\n",
      "358/358 [==============================] - ETA: 0s - loss: 1.8207 - accuracy: 0.2514\n",
      "Epoch 14: val_loss improved from 1.79903 to 1.79836, saving model to MobileNetV1.h5\n",
      "358/358 [==============================] - 28s 79ms/step - loss: 1.8207 - accuracy: 0.2514 - val_loss: 1.7984 - val_accuracy: 0.2549\n",
      "Epoch 15/25\n",
      "358/358 [==============================] - ETA: 0s - loss: 1.8154 - accuracy: 0.2553\n",
      "Epoch 15: val_loss improved from 1.79836 to 1.79531, saving model to MobileNetV1.h5\n",
      "358/358 [==============================] - 29s 82ms/step - loss: 1.8154 - accuracy: 0.2553 - val_loss: 1.7953 - val_accuracy: 0.2540\n",
      "Epoch 16/25\n",
      "358/358 [==============================] - ETA: 0s - loss: 1.8159 - accuracy: 0.2563\n",
      "Epoch 16: val_loss did not improve from 1.79531\n",
      "358/358 [==============================] - 28s 78ms/step - loss: 1.8159 - accuracy: 0.2563 - val_loss: 1.7957 - val_accuracy: 0.2553\n",
      "Epoch 17/25\n",
      "358/358 [==============================] - ETA: 0s - loss: 1.8130 - accuracy: 0.2572\n",
      "Epoch 17: val_loss improved from 1.79531 to 1.79325, saving model to MobileNetV1.h5\n",
      "358/358 [==============================] - 28s 78ms/step - loss: 1.8130 - accuracy: 0.2572 - val_loss: 1.7932 - val_accuracy: 0.2554\n",
      "Epoch 18/25\n",
      "358/358 [==============================] - ETA: 0s - loss: 1.8109 - accuracy: 0.2565\n",
      "Epoch 18: val_loss improved from 1.79325 to 1.79047, saving model to MobileNetV1.h5\n",
      "358/358 [==============================] - 29s 81ms/step - loss: 1.8109 - accuracy: 0.2565 - val_loss: 1.7905 - val_accuracy: 0.2565\n",
      "Epoch 19/25\n",
      "358/358 [==============================] - ETA: 0s - loss: 1.8123 - accuracy: 0.2548\n",
      "Epoch 19: val_loss did not improve from 1.79047\n",
      "358/358 [==============================] - 29s 80ms/step - loss: 1.8123 - accuracy: 0.2548 - val_loss: 1.7916 - val_accuracy: 0.2551\n",
      "Epoch 20/25\n",
      "358/358 [==============================] - ETA: 0s - loss: 1.8120 - accuracy: 0.2546\n",
      "Epoch 20: val_loss improved from 1.79047 to 1.79025, saving model to MobileNetV1.h5\n",
      "358/358 [==============================] - 29s 80ms/step - loss: 1.8120 - accuracy: 0.2546 - val_loss: 1.7903 - val_accuracy: 0.2556\n",
      "Epoch 21/25\n",
      "358/358 [==============================] - ETA: 0s - loss: 1.8116 - accuracy: 0.2559\n",
      "Epoch 21: val_loss did not improve from 1.79025\n",
      "358/358 [==============================] - 28s 79ms/step - loss: 1.8116 - accuracy: 0.2559 - val_loss: 1.7906 - val_accuracy: 0.2560\n",
      "Epoch 22/25\n",
      "358/358 [==============================] - ETA: 0s - loss: 1.8091 - accuracy: 0.2571\n",
      "Epoch 22: val_loss did not improve from 1.79025\n",
      "358/358 [==============================] - 28s 79ms/step - loss: 1.8091 - accuracy: 0.2571 - val_loss: 1.7928 - val_accuracy: 0.2532\n",
      "Epoch 23/25\n",
      "358/358 [==============================] - ETA: 0s - loss: 1.8067 - accuracy: 0.2552\n",
      "Epoch 23: val_loss improved from 1.79025 to 1.78983, saving model to MobileNetV1.h5\n",
      "358/358 [==============================] - 28s 78ms/step - loss: 1.8067 - accuracy: 0.2552 - val_loss: 1.7898 - val_accuracy: 0.2558\n",
      "Epoch 24/25\n",
      "358/358 [==============================] - ETA: 0s - loss: 1.8069 - accuracy: 0.2581\n",
      "Epoch 24: val_loss did not improve from 1.78983\n",
      "358/358 [==============================] - 28s 77ms/step - loss: 1.8069 - accuracy: 0.2581 - val_loss: 1.7920 - val_accuracy: 0.2547\n",
      "Epoch 25/25\n",
      "358/358 [==============================] - ETA: 0s - loss: 1.8062 - accuracy: 0.2568\n",
      "Epoch 25: val_loss did not improve from 1.78983\n",
      "358/358 [==============================] - 28s 78ms/step - loss: 1.8062 - accuracy: 0.2568 - val_loss: 1.7919 - val_accuracy: 0.2563\n"
     ]
    }
   ],
   "source": [
    "# Train the model on the training data\n",
    "history = model.fit(\n",
    "    train_generator,\n",
    "    steps_per_epoch=train_generator.samples // CFG.batch_size,\n",
    "    epochs=CFG.epoch,\n",
    "    validation_data=validation_generator,\n",
    "    validation_steps=validation_generator.samples // CFG.batch_size,\n",
    "    callbacks=callbacks,\n",
    ")"
   ]
  },
  {
   "cell_type": "markdown",
   "metadata": {},
   "source": [
    "#### MobileNet Results"
   ]
  },
  {
   "cell_type": "code",
   "execution_count": 25,
   "metadata": {},
   "outputs": [
    {
     "name": "stdout",
     "output_type": "stream",
     "text": [
      "3589/3589 [==============================] - 15s 4ms/step - loss: 1.7820 - accuracy: 0.2544\n",
      "Evaluate Public Test Accuracy: 25.44%\n",
      "3589/3589 [==============================] - 15s 4ms/step - loss: 1.7902 - accuracy: 0.2477\n",
      "Evaluate Private Test Accuracy: 24.77%\n"
     ]
    }
   ],
   "source": [
    "# Evaluate on Public Test Data\n",
    "public_scores = model.evaluate(public_test_generator)\n",
    "print(\"%s: %.2f%%\" % (\"Evaluate Public Test Accuracy\", public_scores[1]*100))\n",
    "\n",
    "# Evaluate on Private Test Data\n",
    "private_scores = model.evaluate(private_test_generator)\n",
    "print(\"%s: %.2f%%\" % (\"Evaluate Private Test Accuracy\", private_scores[1]*100))"
   ]
  },
  {
   "cell_type": "code",
   "execution_count": 26,
   "metadata": {},
   "outputs": [
    {
     "data": {
      "application/vnd.plotly.v1+json": {
       "config": {
        "plotlyServerURL": "https://plot.ly"
       },
       "data": [
        {
         "line": {
          "color": "#935d39",
          "width": 1.5
         },
         "marker": {
          "color": "#935d39",
          "line": {
           "color": "White",
           "width": 0.5
          },
          "size": 6
         },
         "mode": "markers+lines",
         "name": "Training Loss",
         "type": "scatter",
         "x": [
          1,
          2,
          3,
          4,
          5,
          6,
          7,
          8,
          9,
          10,
          11,
          12,
          13,
          14,
          15,
          16,
          17,
          18,
          19,
          20,
          21,
          22,
          23,
          24,
          25
         ],
         "xaxis": "x",
         "y": [
          1.94206964969635,
          1.9003498554229736,
          1.8759270906448364,
          1.8623089790344238,
          1.850956678390503,
          1.8439868688583374,
          1.839179277420044,
          1.8321603536605835,
          1.831143856048584,
          1.8263132572174072,
          1.8233941793441772,
          1.8201426267623901,
          1.8190410137176514,
          1.8206768035888672,
          1.8153549432754517,
          1.8158836364746094,
          1.8130444288253784,
          1.8109290599822998,
          1.8123115301132202,
          1.8119677305221558,
          1.8116472959518433,
          1.8090872764587402,
          1.806707501411438,
          1.8068560361862183,
          1.8061566352844238
         ],
         "yaxis": "y"
        },
        {
         "line": {
          "color": "#85b8cd",
          "width": 1.5
         },
         "marker": {
          "color": "#85b8cd",
          "line": {
           "color": "White",
           "width": 0.5
          },
          "size": 6
         },
         "mode": "markers+lines",
         "name": "Validation Loss",
         "type": "scatter",
         "x": [
          1,
          2,
          3,
          4,
          5,
          6,
          7,
          8,
          9,
          10,
          11,
          12,
          13,
          14,
          15,
          16,
          17,
          18,
          19,
          20,
          21,
          22,
          23,
          24,
          25
         ],
         "xaxis": "x",
         "y": [
          1.9063929319381714,
          1.874627947807312,
          1.8558142185211182,
          1.8406678438186646,
          1.8308911323547363,
          1.8241618871688843,
          1.8162521123886108,
          1.8119544982910156,
          1.8094911575317383,
          1.8064500093460083,
          1.8012276887893677,
          1.800896406173706,
          1.7990288734436035,
          1.7983578443527222,
          1.7953099012374878,
          1.7957038879394531,
          1.7932478189468384,
          1.7904664278030396,
          1.7916065454483032,
          1.7902506589889526,
          1.7905800342559814,
          1.7928175926208496,
          1.7898259162902832,
          1.7920331954956055,
          1.7919337749481201
         ],
         "yaxis": "y"
        },
        {
         "line": {
          "color": "#935d39",
          "width": 1.5
         },
         "marker": {
          "color": "#935d39",
          "line": {
           "color": "White",
           "width": 0.5
          },
          "size": 6
         },
         "mode": "markers+lines",
         "name": "Training Accuracy",
         "type": "scatter",
         "x": [
          1,
          2,
          3,
          4,
          5,
          6,
          7,
          8,
          9,
          10,
          11,
          12,
          13,
          14,
          15,
          16,
          17,
          18,
          19,
          20,
          21,
          22,
          23,
          24,
          25
         ],
         "xaxis": "x2",
         "y": [
          0.1957736611366272,
          0.23572301864624023,
          0.24314530193805695,
          0.24938875436782837,
          0.25139713287353516,
          0.25074222683906555,
          0.25039294362068176,
          0.25139713287353516,
          0.25519558787345886,
          0.25353649258613586,
          0.2530125677585602,
          0.25554487109184265,
          0.2542787194252014,
          0.25139713287353516,
          0.2552829086780548,
          0.2562870979309082,
          0.25720399618148804,
          0.2564617395401001,
          0.2548026442527771,
          0.25458434224128723,
          0.25589415431022644,
          0.2571166753768921,
          0.25523924827575684,
          0.2580772042274475,
          0.2568110227584839
         ],
         "yaxis": "y2"
        },
        {
         "line": {
          "color": "#85b8cd",
          "width": 1.5
         },
         "marker": {
          "color": "#85b8cd",
          "line": {
           "color": "White",
           "width": 0.5
          },
          "size": 6
         },
         "mode": "markers+lines",
         "name": "Validation Accuracy",
         "type": "scatter",
         "x": [
          1,
          2,
          3,
          4,
          5,
          6,
          7,
          8,
          9,
          10,
          11,
          12,
          13,
          14,
          15,
          16,
          17,
          18,
          19,
          20,
          21,
          22,
          23,
          24,
          25
         ],
         "xaxis": "x2",
         "y": [
          0.25175562500953674,
          0.25316011905670166,
          0.2533356845378876,
          0.25316011905670166,
          0.25316011905670166,
          0.2533356845378876,
          0.25316011905670166,
          0.253686785697937,
          0.25421348214149475,
          0.25421348214149475,
          0.25403791666030884,
          0.25421348214149475,
          0.2549157440662384,
          0.2549157440662384,
          0.25403791666030884,
          0.25526684522628784,
          0.25544241070747375,
          0.25649577379226685,
          0.25509127974510193,
          0.25561797618865967,
          0.2559691071510315,
          0.25316011905670166,
          0.2557935416698456,
          0.2547401785850525,
          0.2563202381134033
         ],
         "yaxis": "y2"
        }
       ],
       "layout": {
        "annotations": [
         {
          "font": {
           "size": 16
          },
          "showarrow": false,
          "text": "Model Loss",
          "x": 0.225,
          "xanchor": "center",
          "xref": "paper",
          "y": 1,
          "yanchor": "bottom",
          "yref": "paper"
         },
         {
          "font": {
           "size": 16
          },
          "showarrow": false,
          "text": "Model Accuracy",
          "x": 0.775,
          "xanchor": "center",
          "xref": "paper",
          "y": 1,
          "yanchor": "bottom",
          "yref": "paper"
         }
        ],
        "font": {
         "family": "Cambria"
        },
        "height": 400,
        "paper_bgcolor": "White",
        "plot_bgcolor": "White",
        "showlegend": false,
        "template": {
         "data": {
          "bar": [
           {
            "error_x": {
             "color": "#2a3f5f"
            },
            "error_y": {
             "color": "#2a3f5f"
            },
            "marker": {
             "line": {
              "color": "#E5ECF6",
              "width": 0.5
             },
             "pattern": {
              "fillmode": "overlay",
              "size": 10,
              "solidity": 0.2
             }
            },
            "type": "bar"
           }
          ],
          "barpolar": [
           {
            "marker": {
             "line": {
              "color": "#E5ECF6",
              "width": 0.5
             },
             "pattern": {
              "fillmode": "overlay",
              "size": 10,
              "solidity": 0.2
             }
            },
            "type": "barpolar"
           }
          ],
          "carpet": [
           {
            "aaxis": {
             "endlinecolor": "#2a3f5f",
             "gridcolor": "white",
             "linecolor": "white",
             "minorgridcolor": "white",
             "startlinecolor": "#2a3f5f"
            },
            "baxis": {
             "endlinecolor": "#2a3f5f",
             "gridcolor": "white",
             "linecolor": "white",
             "minorgridcolor": "white",
             "startlinecolor": "#2a3f5f"
            },
            "type": "carpet"
           }
          ],
          "choropleth": [
           {
            "colorbar": {
             "outlinewidth": 0,
             "ticks": ""
            },
            "type": "choropleth"
           }
          ],
          "contour": [
           {
            "colorbar": {
             "outlinewidth": 0,
             "ticks": ""
            },
            "colorscale": [
             [
              0,
              "#0d0887"
             ],
             [
              0.1111111111111111,
              "#46039f"
             ],
             [
              0.2222222222222222,
              "#7201a8"
             ],
             [
              0.3333333333333333,
              "#9c179e"
             ],
             [
              0.4444444444444444,
              "#bd3786"
             ],
             [
              0.5555555555555556,
              "#d8576b"
             ],
             [
              0.6666666666666666,
              "#ed7953"
             ],
             [
              0.7777777777777778,
              "#fb9f3a"
             ],
             [
              0.8888888888888888,
              "#fdca26"
             ],
             [
              1,
              "#f0f921"
             ]
            ],
            "type": "contour"
           }
          ],
          "contourcarpet": [
           {
            "colorbar": {
             "outlinewidth": 0,
             "ticks": ""
            },
            "type": "contourcarpet"
           }
          ],
          "heatmap": [
           {
            "colorbar": {
             "outlinewidth": 0,
             "ticks": ""
            },
            "colorscale": [
             [
              0,
              "#0d0887"
             ],
             [
              0.1111111111111111,
              "#46039f"
             ],
             [
              0.2222222222222222,
              "#7201a8"
             ],
             [
              0.3333333333333333,
              "#9c179e"
             ],
             [
              0.4444444444444444,
              "#bd3786"
             ],
             [
              0.5555555555555556,
              "#d8576b"
             ],
             [
              0.6666666666666666,
              "#ed7953"
             ],
             [
              0.7777777777777778,
              "#fb9f3a"
             ],
             [
              0.8888888888888888,
              "#fdca26"
             ],
             [
              1,
              "#f0f921"
             ]
            ],
            "type": "heatmap"
           }
          ],
          "heatmapgl": [
           {
            "colorbar": {
             "outlinewidth": 0,
             "ticks": ""
            },
            "colorscale": [
             [
              0,
              "#0d0887"
             ],
             [
              0.1111111111111111,
              "#46039f"
             ],
             [
              0.2222222222222222,
              "#7201a8"
             ],
             [
              0.3333333333333333,
              "#9c179e"
             ],
             [
              0.4444444444444444,
              "#bd3786"
             ],
             [
              0.5555555555555556,
              "#d8576b"
             ],
             [
              0.6666666666666666,
              "#ed7953"
             ],
             [
              0.7777777777777778,
              "#fb9f3a"
             ],
             [
              0.8888888888888888,
              "#fdca26"
             ],
             [
              1,
              "#f0f921"
             ]
            ],
            "type": "heatmapgl"
           }
          ],
          "histogram": [
           {
            "marker": {
             "pattern": {
              "fillmode": "overlay",
              "size": 10,
              "solidity": 0.2
             }
            },
            "type": "histogram"
           }
          ],
          "histogram2d": [
           {
            "colorbar": {
             "outlinewidth": 0,
             "ticks": ""
            },
            "colorscale": [
             [
              0,
              "#0d0887"
             ],
             [
              0.1111111111111111,
              "#46039f"
             ],
             [
              0.2222222222222222,
              "#7201a8"
             ],
             [
              0.3333333333333333,
              "#9c179e"
             ],
             [
              0.4444444444444444,
              "#bd3786"
             ],
             [
              0.5555555555555556,
              "#d8576b"
             ],
             [
              0.6666666666666666,
              "#ed7953"
             ],
             [
              0.7777777777777778,
              "#fb9f3a"
             ],
             [
              0.8888888888888888,
              "#fdca26"
             ],
             [
              1,
              "#f0f921"
             ]
            ],
            "type": "histogram2d"
           }
          ],
          "histogram2dcontour": [
           {
            "colorbar": {
             "outlinewidth": 0,
             "ticks": ""
            },
            "colorscale": [
             [
              0,
              "#0d0887"
             ],
             [
              0.1111111111111111,
              "#46039f"
             ],
             [
              0.2222222222222222,
              "#7201a8"
             ],
             [
              0.3333333333333333,
              "#9c179e"
             ],
             [
              0.4444444444444444,
              "#bd3786"
             ],
             [
              0.5555555555555556,
              "#d8576b"
             ],
             [
              0.6666666666666666,
              "#ed7953"
             ],
             [
              0.7777777777777778,
              "#fb9f3a"
             ],
             [
              0.8888888888888888,
              "#fdca26"
             ],
             [
              1,
              "#f0f921"
             ]
            ],
            "type": "histogram2dcontour"
           }
          ],
          "mesh3d": [
           {
            "colorbar": {
             "outlinewidth": 0,
             "ticks": ""
            },
            "type": "mesh3d"
           }
          ],
          "parcoords": [
           {
            "line": {
             "colorbar": {
              "outlinewidth": 0,
              "ticks": ""
             }
            },
            "type": "parcoords"
           }
          ],
          "pie": [
           {
            "automargin": true,
            "type": "pie"
           }
          ],
          "scatter": [
           {
            "fillpattern": {
             "fillmode": "overlay",
             "size": 10,
             "solidity": 0.2
            },
            "type": "scatter"
           }
          ],
          "scatter3d": [
           {
            "line": {
             "colorbar": {
              "outlinewidth": 0,
              "ticks": ""
             }
            },
            "marker": {
             "colorbar": {
              "outlinewidth": 0,
              "ticks": ""
             }
            },
            "type": "scatter3d"
           }
          ],
          "scattercarpet": [
           {
            "marker": {
             "colorbar": {
              "outlinewidth": 0,
              "ticks": ""
             }
            },
            "type": "scattercarpet"
           }
          ],
          "scattergeo": [
           {
            "marker": {
             "colorbar": {
              "outlinewidth": 0,
              "ticks": ""
             }
            },
            "type": "scattergeo"
           }
          ],
          "scattergl": [
           {
            "marker": {
             "colorbar": {
              "outlinewidth": 0,
              "ticks": ""
             }
            },
            "type": "scattergl"
           }
          ],
          "scattermapbox": [
           {
            "marker": {
             "colorbar": {
              "outlinewidth": 0,
              "ticks": ""
             }
            },
            "type": "scattermapbox"
           }
          ],
          "scatterpolar": [
           {
            "marker": {
             "colorbar": {
              "outlinewidth": 0,
              "ticks": ""
             }
            },
            "type": "scatterpolar"
           }
          ],
          "scatterpolargl": [
           {
            "marker": {
             "colorbar": {
              "outlinewidth": 0,
              "ticks": ""
             }
            },
            "type": "scatterpolargl"
           }
          ],
          "scatterternary": [
           {
            "marker": {
             "colorbar": {
              "outlinewidth": 0,
              "ticks": ""
             }
            },
            "type": "scatterternary"
           }
          ],
          "surface": [
           {
            "colorbar": {
             "outlinewidth": 0,
             "ticks": ""
            },
            "colorscale": [
             [
              0,
              "#0d0887"
             ],
             [
              0.1111111111111111,
              "#46039f"
             ],
             [
              0.2222222222222222,
              "#7201a8"
             ],
             [
              0.3333333333333333,
              "#9c179e"
             ],
             [
              0.4444444444444444,
              "#bd3786"
             ],
             [
              0.5555555555555556,
              "#d8576b"
             ],
             [
              0.6666666666666666,
              "#ed7953"
             ],
             [
              0.7777777777777778,
              "#fb9f3a"
             ],
             [
              0.8888888888888888,
              "#fdca26"
             ],
             [
              1,
              "#f0f921"
             ]
            ],
            "type": "surface"
           }
          ],
          "table": [
           {
            "cells": {
             "fill": {
              "color": "#EBF0F8"
             },
             "line": {
              "color": "white"
             }
            },
            "header": {
             "fill": {
              "color": "#C8D4E3"
             },
             "line": {
              "color": "white"
             }
            },
            "type": "table"
           }
          ]
         },
         "layout": {
          "annotationdefaults": {
           "arrowcolor": "#2a3f5f",
           "arrowhead": 0,
           "arrowwidth": 1
          },
          "autotypenumbers": "strict",
          "coloraxis": {
           "colorbar": {
            "outlinewidth": 0,
            "ticks": ""
           }
          },
          "colorscale": {
           "diverging": [
            [
             0,
             "#8e0152"
            ],
            [
             0.1,
             "#c51b7d"
            ],
            [
             0.2,
             "#de77ae"
            ],
            [
             0.3,
             "#f1b6da"
            ],
            [
             0.4,
             "#fde0ef"
            ],
            [
             0.5,
             "#f7f7f7"
            ],
            [
             0.6,
             "#e6f5d0"
            ],
            [
             0.7,
             "#b8e186"
            ],
            [
             0.8,
             "#7fbc41"
            ],
            [
             0.9,
             "#4d9221"
            ],
            [
             1,
             "#276419"
            ]
           ],
           "sequential": [
            [
             0,
             "#0d0887"
            ],
            [
             0.1111111111111111,
             "#46039f"
            ],
            [
             0.2222222222222222,
             "#7201a8"
            ],
            [
             0.3333333333333333,
             "#9c179e"
            ],
            [
             0.4444444444444444,
             "#bd3786"
            ],
            [
             0.5555555555555556,
             "#d8576b"
            ],
            [
             0.6666666666666666,
             "#ed7953"
            ],
            [
             0.7777777777777778,
             "#fb9f3a"
            ],
            [
             0.8888888888888888,
             "#fdca26"
            ],
            [
             1,
             "#f0f921"
            ]
           ],
           "sequentialminus": [
            [
             0,
             "#0d0887"
            ],
            [
             0.1111111111111111,
             "#46039f"
            ],
            [
             0.2222222222222222,
             "#7201a8"
            ],
            [
             0.3333333333333333,
             "#9c179e"
            ],
            [
             0.4444444444444444,
             "#bd3786"
            ],
            [
             0.5555555555555556,
             "#d8576b"
            ],
            [
             0.6666666666666666,
             "#ed7953"
            ],
            [
             0.7777777777777778,
             "#fb9f3a"
            ],
            [
             0.8888888888888888,
             "#fdca26"
            ],
            [
             1,
             "#f0f921"
            ]
           ]
          },
          "colorway": [
           "#636efa",
           "#EF553B",
           "#00cc96",
           "#ab63fa",
           "#FFA15A",
           "#19d3f3",
           "#FF6692",
           "#B6E880",
           "#FF97FF",
           "#FECB52"
          ],
          "font": {
           "color": "#2a3f5f"
          },
          "geo": {
           "bgcolor": "white",
           "lakecolor": "white",
           "landcolor": "#E5ECF6",
           "showlakes": true,
           "showland": true,
           "subunitcolor": "white"
          },
          "hoverlabel": {
           "align": "left"
          },
          "hovermode": "closest",
          "mapbox": {
           "style": "light"
          },
          "paper_bgcolor": "white",
          "plot_bgcolor": "#E5ECF6",
          "polar": {
           "angularaxis": {
            "gridcolor": "white",
            "linecolor": "white",
            "ticks": ""
           },
           "bgcolor": "#E5ECF6",
           "radialaxis": {
            "gridcolor": "white",
            "linecolor": "white",
            "ticks": ""
           }
          },
          "scene": {
           "xaxis": {
            "backgroundcolor": "#E5ECF6",
            "gridcolor": "white",
            "gridwidth": 2,
            "linecolor": "white",
            "showbackground": true,
            "ticks": "",
            "zerolinecolor": "white"
           },
           "yaxis": {
            "backgroundcolor": "#E5ECF6",
            "gridcolor": "white",
            "gridwidth": 2,
            "linecolor": "white",
            "showbackground": true,
            "ticks": "",
            "zerolinecolor": "white"
           },
           "zaxis": {
            "backgroundcolor": "#E5ECF6",
            "gridcolor": "white",
            "gridwidth": 2,
            "linecolor": "white",
            "showbackground": true,
            "ticks": "",
            "zerolinecolor": "white"
           }
          },
          "shapedefaults": {
           "line": {
            "color": "#2a3f5f"
           }
          },
          "ternary": {
           "aaxis": {
            "gridcolor": "white",
            "linecolor": "white",
            "ticks": ""
           },
           "baxis": {
            "gridcolor": "white",
            "linecolor": "white",
            "ticks": ""
           },
           "bgcolor": "#E5ECF6",
           "caxis": {
            "gridcolor": "white",
            "linecolor": "white",
            "ticks": ""
           }
          },
          "title": {
           "x": 0.05
          },
          "xaxis": {
           "automargin": true,
           "gridcolor": "white",
           "linecolor": "white",
           "ticks": "",
           "title": {
            "standoff": 15
           },
           "zerolinecolor": "white",
           "zerolinewidth": 2
          },
          "yaxis": {
           "automargin": true,
           "gridcolor": "white",
           "linecolor": "white",
           "ticks": "",
           "title": {
            "standoff": 15
           },
           "zerolinecolor": "white",
           "zerolinewidth": 2
          }
         }
        },
        "title": {
         "text": "Training and Validation Results",
         "x": 0.5
        },
        "width": 950,
        "xaxis": {
         "anchor": "y",
         "domain": [
          0,
          0.45
         ],
         "linecolor": "Black",
         "ticks": "outside",
         "title": {
          "text": "Epochs"
         }
        },
        "xaxis2": {
         "anchor": "y2",
         "domain": [
          0.55,
          1
         ],
         "linecolor": "Black",
         "ticks": "outside",
         "title": {
          "text": "Epochs"
         }
        },
        "yaxis": {
         "anchor": "x",
         "domain": [
          0,
          1
         ],
         "linecolor": "Black",
         "ticks": "outside",
         "title": {
          "text": "Categorical Loss"
         }
        },
        "yaxis2": {
         "anchor": "x2",
         "domain": [
          0,
          1
         ],
         "linecolor": "Black",
         "ticks": "outside",
         "title": {
          "text": "Accuracy"
         }
        }
       }
      }
     },
     "metadata": {},
     "output_type": "display_data"
    }
   ],
   "source": [
    "# Visualize Training and Validation Results\n",
    "\n",
    "# Create Subplot\n",
    "fig = make_subplots(\n",
    "        rows=1, cols=2,\n",
    "        subplot_titles=[\"Model Loss\", \"Model Accuracy\"], \n",
    ")\n",
    "\n",
    "# Loss Plot\n",
    "loss = history.history['loss']\n",
    "val_loss = history.history['val_loss']\n",
    "fig.add_trace(\n",
    "    go.Scatter(\n",
    "        x=np.arange(1, len(loss)+1), y=loss,\n",
    "        mode=\"markers+lines\",\n",
    "        marker=dict(\n",
    "            color=\"#935d39\", size=6,\n",
    "            line=dict(color=\"White\", width=0.5)\n",
    "        ),\n",
    "        line=dict(color=\"#935d39\", width=1.5),\n",
    "        name=\"Training Loss\"\n",
    "    ), row=1, col=1\n",
    ")\n",
    "fig.add_trace(\n",
    "    go.Scatter(\n",
    "        x=np.arange(1, len(val_loss)+1), y=val_loss,\n",
    "        mode=\"markers+lines\",\n",
    "        marker=dict(\n",
    "            color=\"#85b8cd\", size=6,\n",
    "            line=dict(color=\"White\", width=0.5)\n",
    "        ),\n",
    "        line=dict(color=\"#85b8cd\", width=1.5),\n",
    "        name=\"Validation Loss\"\n",
    "    ), row=1, col=1\n",
    ")\n",
    "\n",
    "# Accuracy Plot\n",
    "acc = history.history['accuracy']\n",
    "val_acc = history.history['val_accuracy']\n",
    "fig.add_trace(\n",
    "    go.Scatter(\n",
    "        x=np.arange(1, len(acc)+1), y=acc,\n",
    "        mode=\"markers+lines\",\n",
    "        marker=dict(\n",
    "            color=\"#935d39\", size=6,\n",
    "            line=dict(color=\"White\", width=0.5)\n",
    "        ),\n",
    "        line=dict(color=\"#935d39\", width=1.5),\n",
    "        name=\"Training Accuracy\"\n",
    "    ), row=1, col=2\n",
    ")\n",
    "fig.add_trace(\n",
    "    go.Scatter(\n",
    "        x=np.arange(1, len(val_acc)+1), y=val_acc,\n",
    "        mode=\"markers+lines\",\n",
    "        marker=dict(\n",
    "            color=\"#85b8cd\", size=6,\n",
    "            line=dict(color=\"White\", width=0.5)\n",
    "        ),\n",
    "        line=dict(color=\"#85b8cd\", width=1.5),\n",
    "        name=\"Validation Accuracy\"\n",
    "    ), row=1, col=2\n",
    ")\n",
    "\n",
    "# Update Axes\n",
    "fig.update_xaxes(title=\"Epochs\", linecolor=\"Black\", ticks=\"outside\", row=1, col=1)\n",
    "fig.update_xaxes(title=\"Epochs\", linecolor=\"Black\", ticks=\"outside\", row=1, col=2)\n",
    "fig.update_yaxes(title=\"Categorical Loss\", linecolor=\"Black\", ticks=\"outside\", row=1, col=1)\n",
    "fig.update_yaxes(title=\"Accuracy\", linecolor=\"Black\", ticks=\"outside\", row=1, col=2)\n",
    "\n",
    "# Update Layout\n",
    "fig.update_layout(\n",
    "    title=\"Training and Validation Results\", title_x=0.5, font_family=\"Cambria\",\n",
    "    width=950, height=400,\n",
    "    showlegend=False,\n",
    "    plot_bgcolor=\"White\",\n",
    "    paper_bgcolor=\"White\"\n",
    ")\n",
    "\n",
    "# Show\n",
    "fig.show(iframe_connected=True)"
   ]
  },
  {
   "cell_type": "code",
   "execution_count": 27,
   "metadata": {},
   "outputs": [
    {
     "name": "stdout",
     "output_type": "stream",
     "text": [
      "3589/3589 [==============================] - 11s 3ms/step\n",
      "tf.Tensor(\n",
      "[[  0   0   0 463   4   0   0]\n",
      " [  0   0   0  56   0   0   0]\n",
      " [  0   0   0 487   9   0   0]\n",
      " [  0   0   0 885   9   0   1]\n",
      " [  0   0   0 587  19   0   1]\n",
      " [  0   0   0 649   4   0   0]\n",
      " [  0   0   0 396  10   0   9]], shape=(7, 7), dtype=int32)\n"
     ]
    }
   ],
   "source": [
    "# Confusion Matrix\n",
    "predictions = model.predict(public_test_generator)\n",
    "\n",
    "# Get the true labels from the generator\n",
    "true_labels = public_test_generator.classes\n",
    "\n",
    "# Compute the confusion matrix using tf.math.confusion_matrix\n",
    "confusion_matrix = tf.math.confusion_matrix(\n",
    "        labels=true_labels,\n",
    "        predictions=predictions.argmax(axis=1),\n",
    "        num_classes=7)\n",
    "\n",
    "# Print the confusion matrix\n",
    "print(confusion_matrix)"
   ]
  },
  {
   "cell_type": "code",
   "execution_count": null,
   "metadata": {},
   "outputs": [],
   "source": []
  }
 ],
 "metadata": {
  "kernelspec": {
   "display_name": "Python 3",
   "language": "python",
   "name": "python3"
  },
  "language_info": {
   "codemirror_mode": {
    "name": "ipython",
    "version": 3
   },
   "file_extension": ".py",
   "mimetype": "text/x-python",
   "name": "python",
   "nbconvert_exporter": "python",
   "pygments_lexer": "ipython3",
   "version": "3.10.3"
  },
  "orig_nbformat": 4
 },
 "nbformat": 4,
 "nbformat_minor": 2
}
